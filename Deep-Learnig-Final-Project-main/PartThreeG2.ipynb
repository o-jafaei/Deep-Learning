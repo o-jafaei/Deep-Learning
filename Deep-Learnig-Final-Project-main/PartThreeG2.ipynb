{
  "cells": [
    {
      "cell_type": "markdown",
      "source": [
        "##Omid Jafaei\n",
        "\n",
        "##Mohammad Jawad Amin\n",
        "\n",
        "##Mohammad Reza Baqeri"
      ],
      "metadata": {
        "id": "DV_w0-EAjHab"
      }
    },
    {
      "cell_type": "code",
      "execution_count": 1,
      "metadata": {
        "colab": {
          "base_uri": "https://localhost:8080/"
        },
        "id": "6Myur-tKCn-C",
        "outputId": "5f8dc95d-edb2-4230-eccf-db895a750fd6"
      },
      "outputs": [
        {
          "output_type": "stream",
          "name": "stdout",
          "text": [
            "/content/Codes\n"
          ]
        }
      ],
      "source": [
        "!mkdir /content/Codes\n",
        "%cd /content/Codes"
      ]
    },
    {
      "cell_type": "markdown",
      "metadata": {
        "id": "uvBI0pqnp0Yx"
      },
      "source": [
        "# Import libraries"
      ]
    },
    {
      "cell_type": "code",
      "execution_count": 2,
      "metadata": {
        "id": "gEaEAjg7tymT"
      },
      "outputs": [],
      "source": [
        "%%capture\n",
        "!pip install -U transformers\n",
        "!pip install gdown"
      ]
    },
    {
      "cell_type": "code",
      "source": [
        "from google.colab import files\n",
        "\n",
        "uploaded = files.upload()"
      ],
      "metadata": {
        "colab": {
          "base_uri": "https://localhost:8080/",
          "height": 73
        },
        "id": "BvtsuOyoj9iC",
        "outputId": "2204764c-8f65-43a8-d8f6-3bdf1741dffe"
      },
      "execution_count": 3,
      "outputs": [
        {
          "output_type": "display_data",
          "data": {
            "text/plain": [
              "<IPython.core.display.HTML object>"
            ],
            "text/html": [
              "\n",
              "     <input type=\"file\" id=\"files-e7961319-e0e9-43ba-94d3-942f60de5b98\" name=\"files[]\" multiple disabled\n",
              "        style=\"border:none\" />\n",
              "     <output id=\"result-e7961319-e0e9-43ba-94d3-942f60de5b98\">\n",
              "      Upload widget is only available when the cell has been executed in the\n",
              "      current browser session. Please rerun this cell to enable.\n",
              "      </output>\n",
              "      <script>// Copyright 2017 Google LLC\n",
              "//\n",
              "// Licensed under the Apache License, Version 2.0 (the \"License\");\n",
              "// you may not use this file except in compliance with the License.\n",
              "// You may obtain a copy of the License at\n",
              "//\n",
              "//      http://www.apache.org/licenses/LICENSE-2.0\n",
              "//\n",
              "// Unless required by applicable law or agreed to in writing, software\n",
              "// distributed under the License is distributed on an \"AS IS\" BASIS,\n",
              "// WITHOUT WARRANTIES OR CONDITIONS OF ANY KIND, either express or implied.\n",
              "// See the License for the specific language governing permissions and\n",
              "// limitations under the License.\n",
              "\n",
              "/**\n",
              " * @fileoverview Helpers for google.colab Python module.\n",
              " */\n",
              "(function(scope) {\n",
              "function span(text, styleAttributes = {}) {\n",
              "  const element = document.createElement('span');\n",
              "  element.textContent = text;\n",
              "  for (const key of Object.keys(styleAttributes)) {\n",
              "    element.style[key] = styleAttributes[key];\n",
              "  }\n",
              "  return element;\n",
              "}\n",
              "\n",
              "// Max number of bytes which will be uploaded at a time.\n",
              "const MAX_PAYLOAD_SIZE = 100 * 1024;\n",
              "\n",
              "function _uploadFiles(inputId, outputId) {\n",
              "  const steps = uploadFilesStep(inputId, outputId);\n",
              "  const outputElement = document.getElementById(outputId);\n",
              "  // Cache steps on the outputElement to make it available for the next call\n",
              "  // to uploadFilesContinue from Python.\n",
              "  outputElement.steps = steps;\n",
              "\n",
              "  return _uploadFilesContinue(outputId);\n",
              "}\n",
              "\n",
              "// This is roughly an async generator (not supported in the browser yet),\n",
              "// where there are multiple asynchronous steps and the Python side is going\n",
              "// to poll for completion of each step.\n",
              "// This uses a Promise to block the python side on completion of each step,\n",
              "// then passes the result of the previous step as the input to the next step.\n",
              "function _uploadFilesContinue(outputId) {\n",
              "  const outputElement = document.getElementById(outputId);\n",
              "  const steps = outputElement.steps;\n",
              "\n",
              "  const next = steps.next(outputElement.lastPromiseValue);\n",
              "  return Promise.resolve(next.value.promise).then((value) => {\n",
              "    // Cache the last promise value to make it available to the next\n",
              "    // step of the generator.\n",
              "    outputElement.lastPromiseValue = value;\n",
              "    return next.value.response;\n",
              "  });\n",
              "}\n",
              "\n",
              "/**\n",
              " * Generator function which is called between each async step of the upload\n",
              " * process.\n",
              " * @param {string} inputId Element ID of the input file picker element.\n",
              " * @param {string} outputId Element ID of the output display.\n",
              " * @return {!Iterable<!Object>} Iterable of next steps.\n",
              " */\n",
              "function* uploadFilesStep(inputId, outputId) {\n",
              "  const inputElement = document.getElementById(inputId);\n",
              "  inputElement.disabled = false;\n",
              "\n",
              "  const outputElement = document.getElementById(outputId);\n",
              "  outputElement.innerHTML = '';\n",
              "\n",
              "  const pickedPromise = new Promise((resolve) => {\n",
              "    inputElement.addEventListener('change', (e) => {\n",
              "      resolve(e.target.files);\n",
              "    });\n",
              "  });\n",
              "\n",
              "  const cancel = document.createElement('button');\n",
              "  inputElement.parentElement.appendChild(cancel);\n",
              "  cancel.textContent = 'Cancel upload';\n",
              "  const cancelPromise = new Promise((resolve) => {\n",
              "    cancel.onclick = () => {\n",
              "      resolve(null);\n",
              "    };\n",
              "  });\n",
              "\n",
              "  // Wait for the user to pick the files.\n",
              "  const files = yield {\n",
              "    promise: Promise.race([pickedPromise, cancelPromise]),\n",
              "    response: {\n",
              "      action: 'starting',\n",
              "    }\n",
              "  };\n",
              "\n",
              "  cancel.remove();\n",
              "\n",
              "  // Disable the input element since further picks are not allowed.\n",
              "  inputElement.disabled = true;\n",
              "\n",
              "  if (!files) {\n",
              "    return {\n",
              "      response: {\n",
              "        action: 'complete',\n",
              "      }\n",
              "    };\n",
              "  }\n",
              "\n",
              "  for (const file of files) {\n",
              "    const li = document.createElement('li');\n",
              "    li.append(span(file.name, {fontWeight: 'bold'}));\n",
              "    li.append(span(\n",
              "        `(${file.type || 'n/a'}) - ${file.size} bytes, ` +\n",
              "        `last modified: ${\n",
              "            file.lastModifiedDate ? file.lastModifiedDate.toLocaleDateString() :\n",
              "                                    'n/a'} - `));\n",
              "    const percent = span('0% done');\n",
              "    li.appendChild(percent);\n",
              "\n",
              "    outputElement.appendChild(li);\n",
              "\n",
              "    const fileDataPromise = new Promise((resolve) => {\n",
              "      const reader = new FileReader();\n",
              "      reader.onload = (e) => {\n",
              "        resolve(e.target.result);\n",
              "      };\n",
              "      reader.readAsArrayBuffer(file);\n",
              "    });\n",
              "    // Wait for the data to be ready.\n",
              "    let fileData = yield {\n",
              "      promise: fileDataPromise,\n",
              "      response: {\n",
              "        action: 'continue',\n",
              "      }\n",
              "    };\n",
              "\n",
              "    // Use a chunked sending to avoid message size limits. See b/62115660.\n",
              "    let position = 0;\n",
              "    do {\n",
              "      const length = Math.min(fileData.byteLength - position, MAX_PAYLOAD_SIZE);\n",
              "      const chunk = new Uint8Array(fileData, position, length);\n",
              "      position += length;\n",
              "\n",
              "      const base64 = btoa(String.fromCharCode.apply(null, chunk));\n",
              "      yield {\n",
              "        response: {\n",
              "          action: 'append',\n",
              "          file: file.name,\n",
              "          data: base64,\n",
              "        },\n",
              "      };\n",
              "\n",
              "      let percentDone = fileData.byteLength === 0 ?\n",
              "          100 :\n",
              "          Math.round((position / fileData.byteLength) * 100);\n",
              "      percent.textContent = `${percentDone}% done`;\n",
              "\n",
              "    } while (position < fileData.byteLength);\n",
              "  }\n",
              "\n",
              "  // All done.\n",
              "  yield {\n",
              "    response: {\n",
              "      action: 'complete',\n",
              "    }\n",
              "  };\n",
              "}\n",
              "\n",
              "scope.google = scope.google || {};\n",
              "scope.google.colab = scope.google.colab || {};\n",
              "scope.google.colab._files = {\n",
              "  _uploadFiles,\n",
              "  _uploadFilesContinue,\n",
              "};\n",
              "})(self);\n",
              "</script> "
            ]
          },
          "metadata": {}
        },
        {
          "output_type": "stream",
          "name": "stdout",
          "text": [
            "Saving utilityG.py to utilityG.py\n"
          ]
        }
      ]
    },
    {
      "cell_type": "code",
      "execution_count": 4,
      "metadata": {
        "id": "dH7XbHIMOF7I"
      },
      "outputs": [],
      "source": [
        "from transformers import AutoTokenizer, set_seed, GPT2LMHeadModel, GPT2Tokenizer\n",
        "from torch.utils.data import DataLoader\n",
        "import torch.optim as optim\n",
        "import torch.nn as nn\n",
        "import numpy as np\n",
        "import utilityG\n",
        "import random\n",
        "import torch\n",
        "import warnings\n",
        "\n",
        "\n",
        "warnings.filterwarnings('ignore', category=UserWarning)\n",
        "%load_ext autoreload\n",
        "%autoreload 2"
      ]
    },
    {
      "cell_type": "code",
      "execution_count": 5,
      "metadata": {
        "colab": {
          "base_uri": "https://localhost:8080/"
        },
        "id": "m2eYGjfQ83cl",
        "outputId": "5b9b0427-5a4a-44c5-ec04-b674339b665d"
      },
      "outputs": [
        {
          "output_type": "stream",
          "name": "stdout",
          "text": [
            "Mounted at /content/drive\n"
          ]
        }
      ],
      "source": [
        "from google.colab import drive\n",
        "drive.mount('/content/drive')"
      ]
    },
    {
      "cell_type": "markdown",
      "metadata": {
        "id": "3rHExCmLxCIr"
      },
      "source": [
        "# Hyperparameters"
      ]
    },
    {
      "cell_type": "code",
      "execution_count": 6,
      "metadata": {
        "id": "03TubSS0xP17"
      },
      "outputs": [],
      "source": [
        "model_name = 'bert-base-uncased'\n",
        "\n",
        "num_epochs = 4\n",
        "\n",
        "learning_rate = 3e-4\n",
        "\n",
        "n_class_dataset = 6\n",
        "\n",
        "p_dropout = 0.2\n",
        "\n",
        "batch_size = 64\n",
        "\n",
        "d_in = 100\n",
        "\n",
        "d_out = 768\n",
        "\n",
        "Seed = 42\n",
        "\n",
        "max_length = 64\n",
        "\n",
        "device = torch.device('cuda' if torch.cuda.is_available() else 'cpu')\n",
        "\n",
        "lambda_sup = 1\n",
        "lambda_feat = 1"
      ]
    },
    {
      "cell_type": "markdown",
      "metadata": {
        "id": "8SKXSnNOo7Ok"
      },
      "source": [
        "# GAN-Bert Model\n",
        "\n",
        "## Generator_2 (GPT2)\n",
        "\n",
        "The `Generator_2` class is a network for a  generate noise. It uses the GPT-2 model from the Hugging Face Transformers library for text generation, and a BERT mode..\n",
        "\n",
        "### Initialization\n",
        "\n",
        "The class is initialized with a BERT tokenizer, a device (for running the model), and the names of the BERT and GPT-2 models. During initialization, it does the following:\n",
        "\n",
        "- Loads the GPT-2 tokenizer and model, and resizes the model's token embeddings to match the tokenizer's vocabulary size.\n",
        "- Moves the model to the specified device.\n",
        "- Initializes the BERT model.\n",
        "\n",
        "### Text Noise\n",
        "\n",
        "The `generate` method generates text given an input prompt. It uses the GPT-2 model's `generate` method, which generates text by sampling from the model's output distribution. The method takes several parameters that control the text generation process, such as the maximum length of the generated text, the number of beams for beam search, the temperature for controlling the randomness of the output, and the top-k and top-p values for top-k sampling and nucleus sampling, respectively.\n",
        "\n",
        "After generating the text, the method uses a BERT model to process the generated noise.\n",
        "\n",
        "The method returns the noise."
      ]
    },
    {
      "cell_type": "markdown",
      "metadata": {
        "id": "tka1aclNpbeX"
      },
      "source": [
        "![2.png](data:image/png;base64,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)"
      ]
    },
    {
      "cell_type": "code",
      "execution_count": 7,
      "metadata": {
        "id": "NooBisRnuVeQ"
      },
      "outputs": [],
      "source": [
        "def BERT_Block(text, tokenizer, model, device):\n",
        "\n",
        "    input = tokenizer(text,\n",
        "                            return_tensors='pt',\n",
        "                            truncation=True,\n",
        "                            padding=True,\n",
        "                            max_length = max_length).to(device)\n",
        "    with torch.no_grad():\n",
        "        output = model(**input, output_hidden_states=True)\n",
        "\n",
        "    # Extract the last hidden states and the [CLS] token representation\n",
        "    hidden_states = output.hidden_states[-1]\n",
        "    CLS = hidden_states[:, 0, :]\n",
        "\n",
        "    return CLS\n"
      ]
    },
    {
      "cell_type": "code",
      "execution_count": 8,
      "metadata": {
        "id": "AHgCA-eMpGxA"
      },
      "outputs": [],
      "source": [
        "class Generator_2:\n",
        "    def __init__(self, tokenizer_bert, device,model_name_B,model_name_G='gpt2'):\n",
        "\n",
        "\n",
        "        self.tokenizer = GPT2Tokenizer.from_pretrained(model_name_G)\n",
        "        self.tokenizer.add_special_tokens({'pad_token': '<PAD>', 'bos_token': '<SOS>', 'eos_token': '<EOS>'})\n",
        "        self.tokenizer.add_tokens(['<BOT>'])\n",
        "        self.model = GPT2LMHeadModel.from_pretrained(model_name_G)\n",
        "        self.model.resize_token_embeddings(len(self.tokenizer))\n",
        "        for param in self.model.parameters():\n",
        "            param.requires_grad = False\n",
        "        self.device = device\n",
        "        self.model = self.model.to(self.device)\n",
        "        self.tokenizer_bert = tokenizer_bert\n",
        "        self.model_bert = utilityG.initialize_model_Bert(model_name_B,device)\n",
        "        self.BERT_Block = BERT_Block\n",
        "\n",
        "    def generate(self, input_prompt, max_length=64, num_beams=1, temperature=0.8, do_sample=True, top_k=50, top_p=0.95):\n",
        "\n",
        "        encoding = self.tokenizer(input_prompt, padding=True, return_tensors='pt').to(self.device)\n",
        "        output = self.model.generate(\n",
        "            **encoding,\n",
        "            max_length=max_length,\n",
        "            num_beams=num_beams,\n",
        "            temperature=temperature,\n",
        "            do_sample=do_sample,\n",
        "            top_k=top_k,\n",
        "            top_p=top_p,\n",
        "            pad_token_id=self.tokenizer.eos_token_id\n",
        "        )\n",
        "        text = self.tokenizer.batch_decode(output, skip_special_tokens=True)\n",
        "        CLS = self.BERT_Block(text, self.tokenizer_bert, self.model_bert, self.device)\n",
        "\n",
        "        return CLS"
      ]
    },
    {
      "cell_type": "markdown",
      "metadata": {
        "id": "MN2PUyCcqit_"
      },
      "source": [
        "## Discriminator\n",
        "\n",
        "### Input\n",
        "\n",
        "The `forward` method takes a tensor (`input`) of shape `(batch_size, input_dim)` representing features for evaluation.\n",
        "\n",
        "### Forward Method\n",
        "\n",
        "The forward method applies the following operations sequentially:\n",
        "\n",
        "1. **Dropout Layer 1:**\n",
        "   - Applies dropout (`p_dropout`) for regularization.\n",
        "\n",
        "2. **Linear Layer 1:**\n",
        "   - Fully connected layer transforming the tensor to `d_out` shape.\n",
        "\n",
        "3. **Leaky ReLU Activation:**\n",
        "   - Introduces non-linearity with leaky ReLU.\n",
        "\n",
        "4. **Dropout Layer 2:**\n",
        "   - Additional dropout for regularization.\n",
        "\n",
        "5. **Linear Layer 2:**\n",
        "   - Produces final output for classification.\n",
        "\n",
        "6. **Softmax Activation:**\n",
        "   - Computes class probabilities.\n",
        "\n",
        "### Output\n",
        "\n",
        "- **\\_features:** Output after dropout and first linear layer.\n",
        "- **logits:** Unnormalized predictions.\n",
        "- **probs:** Class probabilities.\n",
        "\n",
        "Designed for binary classification (`1 + n_class_dataset` classes), extendable to multiple classes.\n"
      ]
    },
    {
      "cell_type": "markdown",
      "metadata": {
        "id": "jULkY6h-qB_X"
      },
      "source": [
        "![3.png](data:image/png;base64,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)"
      ]
    },
    {
      "cell_type": "code",
      "execution_count": 9,
      "metadata": {
        "id": "gY4B1QcHrcwp"
      },
      "outputs": [],
      "source": [
        "class Discriminator(nn.Module):\n",
        "    def __init__(self, d_out = d_out, p_dropout = p_dropout, n_class_dataset = n_class_dataset):\n",
        "        super(Discriminator, self).__init__()\n",
        "\n",
        "        self.dropout1 = nn.Dropout(p=p_dropout)\n",
        "        self.linear1 = nn.Linear(d_out, d_out)\n",
        "\n",
        "        self.leaky_relu = nn.LeakyReLU(0.2)\n",
        "        self.dropout2 = nn.Dropout(p=p_dropout)\n",
        "        self.linear2 = nn.Linear(d_out, 1 + n_class_dataset)\n",
        "\n",
        "    def forward(self, input):\n",
        "        features = self.dropout1(input)\n",
        "        _features = self.linear1(features)\n",
        "\n",
        "        features = self.leaky_relu(_features)\n",
        "        features = self.dropout2(features)\n",
        "        logits = self.linear2(features)\n",
        "\n",
        "        return  logits,_features"
      ]
    },
    {
      "cell_type": "markdown",
      "metadata": {
        "id": "EnDH8vc5tymi"
      },
      "source": [
        "The reason for not using a separate softmax layer is that it is implicitly incorporated in the `nn.CrossEntropyLoss` function in PyTorch.\n"
      ]
    },
    {
      "cell_type": "markdown",
      "metadata": {
        "id": "BPRC2TO5t5fK"
      },
      "source": [
        "## Bert Block\n"
      ]
    },
    {
      "cell_type": "markdown",
      "metadata": {
        "id": "85dbHO9twgNq"
      },
      "source": [
        "# GAN-Bert Model\n",
        "\n",
        "## Model Initialization\n",
        "\n",
        "We instantiate a BERT-based tokenizer using the Hugging Face Transformers library and initialize four sets of models and generators for different labeled data percentages (1%, 5%, 10%, and 50%).\n",
        "\n",
        "Two different loss functions are defined - `nn.BCEWithLogitsLoss` for the generator and discriminator and `nn.CrossEntropyLoss` for calculating the criterion scores.\n"
      ]
    },
    {
      "cell_type": "code",
      "execution_count": 10,
      "metadata": {
        "id": "99NDgXQjw5jZ",
        "colab": {
          "base_uri": "https://localhost:8080/",
          "height": 369,
          "referenced_widgets": [
            "d331ac92a1d04c5fa98c9052b143437d",
            "01c9f7614e7448228e1c723639981d58",
            "24758463174947eca5bcdd10c2f2536f",
            "9de85149a03f47a5bbcfe96425fc5d09",
            "b89fd3f3c3344fd5a1b2e878d6a27f40",
            "7f7e25d4ac44446187f95d0abde32669",
            "121e6d6a0fb64ee78b620cd459ba7266",
            "5663fc3859614f0d87faf5a453ab3e5b",
            "7c1f9a7683c744f49d492c31c76a4ecc",
            "8ab9acc046b146a7b97d031b7a901618",
            "90c462d29cbb4017a3bcb6cbe9c6189e",
            "3cba95fcc2c14b1290768037b26b24cd",
            "ad0e01c893884576953c9909dc993a4d",
            "64b9893142f843909d9e2e39ffa6c48d",
            "05c7905897314861a053b779b2f608a9",
            "f61fee02fc3b460482dca935bd994b0b",
            "4ca3a16396e940e0a7de7628fd87636f",
            "32e672783dd64007845947f2ee882662",
            "09723a006d564f6d8893ecdd084731d9",
            "035fd983d02149dba2171cede1d495bc",
            "f475b9e364ae4331923386d2d4d16592",
            "486b4eb15d094cfea83088104e5af0ca",
            "dad92435ad944c63a8f61ca1f1379981",
            "b578416c798c463e9022eb1d76e3a2b9",
            "c29144610e914e9c8c2abfb24d0ee4d4",
            "a46d6af494264b10adf6e49fad1c0efd",
            "2fd1c90b2b15424e973a259e75796b59",
            "9526dacc461c4659852e36d60ce90530",
            "525505dd0ab047539682d5bd63aa8644",
            "5409ab40c35644f0ab0b206e8e8d1b4a",
            "5d539c748b114f13b515e13fec5cc8bd",
            "c984ef690f524297b156e062e16a4381",
            "6ca18ff930e34744998dd3601e51d597",
            "040e3c471c30462fa58cea89ec3ff629",
            "470e0fc93def4c78bacdaf6374c57add",
            "319698416cfd46f48e18bfb1db6ee2de",
            "47918d25bbe14e71b9f38fa5c54fc8f0",
            "6a523bd2e9064b9da57960f1ad11800e",
            "5cacd062c7ad4ac4a323c1afa307294b",
            "f45bc4aae4c54ff2bdd9c12b4897bb27",
            "411a23c9740140b7babe12ca9619d8e8",
            "4d11c7fe1fce4a2788be76419ebd215e",
            "1caa92af1e44415eb5c945912363774f",
            "01eeb1573d58458cb089c1d903471899",
            "9635b5f0dca444ebb3a07c96eef8b89d",
            "38d9f58ffa92440e934dd9d8983f46fe",
            "c7939c1ce1c14bb096265dec5964be3a",
            "dc94475b136b45cd820c9c00cc57da61",
            "e2e5d661c7c4446c8ee928d15776913c",
            "29fab50b360440c0a3287a68895a01d0",
            "0a9a51a4fead404d86e9965475f24cea",
            "517c065e266b4b90ac6a1f8aeff28caa",
            "19d1aee9da064d5e9d8e4bea1226d625",
            "9a58d6aa44de4a0292eefa17f168757f",
            "7679fd0c9a58467f83ed3c0a20f5c614",
            "4cb1cc0ee12549b483fef251d4f23e86",
            "7ebc77b365724d67abfe2281a9609f24",
            "86400c8b6aa341fb89a9bc3ca3c8b496",
            "398463d2983e4235b9e80a49bcc821d8",
            "2ee74891abf5456e85b3da4e5d520e79",
            "3c44a3d4a8c145699766a50e8db80344",
            "a900fcb77a034c318f7b6730ad70a9bc",
            "4121c254e98d466d9f25fae4428a0ddf",
            "c9227c72eac94873ab43be2ae9e07103",
            "a5c5fd32b91245fdbad269c461ff0150",
            "9bca292222c74489ad46b6aca8c9ddc4",
            "b4566b76b95d47abb05c5ea5b2f3b3d6",
            "37d62eb9d30247199bea4cee7f16947d",
            "b8c328030d2549a981d205b0dbddf5f3",
            "c65cffc5c93f499da68b360a66fa2913",
            "fa7c20f788b14347bb7b027e03995a2e",
            "c9080d4d8ee14173975f8dcbf8a1baf0",
            "44103376f46a4a6fb92788d8b2dde0ec",
            "7f49ace05aa34544aa5f678111c6eadb",
            "ed359a393e0a4725a0cb86f792ce64f0",
            "1c2335b276e6433c93b1f48e3a8f548f",
            "a81c29734164407f8d9e7a2b8494c272",
            "725a62377fe34fcdb9eef91e6569b6d1",
            "e75544757f9b413ab43662fb3331c19f",
            "242dde00e4ed4783bc260d8a9d9725bd",
            "40d92f82a192479280c0dbadf3885610",
            "e17b0f19dc6146958e7851456f1958ea",
            "9acacae5e1464737bf1b68341aaff2d7",
            "23782bac71cb4e0987b8c26ff51a1a30",
            "0c44634bb541471bbbddaaa8d5cf933c",
            "c49bd445c9d849dbbf078238cb45aea2",
            "9dab8815a7fd4379983564fb2b39c8a3",
            "dae587ea1bc74dc0ab3c620960ee6da0",
            "ccebeb5a86c747c8a94eeaa138997a23",
            "8808d8d4a1684c73a658f705008ec681",
            "2933c10a21e94d4e81c4cd75f4fe349e",
            "64d371ac854f4f3b81c329f7680e9b05",
            "0f17b1eec70b484385dc49d19fdf0c4e",
            "9458804c9f1e4f16965bb84e88f9e665",
            "115f5cc3b1e9436594b65d97469cd8fa",
            "f8247528c6674cdc8f5f2bd9972fe1be",
            "e7341d3fc24645fb9ec0f6f49b299edd",
            "e480625c03e2412dbe40dfaa9655ff1d",
            "c2cf6a6c98fd4c169e26d7ee01c8a8b9",
            "47b6830e5f364f6d99e1fc54fda7903e",
            "df3135846a5b4959bd0abc734c34fe5f",
            "594bdf0e55f14d919121ae0f4940005f",
            "bee4f91148214e07af0bc8d5c3421d95",
            "7099d74d5eea46c19e61893f025bd080",
            "cef8a1b5753f4ef89a5f59c5c07756e2",
            "649509f4a27d4d9b86bb1ad319f71765",
            "fa8dfcf208f340c1bd288a731b27fc40",
            "ac386cf22b4e4b35bde1e0c2e17c7ec9",
            "dbb908d5ebf24afe8d64030a943aeee9",
            "847994f0ff474f4cbbe5d61b70b2212e",
            "59864789aa634fce889668c12dd712a4",
            "e3bc133793244a088232cd76ad237978",
            "237a71d9fc5848028c2700504e280012",
            "03c2c012a040445aaec48829d6453153",
            "0d94b9edf88e4ed484b8d175f5325246",
            "d01e513590b249e0b3fa051998322346",
            "0e8fc876b5dd479fa1cb61e84c19b731",
            "04b5637169c04d8db4fc7652b33991a7",
            "cf530157e7e8483f871ec6c753b1ab47",
            "2f616563a22b4e4bbd0837415345bb4a",
            "1b9af58b193149c088c2309dbc9c1bca"
          ]
        },
        "outputId": "3f3c7858-40f8-420a-e97f-e3ed9aa1b979"
      },
      "outputs": [
        {
          "output_type": "display_data",
          "data": {
            "text/plain": [
              "tokenizer_config.json:   0%|          | 0.00/28.0 [00:00<?, ?B/s]"
            ],
            "application/vnd.jupyter.widget-view+json": {
              "version_major": 2,
              "version_minor": 0,
              "model_id": "d331ac92a1d04c5fa98c9052b143437d"
            }
          },
          "metadata": {}
        },
        {
          "output_type": "display_data",
          "data": {
            "text/plain": [
              "config.json:   0%|          | 0.00/570 [00:00<?, ?B/s]"
            ],
            "application/vnd.jupyter.widget-view+json": {
              "version_major": 2,
              "version_minor": 0,
              "model_id": "3cba95fcc2c14b1290768037b26b24cd"
            }
          },
          "metadata": {}
        },
        {
          "output_type": "display_data",
          "data": {
            "text/plain": [
              "vocab.txt:   0%|          | 0.00/232k [00:00<?, ?B/s]"
            ],
            "application/vnd.jupyter.widget-view+json": {
              "version_major": 2,
              "version_minor": 0,
              "model_id": "dad92435ad944c63a8f61ca1f1379981"
            }
          },
          "metadata": {}
        },
        {
          "output_type": "display_data",
          "data": {
            "text/plain": [
              "tokenizer.json:   0%|          | 0.00/466k [00:00<?, ?B/s]"
            ],
            "application/vnd.jupyter.widget-view+json": {
              "version_major": 2,
              "version_minor": 0,
              "model_id": "040e3c471c30462fa58cea89ec3ff629"
            }
          },
          "metadata": {}
        },
        {
          "output_type": "display_data",
          "data": {
            "text/plain": [
              "model.safetensors:   0%|          | 0.00/440M [00:00<?, ?B/s]"
            ],
            "application/vnd.jupyter.widget-view+json": {
              "version_major": 2,
              "version_minor": 0,
              "model_id": "9635b5f0dca444ebb3a07c96eef8b89d"
            }
          },
          "metadata": {}
        },
        {
          "output_type": "display_data",
          "data": {
            "text/plain": [
              "vocab.json:   0%|          | 0.00/1.04M [00:00<?, ?B/s]"
            ],
            "application/vnd.jupyter.widget-view+json": {
              "version_major": 2,
              "version_minor": 0,
              "model_id": "4cb1cc0ee12549b483fef251d4f23e86"
            }
          },
          "metadata": {}
        },
        {
          "output_type": "display_data",
          "data": {
            "text/plain": [
              "merges.txt:   0%|          | 0.00/456k [00:00<?, ?B/s]"
            ],
            "application/vnd.jupyter.widget-view+json": {
              "version_major": 2,
              "version_minor": 0,
              "model_id": "b4566b76b95d47abb05c5ea5b2f3b3d6"
            }
          },
          "metadata": {}
        },
        {
          "output_type": "display_data",
          "data": {
            "text/plain": [
              "tokenizer.json:   0%|          | 0.00/1.36M [00:00<?, ?B/s]"
            ],
            "application/vnd.jupyter.widget-view+json": {
              "version_major": 2,
              "version_minor": 0,
              "model_id": "725a62377fe34fcdb9eef91e6569b6d1"
            }
          },
          "metadata": {}
        },
        {
          "output_type": "display_data",
          "data": {
            "text/plain": [
              "config.json:   0%|          | 0.00/665 [00:00<?, ?B/s]"
            ],
            "application/vnd.jupyter.widget-view+json": {
              "version_major": 2,
              "version_minor": 0,
              "model_id": "ccebeb5a86c747c8a94eeaa138997a23"
            }
          },
          "metadata": {}
        },
        {
          "output_type": "display_data",
          "data": {
            "text/plain": [
              "model.safetensors:   0%|          | 0.00/548M [00:00<?, ?B/s]"
            ],
            "application/vnd.jupyter.widget-view+json": {
              "version_major": 2,
              "version_minor": 0,
              "model_id": "47b6830e5f364f6d99e1fc54fda7903e"
            }
          },
          "metadata": {}
        },
        {
          "output_type": "display_data",
          "data": {
            "text/plain": [
              "generation_config.json:   0%|          | 0.00/124 [00:00<?, ?B/s]"
            ],
            "application/vnd.jupyter.widget-view+json": {
              "version_major": 2,
              "version_minor": 0,
              "model_id": "59864789aa634fce889668c12dd712a4"
            }
          },
          "metadata": {}
        }
      ],
      "source": [
        "random.seed(Seed)\n",
        "np.random.seed(Seed)\n",
        "torch.manual_seed(Seed)\n",
        "set_seed(Seed)\n",
        "\n",
        "tokenizer = AutoTokenizer.from_pretrained(model_name)\n",
        "\n",
        "modelBERT_OnePercent = utilityG.initialize_model_Bert(model_name, device)\n",
        "G_OnePercent = Generator_2(tokenizer, device,model_name_B=model_name)\n",
        "D_OnePercent = Discriminator().to(device)\n",
        "\n",
        "modelBERT_FivePercent = utilityG.initialize_model_Bert(model_name, device)\n",
        "G_FivePercent = Generator_2(tokenizer, device,model_name_B=model_name)\n",
        "D_FivePercent = Discriminator().to(device)\n",
        "\n",
        "modelBERT_TenPercent = utilityG.initialize_model_Bert(model_name, device)\n",
        "G_TenPercent = Generator_2(tokenizer,device,model_name_B=model_name)\n",
        "D_TenPercent = Discriminator().to(device)\n",
        "\n",
        "\n",
        "modelBERT_FiftyPercent = utilityG.initialize_model_Bert(model_name, device)\n",
        "G_FiftyPercent = Generator_2(tokenizer, device,model_name_B=model_name)\n",
        "D_FiftyPercent = Discriminator().to(device)\n",
        "\n",
        "criterion_G = nn.BCEWithLogitsLoss()\n",
        "criterion_sup = nn.CrossEntropyLoss()\n",
        "\n",
        "# Validation Dataset\n",
        "dataset_val=utilityG.GanBertDataset(Percentage=100, Dataset_Name ='Dev', Seed=42, Download_Dataset = True)\n",
        "val_loader =  DataLoader(dataset_val, batch_size=batch_size, shuffle=False)\n",
        "\n",
        "\n",
        "accuracies= []"
      ]
    },
    {
      "cell_type": "markdown",
      "metadata": {
        "id": "FW0Aow0RWzA4"
      },
      "source": [
        "## Dateset and DataLoader"
      ]
    },
    {
      "cell_type": "markdown",
      "metadata": {
        "id": "0Bwl_2h7Vonm"
      },
      "source": [
        "## Training Model with 1% Labeled Data\n",
        "\n",
        "In this section, we prepare and visualize 1% of the labeled training and validation data, then train the GAN_BERT classification model."
      ]
    },
    {
      "cell_type": "code",
      "execution_count": 11,
      "metadata": {
        "colab": {
          "base_uri": "https://localhost:8080/",
          "height": 678
        },
        "id": "LsU_alvbWzA5",
        "outputId": "d047e334-ad0d-4df6-b599-88394ae490f4"
      },
      "outputs": [
        {
          "output_type": "display_data",
          "data": {
            "text/plain": [
              "<Figure size 1600x400 with 2 Axes>"
            ],
            "image/png": "[encoded data removed]"
          },
          "metadata": {}
        },
        {
          "output_type": "stream",
          "name": "stdout",
          "text": [
            "\n",
            "Label Counts for Training Dataset:\n",
            "unlabeled: 28123\n",
            "chatGPT: 49\n",
            "davinci: 44\n",
            "bloomz: 53\n",
            "dolly: 51\n",
            "human: 40\n",
            "cohere: 50\n",
            "\n",
            "Label Counts for Validation Dataset:\n",
            "cohere: 199\n",
            "human: 212\n",
            "dolly: 196\n",
            "bloomz: 203\n",
            "davinci: 197\n",
            "chatGPT: 193\n",
            "\n",
            "\n",
            "\n"
          ]
        }
      ],
      "source": [
        "dataset_train_Onepercent=utilityG.GanBertDataset(Percentage=1, Dataset_Name ='Train', Seed=42, Download_Dataset = True)\n",
        "train_loader_Onepercent =  DataLoader(dataset_train_Onepercent, batch_size=batch_size, shuffle=True)\n",
        "\n",
        "utilityG.distribution_plot(dataset_train_Onepercent, dataset_val, 'Part_Three_G2_onePercent_distribution_plot.png')\n",
        "\n",
        "bert = [i for i in modelBERT_OnePercent.parameters()]\n",
        "d_vars = bert + [v for v in D_OnePercent.parameters()]\n",
        "\n",
        "optimizer_D_one = optim.Adam(d_vars, lr=learning_rate, betas=(0.9, 0.999))\n",
        "optimizer_G_one = optim.Adam(G_OnePercent.model_bert.parameters(), lr=learning_rate, betas=(0.9, 0.999))\n"
      ]
    },
    {
      "cell_type": "code",
      "execution_count": 12,
      "metadata": {
        "id": "4BH0jfxKWzA6",
        "colab": {
          "base_uri": "https://localhost:8080/",
          "height": 579
        },
        "outputId": "7d5b219f-4432-4f39-e4b2-c2fdea1d1ca7"
      },
      "outputs": [
        {
          "metadata": {
            "tags": null
          },
          "name": "stderr",
          "output_type": "stream",
          "text": [
            "100%|██████████| 444/444 [12:51<00:00,  1.74s/it]\n"
          ]
        },
        {
          "metadata": {
            "tags": null
          },
          "name": "stdout",
          "output_type": "stream",
          "text": [
            "Epoch 1/4 | G_loss: 0.7134 | D_loss: 1.6333  | Val_Accuracy: 25.17\n",
            "Best Model saved to Google Drive\n"
          ]
        },
        {
          "metadata": {
            "tags": null
          },
          "name": "stderr",
          "output_type": "stream",
          "text": [
            "100%|██████████| 444/444 [12:28<00:00,  1.69s/it]\n"
          ]
        },
        {
          "metadata": {
            "tags": null
          },
          "name": "stdout",
          "output_type": "stream",
          "text": [
            "Epoch 2/4 | G_loss: 0.7113 | D_loss: 1.5413  | Val_Accuracy: 24.33\n"
          ]
        },
        {
          "metadata": {
            "tags": null
          },
          "name": "stderr",
          "output_type": "stream",
          "text": [
            "100%|██████████| 444/444 [12:25<00:00,  1.68s/it]\n"
          ]
        },
        {
          "metadata": {
            "tags": null
          },
          "name": "stdout",
          "output_type": "stream",
          "text": [
            "Epoch 3/4 | G_loss: 0.7096 | D_loss: 1.4337  | Val_Accuracy: 23.17\n"
          ]
        },
        {
          "output_type": "stream",
          "name": "stderr",
          "text": [
            "100%|██████████| 444/444 [12:20<00:00,  1.67s/it]\n"
          ]
        },
        {
          "output_type": "stream",
          "name": "stdout",
          "text": [
            "Epoch 4/4 | G_loss: 0.7084 | D_loss: 1.3716  | Val_Accuracy: 31.00\n",
            "Best Model saved to Google Drive\n"
          ]
        },
        {
          "output_type": "display_data",
          "data": {
            "text/plain": [
              "<Figure size 1200x400 with 3 Axes>"
            ],
            "image/png": "[encoded data removed]"
          },
          "metadata": {}
        },
        {
          "output_type": "stream",
          "name": "stdout",
          "text": [
            "saved Best_Model loaded\n",
            "Accuracy on Validation dataset is: 31.00\n"
          ]
        }
      ],
      "source": [
        "G2_OnePercent = utilityG.model_train(model_Bert = modelBERT_OnePercent,\n",
        "                               Discriminator = D_OnePercent,\n",
        "                               Generator = G_OnePercent,\n",
        "                               kind_G='G2',\n",
        "                               BERT_Block = BERT_Block,\n",
        "                               optimizer_D = optimizer_D_one,\n",
        "                               optimizer_G = optimizer_G_one,\n",
        "                               criterion_sup = criterion_sup,\n",
        "                               lambda_sup = lambda_sup,\n",
        "                               lambda_feat = lambda_feat,\n",
        "                               criterion_G = criterion_G,\n",
        "                               tokenizer = tokenizer,\n",
        "                               train_loader = train_loader_Onepercent,\n",
        "                               val_loader = val_loader,\n",
        "                               num_epochs = num_epochs,\n",
        "                               device = device,\n",
        "                               d_in = d_in,\n",
        "                               Name='G2_OnePercent',\n",
        "                               Use_save_model=False ,save_model= True)\n",
        "# Train model\n",
        "G2_OnePercent.train()\n",
        "\n",
        "# get the accuracy of the model\n",
        "accuracies.append(G2_OnePercent.Accuracy(loader = val_loader, Use_best_model = True))\n",
        "\n",
        "print(f'Accuracy on Validation dataset is: {100*accuracies[-1]:.2f}')"
      ]
    },
    {
      "cell_type": "markdown",
      "metadata": {
        "id": "peqHFNXxVonm"
      },
      "source": [
        "## Training Model with 5% Labeled Data\n",
        "\n",
        "In this section, we prepare and visualize 5% of the labeled training and validation data, then train the GAN_BERT classification model."
      ]
    },
    {
      "cell_type": "code",
      "execution_count": 13,
      "metadata": {
        "id": "A-FC0K9FVonm",
        "colab": {
          "base_uri": "https://localhost:8080/",
          "height": 678
        },
        "outputId": "c74de7c1-7d78-4fb6-cee0-34292ef8a2d6"
      },
      "outputs": [
        {
          "output_type": "display_data",
          "data": {
            "text/plain": [
              "<Figure size 1600x400 with 2 Axes>"
            ],
            "image/png": "[encoded data removed]"
          },
          "metadata": {}
        },
        {
          "output_type": "stream",
          "name": "stdout",
          "text": [
            "\n",
            "Label Counts for Training Dataset:\n",
            "unlabeled: 27038\n",
            "bloomz: 237\n",
            "cohere: 218\n",
            "chatGPT: 244\n",
            "davinci: 233\n",
            "dolly: 230\n",
            "human: 210\n",
            "\n",
            "Label Counts for Validation Dataset:\n",
            "cohere: 199\n",
            "human: 212\n",
            "dolly: 196\n",
            "bloomz: 203\n",
            "davinci: 197\n",
            "chatGPT: 193\n",
            "\n",
            "\n",
            "\n"
          ]
        }
      ],
      "source": [
        "dataset_train_Fivepercent=utilityG.GanBertDataset(Percentage=5, Dataset_Name ='Train', Seed=42, Download_Dataset = True)\n",
        "train_loader_Fivepercent =  DataLoader(dataset_train_Fivepercent, batch_size=batch_size, shuffle=True)\n",
        "\n",
        "utilityG.distribution_plot(dataset_train_Fivepercent, dataset_val, 'Part_Three_G2_FivePercent_distribution_plot.png')\n",
        "\n",
        "bert = [i for i in modelBERT_FivePercent.parameters()]\n",
        "d_vars = bert + [v for v in D_FivePercent.parameters()]\n",
        "optimizer_D_5 = optim.Adam(d_vars, lr=learning_rate, betas=(0.9, 0.999))\n",
        "optimizer_G_5 = optim.Adam(G_FivePercent.model_bert.parameters(), lr=learning_rate, betas=(0.9, 0.999))"
      ]
    },
    {
      "cell_type": "code",
      "execution_count": 14,
      "metadata": {
        "id": "9w_G7cTGVonn",
        "colab": {
          "base_uri": "https://localhost:8080/",
          "height": 579
        },
        "outputId": "80029905-d4aa-46cc-d31d-8a0283fb916d"
      },
      "outputs": [
        {
          "output_type": "stream",
          "name": "stderr",
          "text": [
            "100%|██████████| 444/444 [11:26<00:00,  1.55s/it]\n"
          ]
        },
        {
          "output_type": "stream",
          "name": "stdout",
          "text": [
            "Epoch 1/4 | G_loss: 0.7143 | D_loss: 2.4529  | Val_Accuracy: 33.00\n",
            "Best Model saved to Google Drive\n"
          ]
        },
        {
          "output_type": "stream",
          "name": "stderr",
          "text": [
            "100%|██████████| 444/444 [11:31<00:00,  1.56s/it]\n"
          ]
        },
        {
          "output_type": "stream",
          "name": "stdout",
          "text": [
            "Epoch 2/4 | G_loss: 0.7151 | D_loss: 2.2787  | Val_Accuracy: 37.50\n",
            "Best Model saved to Google Drive\n"
          ]
        },
        {
          "output_type": "stream",
          "name": "stderr",
          "text": [
            "100%|██████████| 444/444 [11:27<00:00,  1.55s/it]\n"
          ]
        },
        {
          "output_type": "stream",
          "name": "stdout",
          "text": [
            "Epoch 3/4 | G_loss: 0.7120 | D_loss: 2.1514  | Val_Accuracy: 36.50\n"
          ]
        },
        {
          "output_type": "stream",
          "name": "stderr",
          "text": [
            "100%|██████████| 444/444 [11:22<00:00,  1.54s/it]\n"
          ]
        },
        {
          "output_type": "stream",
          "name": "stdout",
          "text": [
            "Epoch 4/4 | G_loss: 0.7105 | D_loss: 2.1182  | Val_Accuracy: 36.92\n"
          ]
        },
        {
          "output_type": "display_data",
          "data": {
            "text/plain": [
              "<Figure size 1200x400 with 3 Axes>"
            ],
            "image/png": "[encoded data removed]"
          },
          "metadata": {}
        },
        {
          "output_type": "stream",
          "name": "stdout",
          "text": [
            "saved Best_Model loaded\n",
            "Accuracy on Validation dataset is: 37.50\n"
          ]
        }
      ],
      "source": [
        "G2_FivePercent = utilityG.model_train(model_Bert = modelBERT_FivePercent,\n",
        "                                 Discriminator = D_FivePercent,\n",
        "                                 Generator = G_FivePercent,\n",
        "                                kind_G='G2',\n",
        "                                 BERT_Block = BERT_Block,\n",
        "                                 optimizer_D = optimizer_D_5,\n",
        "                                 optimizer_G = optimizer_G_5,\n",
        "                                 criterion_sup = criterion_sup,\n",
        "                                 lambda_sup = lambda_sup,\n",
        "                                 lambda_feat = lambda_feat,\n",
        "                                 criterion_G = criterion_G,\n",
        "                                 tokenizer = tokenizer,\n",
        "                                 train_loader = train_loader_Fivepercent,\n",
        "                                 val_loader = val_loader,\n",
        "                                 num_epochs =num_epochs,\n",
        "                                 device = device,\n",
        "                                 d_in = d_in,\n",
        "                                 Name='G2_FivePercent',\n",
        "                                 Use_save_model=False ,save_model= True)\n",
        "# Train model\n",
        "G2_FivePercent.train()\n",
        "\n",
        "# get the accuracy of the model\n",
        "accuracies.append(G2_FivePercent.Accuracy(loader = val_loader, Use_best_model = True))\n",
        "\n",
        "print(f'Accuracy on Validation dataset is: {100*accuracies[-1]:.2f}')"
      ]
    },
    {
      "cell_type": "markdown",
      "metadata": {
        "id": "DZxDvBELVonn"
      },
      "source": [
        "## Training Model with 10% Labeled Data\n",
        "\n",
        "In this section, we prepare and visualize 10% of the labeled training and validation data, then train the GAN_BERT classification model."
      ]
    },
    {
      "cell_type": "code",
      "source": [
        "dataset_train_Tenpercent=utilityG.GanBertDataset(Percentage=10, Dataset_Name ='Train', Seed=42, Download_Dataset = True)\n",
        "train_loader_Tenpercent =  DataLoader(dataset_train_Tenpercent, batch_size=batch_size, shuffle=True)\n",
        "\n",
        "utilityG.distribution_plot(dataset_train_Tenpercent, dataset_val, 'Part_Three_G2_TenPercent_distribution_plot.png')\n",
        "\n",
        "bert = [i for i in modelBERT_TenPercent.parameters()]\n",
        "d_vars = bert + [v for v in D_TenPercent.parameters()]\n",
        "optimizer_D_10 = optim.Adam(d_vars, lr=learning_rate, betas=(0.9, 0.999))\n",
        "optimizer_G_10 = optim.Adam(G_TenPercent.model_bert.parameters(), lr=learning_rate, betas=(0.9, 0.999))"
      ],
      "metadata": {
        "colab": {
          "base_uri": "https://localhost:8080/",
          "height": 678
        },
        "id": "O7B1YLDm5I1Y",
        "outputId": "f0a02537-068a-4fcf-b09b-f88ab83dccf5"
      },
      "execution_count": 18,
      "outputs": [
        {
          "output_type": "display_data",
          "data": {
            "text/plain": [
              "<Figure size 1600x400 with 2 Axes>"
            ],
            "image/png": "[encoded data removed]"
          },
          "metadata": {}
        },
        {
          "output_type": "stream",
          "name": "stdout",
          "text": [
            "\n",
            "Label Counts for Training Dataset:\n",
            "unlabeled: 25578\n",
            "human: 450\n",
            "davinci: 484\n",
            "bloomz: 513\n",
            "dolly: 452\n",
            "cohere: 451\n",
            "chatGPT: 482\n",
            "\n",
            "Label Counts for Validation Dataset:\n",
            "cohere: 199\n",
            "human: 212\n",
            "dolly: 196\n",
            "bloomz: 203\n",
            "davinci: 197\n",
            "chatGPT: 193\n",
            "\n",
            "\n",
            "\n"
          ]
        }
      ]
    },
    {
      "cell_type": "code",
      "source": [
        "G2_TenPercent = utilityG.model_train(model_Bert = modelBERT_TenPercent,\n",
        "                                    Discriminator = D_TenPercent,\n",
        "                                    Generator = G_TenPercent,\n",
        "                                    kind_G='G2',\n",
        "                                    BERT_Block = BERT_Block,\n",
        "                                    optimizer_D = optimizer_D_10,\n",
        "                                    optimizer_G = optimizer_G_10,\n",
        "                                    criterion_sup = criterion_sup,\n",
        "                                    lambda_sup = lambda_sup,\n",
        "                                    lambda_feat = lambda_feat,\n",
        "                                    criterion_G = criterion_G,\n",
        "                                    tokenizer = tokenizer,\n",
        "                                    train_loader = train_loader_Tenpercent,\n",
        "                                    val_loader = val_loader,\n",
        "                                    num_epochs =num_epochs,\n",
        "                                    device = device,\n",
        "                                    d_in = d_in,\n",
        "                                    Name='G2_TenPercent',\n",
        "                                    Use_save_model=False ,save_model= True)\n",
        "# Train model\n",
        "G2_TenPercent.train()\n",
        "\n",
        "# get the accuracy of the model\n",
        "accuracies.append(G2_TenPercent.Accuracy(loader = val_loader, Use_best_model = True))\n",
        "\n",
        "print(f'Accuracy on Validation dataset is: {100*accuracies[-1]:.2f}')"
      ],
      "metadata": {
        "colab": {
          "base_uri": "https://localhost:8080/",
          "height": 676
        },
        "id": "mn2pZxHO5Lut",
        "outputId": "91cd72e2-4bc9-4e27-fe62-52cc01fb194e"
      },
      "execution_count": 19,
      "outputs": [
        {
          "metadata": {
            "tags": null
          },
          "name": "stderr",
          "output_type": "stream",
          "text": [
            "100%|██████████| 444/444 [11:17<00:00,  1.53s/it]\n"
          ]
        },
        {
          "metadata": {
            "tags": null
          },
          "name": "stdout",
          "output_type": "stream",
          "text": [
            "Epoch 1/4 | G_loss: 0.7157 | D_loss: 2.2168  | Val_Accuracy: 38.08\n",
            "Best Model saved to Google Drive\n"
          ]
        },
        {
          "metadata": {
            "tags": null
          },
          "name": "stderr",
          "output_type": "stream",
          "text": [
            "100%|██████████| 444/444 [11:41<00:00,  1.58s/it]\n"
          ]
        },
        {
          "metadata": {
            "tags": null
          },
          "name": "stdout",
          "output_type": "stream",
          "text": [
            "Epoch 2/4 | G_loss: 0.7104 | D_loss: 2.2215  | Val_Accuracy: 39.17\n",
            "Best Model saved to Google Drive\n"
          ]
        },
        {
          "output_type": "stream",
          "name": "stderr",
          "text": [
            "100%|██████████| 444/444 [11:15<00:00,  1.52s/it]\n"
          ]
        },
        {
          "output_type": "stream",
          "name": "stdout",
          "text": [
            "Epoch 3/4 | G_loss: 0.7078 | D_loss: 2.1504  | Val_Accuracy: 40.58\n",
            "Best Model saved to Google Drive\n"
          ]
        },
        {
          "output_type": "stream",
          "name": "stderr",
          "text": [
            "100%|██████████| 444/444 [11:09<00:00,  1.51s/it]\n"
          ]
        },
        {
          "output_type": "stream",
          "name": "stdout",
          "text": [
            "Epoch 4/4 | G_loss: 0.7065 | D_loss: 2.1031  | Val_Accuracy: 43.08\n",
            "Best Model saved to Google Drive\n"
          ]
        },
        {
          "output_type": "display_data",
          "data": {
            "text/plain": [
              "<Figure size 1200x400 with 3 Axes>"
            ],
            "image/png": "[encoded data removed]"
          },
          "metadata": {}
        },
        {
          "output_type": "stream",
          "name": "stdout",
          "text": [
            "saved Best_Model loaded\n",
            "Accuracy on Validation dataset is: 43.08\n"
          ]
        }
      ]
    },
    {
      "cell_type": "markdown",
      "metadata": {
        "id": "54KWeQLfVono"
      },
      "source": [
        "## Training Model with 50% Labeled Data\n",
        "\n",
        "In this section, we prepare and visualize 50% of the labeled training and validation data, then train the GAN_BERT classification model."
      ]
    },
    {
      "cell_type": "code",
      "execution_count": 20,
      "metadata": {
        "id": "oEtP7VzNVono",
        "colab": {
          "base_uri": "https://localhost:8080/",
          "height": 678
        },
        "outputId": "97755211-ae63-428b-eaf7-c882b4178f64"
      },
      "outputs": [
        {
          "output_type": "display_data",
          "data": {
            "text/plain": [
              "<Figure size 1600x400 with 2 Axes>"
            ],
            "image/png": "[encoded data removed]"
          },
          "metadata": {}
        },
        {
          "output_type": "stream",
          "name": "stdout",
          "text": [
            "\n",
            "Label Counts for Training Dataset:\n",
            "unlabeled: 14208\n",
            "dolly: 2285\n",
            "cohere: 2264\n",
            "human: 2387\n",
            "davinci: 2435\n",
            "bloomz: 2422\n",
            "chatGPT: 2409\n",
            "\n",
            "Label Counts for Validation Dataset:\n",
            "cohere: 199\n",
            "human: 212\n",
            "dolly: 196\n",
            "bloomz: 203\n",
            "davinci: 197\n",
            "chatGPT: 193\n",
            "\n",
            "\n",
            "\n"
          ]
        }
      ],
      "source": [
        "dataset_train_Fiftypercent=utilityG.GanBertDataset(Percentage=50, Dataset_Name ='Train', Seed=42, Download_Dataset = True)\n",
        "train_loader_Fiftypercent =  DataLoader(dataset_train_Fiftypercent, batch_size=batch_size, shuffle=True)\n",
        "\n",
        "utilityG.distribution_plot(dataset_train_Fiftypercent, dataset_val, 'Part_Three_G2_FiftyPercent_distribution_plot.png')\n",
        "\n",
        "bert = [i for i in modelBERT_FiftyPercent.parameters()]\n",
        "d_vars = bert + [v for v in D_FiftyPercent.parameters()]\n",
        "optimizer_D_50 = optim.Adam(d_vars, lr=learning_rate, betas=(0.9, 0.999))\n",
        "optimizer_G_50 = optim.Adam(G_FiftyPercent.model_bert.parameters(), lr=learning_rate, betas=(0.9, 0.999))"
      ]
    },
    {
      "cell_type": "code",
      "source": [
        "G2_FiftyPercent = utilityG.model_train(model_Bert = modelBERT_FiftyPercent,\n",
        "                                        Discriminator = D_FiftyPercent,\n",
        "                                        Generator = G_FiftyPercent,\n",
        "                                        kind_G='G2',\n",
        "                                        BERT_Block = BERT_Block,\n",
        "                                        optimizer_D = optimizer_D_50,\n",
        "                                        optimizer_G = optimizer_G_50,\n",
        "                                        criterion_sup = criterion_sup,\n",
        "                                        lambda_sup = lambda_sup,\n",
        "                                        lambda_feat = lambda_feat,\n",
        "                                        criterion_G = criterion_G,\n",
        "                                        tokenizer = tokenizer,\n",
        "                                        train_loader = train_loader_Fiftypercent,\n",
        "                                        val_loader = val_loader,\n",
        "                                        num_epochs =num_epochs,\n",
        "                                        device = device,\n",
        "                                        d_in = d_in,\n",
        "                                        Name='G2_FiftyPercent',\n",
        "                                        Use_save_model=False ,save_model= True)\n",
        "# Train model\n",
        "G2_FiftyPercent.train()\n",
        "\n",
        "# get the accuracy of the model\n",
        "accuracies.append(G2_FiftyPercent.Accuracy(loader = val_loader, Use_best_model = True))\n",
        "\n",
        "print(f'Accuracy on Validation dataset is: {100*accuracies[-1]:.2f}')"
      ],
      "metadata": {
        "colab": {
          "base_uri": "https://localhost:8080/",
          "height": 614
        },
        "id": "D9hYB20H5O61",
        "outputId": "cdc24c2c-6de9-43ea-8513-fe0e636007f1"
      },
      "execution_count": 21,
      "outputs": [
        {
          "output_type": "stream",
          "name": "stderr",
          "text": [
            "100%|██████████| 444/444 [13:03<00:00,  1.76s/it]\n"
          ]
        },
        {
          "output_type": "stream",
          "name": "stdout",
          "text": [
            "Epoch 1/4 | G_loss: 0.7129 | D_loss: 2.3298  | Val_Accuracy: 42.00\n",
            "Best Model saved to Google Drive\n"
          ]
        },
        {
          "output_type": "stream",
          "name": "stderr",
          "text": [
            "100%|██████████| 444/444 [13:08<00:00,  1.77s/it]\n"
          ]
        },
        {
          "output_type": "stream",
          "name": "stdout",
          "text": [
            "Epoch 2/4 | G_loss: 0.7073 | D_loss: 2.1530  | Val_Accuracy: 45.58\n",
            "Best Model saved to Google Drive\n"
          ]
        },
        {
          "output_type": "stream",
          "name": "stderr",
          "text": [
            "100%|██████████| 444/444 [13:05<00:00,  1.77s/it]\n"
          ]
        },
        {
          "output_type": "stream",
          "name": "stdout",
          "text": [
            "Epoch 3/4 | G_loss: 0.7038 | D_loss: 2.1009  | Val_Accuracy: 47.17\n",
            "Best Model saved to Google Drive\n"
          ]
        },
        {
          "output_type": "stream",
          "name": "stderr",
          "text": [
            "100%|██████████| 444/444 [13:02<00:00,  1.76s/it]\n"
          ]
        },
        {
          "output_type": "stream",
          "name": "stdout",
          "text": [
            "Epoch 4/4 | G_loss: 0.7033 | D_loss: 2.0632  | Val_Accuracy: 50.33\n",
            "Best Model saved to Google Drive\n"
          ]
        },
        {
          "output_type": "display_data",
          "data": {
            "text/plain": [
              "<Figure size 1200x400 with 3 Axes>"
            ],
            "image/png": "[encoded data removed]"
          },
          "metadata": {}
        },
        {
          "output_type": "stream",
          "name": "stdout",
          "text": [
            "saved Best_Model loaded\n",
            "Accuracy on Validation dataset is: 50.33\n"
          ]
        }
      ]
    },
    {
      "cell_type": "markdown",
      "metadata": {
        "id": "ahDDYukBVonv"
      },
      "source": [
        "## Plotting Accuracy vs. Percentage of Labeled Data\n",
        "\n",
        "In this section, we visualize the accuracy of the BERT-based sequence classification model at different percentages of labeled data.\n"
      ]
    },
    {
      "cell_type": "code",
      "source": [
        "percentages = [1, 5, 10, 50]\n",
        "\n",
        "utilityG.plot_accuracy_vs_percentage(percentages, accuracies, label='GAN-Bert-G2')"
      ],
      "metadata": {
        "colab": {
          "base_uri": "https://localhost:8080/",
          "height": 449
        },
        "id": "8fGUBzXKQU0C",
        "outputId": "81196582-1479-4d7e-8b07-bf62ec37f505"
      },
      "execution_count": 24,
      "outputs": [
        {
          "output_type": "display_data",
          "data": {
            "text/plain": [
              "<Figure size 640x480 with 1 Axes>"
            ],
            "image/png": "[encoded data removed]"
          },
          "metadata": {}
        }
      ]
    },
    {
      "cell_type": "code",
      "source": [
        "from google.colab import files\n",
        "\n",
        "uploaded = files.upload()"
      ],
      "metadata": {
        "colab": {
          "base_uri": "https://localhost:8080/",
          "height": 73
        },
        "id": "Lpl21Z-UQW82",
        "outputId": "d2fa8be7-8d64-46b7-c334-b8772e7d5297"
      },
      "execution_count": 25,
      "outputs": [
        {
          "output_type": "display_data",
          "data": {
            "text/plain": [
              "<IPython.core.display.HTML object>"
            ],
            "text/html": [
              "\n",
              "     <input type=\"file\" id=\"files-ce7530f2-da57-4a28-869b-fa0b6840953e\" name=\"files[]\" multiple disabled\n",
              "        style=\"border:none\" />\n",
              "     <output id=\"result-ce7530f2-da57-4a28-869b-fa0b6840953e\">\n",
              "      Upload widget is only available when the cell has been executed in the\n",
              "      current browser session. Please rerun this cell to enable.\n",
              "      </output>\n",
              "      <script>// Copyright 2017 Google LLC\n",
              "//\n",
              "// Licensed under the Apache License, Version 2.0 (the \"License\");\n",
              "// you may not use this file except in compliance with the License.\n",
              "// You may obtain a copy of the License at\n",
              "//\n",
              "//      http://www.apache.org/licenses/LICENSE-2.0\n",
              "//\n",
              "// Unless required by applicable law or agreed to in writing, software\n",
              "// distributed under the License is distributed on an \"AS IS\" BASIS,\n",
              "// WITHOUT WARRANTIES OR CONDITIONS OF ANY KIND, either express or implied.\n",
              "// See the License for the specific language governing permissions and\n",
              "// limitations under the License.\n",
              "\n",
              "/**\n",
              " * @fileoverview Helpers for google.colab Python module.\n",
              " */\n",
              "(function(scope) {\n",
              "function span(text, styleAttributes = {}) {\n",
              "  const element = document.createElement('span');\n",
              "  element.textContent = text;\n",
              "  for (const key of Object.keys(styleAttributes)) {\n",
              "    element.style[key] = styleAttributes[key];\n",
              "  }\n",
              "  return element;\n",
              "}\n",
              "\n",
              "// Max number of bytes which will be uploaded at a time.\n",
              "const MAX_PAYLOAD_SIZE = 100 * 1024;\n",
              "\n",
              "function _uploadFiles(inputId, outputId) {\n",
              "  const steps = uploadFilesStep(inputId, outputId);\n",
              "  const outputElement = document.getElementById(outputId);\n",
              "  // Cache steps on the outputElement to make it available for the next call\n",
              "  // to uploadFilesContinue from Python.\n",
              "  outputElement.steps = steps;\n",
              "\n",
              "  return _uploadFilesContinue(outputId);\n",
              "}\n",
              "\n",
              "// This is roughly an async generator (not supported in the browser yet),\n",
              "// where there are multiple asynchronous steps and the Python side is going\n",
              "// to poll for completion of each step.\n",
              "// This uses a Promise to block the python side on completion of each step,\n",
              "// then passes the result of the previous step as the input to the next step.\n",
              "function _uploadFilesContinue(outputId) {\n",
              "  const outputElement = document.getElementById(outputId);\n",
              "  const steps = outputElement.steps;\n",
              "\n",
              "  const next = steps.next(outputElement.lastPromiseValue);\n",
              "  return Promise.resolve(next.value.promise).then((value) => {\n",
              "    // Cache the last promise value to make it available to the next\n",
              "    // step of the generator.\n",
              "    outputElement.lastPromiseValue = value;\n",
              "    return next.value.response;\n",
              "  });\n",
              "}\n",
              "\n",
              "/**\n",
              " * Generator function which is called between each async step of the upload\n",
              " * process.\n",
              " * @param {string} inputId Element ID of the input file picker element.\n",
              " * @param {string} outputId Element ID of the output display.\n",
              " * @return {!Iterable<!Object>} Iterable of next steps.\n",
              " */\n",
              "function* uploadFilesStep(inputId, outputId) {\n",
              "  const inputElement = document.getElementById(inputId);\n",
              "  inputElement.disabled = false;\n",
              "\n",
              "  const outputElement = document.getElementById(outputId);\n",
              "  outputElement.innerHTML = '';\n",
              "\n",
              "  const pickedPromise = new Promise((resolve) => {\n",
              "    inputElement.addEventListener('change', (e) => {\n",
              "      resolve(e.target.files);\n",
              "    });\n",
              "  });\n",
              "\n",
              "  const cancel = document.createElement('button');\n",
              "  inputElement.parentElement.appendChild(cancel);\n",
              "  cancel.textContent = 'Cancel upload';\n",
              "  const cancelPromise = new Promise((resolve) => {\n",
              "    cancel.onclick = () => {\n",
              "      resolve(null);\n",
              "    };\n",
              "  });\n",
              "\n",
              "  // Wait for the user to pick the files.\n",
              "  const files = yield {\n",
              "    promise: Promise.race([pickedPromise, cancelPromise]),\n",
              "    response: {\n",
              "      action: 'starting',\n",
              "    }\n",
              "  };\n",
              "\n",
              "  cancel.remove();\n",
              "\n",
              "  // Disable the input element since further picks are not allowed.\n",
              "  inputElement.disabled = true;\n",
              "\n",
              "  if (!files) {\n",
              "    return {\n",
              "      response: {\n",
              "        action: 'complete',\n",
              "      }\n",
              "    };\n",
              "  }\n",
              "\n",
              "  for (const file of files) {\n",
              "    const li = document.createElement('li');\n",
              "    li.append(span(file.name, {fontWeight: 'bold'}));\n",
              "    li.append(span(\n",
              "        `(${file.type || 'n/a'}) - ${file.size} bytes, ` +\n",
              "        `last modified: ${\n",
              "            file.lastModifiedDate ? file.lastModifiedDate.toLocaleDateString() :\n",
              "                                    'n/a'} - `));\n",
              "    const percent = span('0% done');\n",
              "    li.appendChild(percent);\n",
              "\n",
              "    outputElement.appendChild(li);\n",
              "\n",
              "    const fileDataPromise = new Promise((resolve) => {\n",
              "      const reader = new FileReader();\n",
              "      reader.onload = (e) => {\n",
              "        resolve(e.target.result);\n",
              "      };\n",
              "      reader.readAsArrayBuffer(file);\n",
              "    });\n",
              "    // Wait for the data to be ready.\n",
              "    let fileData = yield {\n",
              "      promise: fileDataPromise,\n",
              "      response: {\n",
              "        action: 'continue',\n",
              "      }\n",
              "    };\n",
              "\n",
              "    // Use a chunked sending to avoid message size limits. See b/62115660.\n",
              "    let position = 0;\n",
              "    do {\n",
              "      const length = Math.min(fileData.byteLength - position, MAX_PAYLOAD_SIZE);\n",
              "      const chunk = new Uint8Array(fileData, position, length);\n",
              "      position += length;\n",
              "\n",
              "      const base64 = btoa(String.fromCharCode.apply(null, chunk));\n",
              "      yield {\n",
              "        response: {\n",
              "          action: 'append',\n",
              "          file: file.name,\n",
              "          data: base64,\n",
              "        },\n",
              "      };\n",
              "\n",
              "      let percentDone = fileData.byteLength === 0 ?\n",
              "          100 :\n",
              "          Math.round((position / fileData.byteLength) * 100);\n",
              "      percent.textContent = `${percentDone}% done`;\n",
              "\n",
              "    } while (position < fileData.byteLength);\n",
              "  }\n",
              "\n",
              "  // All done.\n",
              "  yield {\n",
              "    response: {\n",
              "      action: 'complete',\n",
              "    }\n",
              "  };\n",
              "}\n",
              "\n",
              "scope.google = scope.google || {};\n",
              "scope.google.colab = scope.google.colab || {};\n",
              "scope.google.colab._files = {\n",
              "  _uploadFiles,\n",
              "  _uploadFilesContinue,\n",
              "};\n",
              "})(self);\n",
              "</script> "
            ]
          },
          "metadata": {}
        },
        {
          "output_type": "stream",
          "name": "stdout",
          "text": [
            "Saving bert_accuracies.pkl to bert_accuracies.pkl\n"
          ]
        }
      ]
    },
    {
      "cell_type": "code",
      "source": [
        "import pickle\n",
        "\n",
        "with open('bert_accuracies.pkl', 'rb') as file:\n",
        "    bert_accuracies = pickle.load(file)"
      ],
      "metadata": {
        "id": "YMp3r7HFQfEj"
      },
      "execution_count": 26,
      "outputs": []
    },
    {
      "cell_type": "code",
      "source": [
        "import matplotlib.pyplot as plt\n",
        "plt.semilogx(percentages, bert_accuracies, marker='o', color='blue', label='BERT')\n",
        "plt.semilogx(percentages, accuracies, marker='o', color='black', label='GAN-Bert-G2')\n",
        "plt.xticks(percentages, [f\"{p}%\" for p in percentages])\n",
        "\n",
        "plt.xlabel('Annotated')\n",
        "plt.ylabel('Accuracy')\n",
        "plt.legend(loc='lower right')\n",
        "plt.grid()\n",
        "plt.savefig('../Plots/compare-G2.png')\n",
        "plt.show()"
      ],
      "metadata": {
        "colab": {
          "base_uri": "https://localhost:8080/",
          "height": 449
        },
        "id": "HykbwazyQgwp",
        "outputId": "0c4a4b25-cd22-4a1a-9854-69e272adbb3e"
      },
      "execution_count": 32,
      "outputs": [
        {
          "output_type": "display_data",
          "data": {
            "text/plain": [
              "<Figure size 640x480 with 1 Axes>"
            ],
            "image/png": "[encoded data removed]"
          },
          "metadata": {}
        }
      ]
    },
    {
      "cell_type": "code",
      "source": [
        "with open('G2_accuracies.pkl', 'wb') as file:\n",
        "    pickle.dump(accuracies, file)"
      ],
      "metadata": {
        "id": "XtAbHFVgQ54E"
      },
      "execution_count": 28,
      "outputs": []
    },
    {
      "cell_type": "code",
      "source": [
        "from google.colab import files\n",
        "\n",
        "uploaded = files.upload()"
      ],
      "metadata": {
        "colab": {
          "base_uri": "https://localhost:8080/",
          "height": 73
        },
        "id": "5ukgS9hGRf8a",
        "outputId": "70e807bc-5de5-4eca-e2d7-d0ae7b530858"
      },
      "execution_count": 29,
      "outputs": [
        {
          "output_type": "display_data",
          "data": {
            "text/plain": [
              "<IPython.core.display.HTML object>"
            ],
            "text/html": [
              "\n",
              "     <input type=\"file\" id=\"files-89f54dfb-dd84-49c1-82d0-acf728fde189\" name=\"files[]\" multiple disabled\n",
              "        style=\"border:none\" />\n",
              "     <output id=\"result-89f54dfb-dd84-49c1-82d0-acf728fde189\">\n",
              "      Upload widget is only available when the cell has been executed in the\n",
              "      current browser session. Please rerun this cell to enable.\n",
              "      </output>\n",
              "      <script>// Copyright 2017 Google LLC\n",
              "//\n",
              "// Licensed under the Apache License, Version 2.0 (the \"License\");\n",
              "// you may not use this file except in compliance with the License.\n",
              "// You may obtain a copy of the License at\n",
              "//\n",
              "//      http://www.apache.org/licenses/LICENSE-2.0\n",
              "//\n",
              "// Unless required by applicable law or agreed to in writing, software\n",
              "// distributed under the License is distributed on an \"AS IS\" BASIS,\n",
              "// WITHOUT WARRANTIES OR CONDITIONS OF ANY KIND, either express or implied.\n",
              "// See the License for the specific language governing permissions and\n",
              "// limitations under the License.\n",
              "\n",
              "/**\n",
              " * @fileoverview Helpers for google.colab Python module.\n",
              " */\n",
              "(function(scope) {\n",
              "function span(text, styleAttributes = {}) {\n",
              "  const element = document.createElement('span');\n",
              "  element.textContent = text;\n",
              "  for (const key of Object.keys(styleAttributes)) {\n",
              "    element.style[key] = styleAttributes[key];\n",
              "  }\n",
              "  return element;\n",
              "}\n",
              "\n",
              "// Max number of bytes which will be uploaded at a time.\n",
              "const MAX_PAYLOAD_SIZE = 100 * 1024;\n",
              "\n",
              "function _uploadFiles(inputId, outputId) {\n",
              "  const steps = uploadFilesStep(inputId, outputId);\n",
              "  const outputElement = document.getElementById(outputId);\n",
              "  // Cache steps on the outputElement to make it available for the next call\n",
              "  // to uploadFilesContinue from Python.\n",
              "  outputElement.steps = steps;\n",
              "\n",
              "  return _uploadFilesContinue(outputId);\n",
              "}\n",
              "\n",
              "// This is roughly an async generator (not supported in the browser yet),\n",
              "// where there are multiple asynchronous steps and the Python side is going\n",
              "// to poll for completion of each step.\n",
              "// This uses a Promise to block the python side on completion of each step,\n",
              "// then passes the result of the previous step as the input to the next step.\n",
              "function _uploadFilesContinue(outputId) {\n",
              "  const outputElement = document.getElementById(outputId);\n",
              "  const steps = outputElement.steps;\n",
              "\n",
              "  const next = steps.next(outputElement.lastPromiseValue);\n",
              "  return Promise.resolve(next.value.promise).then((value) => {\n",
              "    // Cache the last promise value to make it available to the next\n",
              "    // step of the generator.\n",
              "    outputElement.lastPromiseValue = value;\n",
              "    return next.value.response;\n",
              "  });\n",
              "}\n",
              "\n",
              "/**\n",
              " * Generator function which is called between each async step of the upload\n",
              " * process.\n",
              " * @param {string} inputId Element ID of the input file picker element.\n",
              " * @param {string} outputId Element ID of the output display.\n",
              " * @return {!Iterable<!Object>} Iterable of next steps.\n",
              " */\n",
              "function* uploadFilesStep(inputId, outputId) {\n",
              "  const inputElement = document.getElementById(inputId);\n",
              "  inputElement.disabled = false;\n",
              "\n",
              "  const outputElement = document.getElementById(outputId);\n",
              "  outputElement.innerHTML = '';\n",
              "\n",
              "  const pickedPromise = new Promise((resolve) => {\n",
              "    inputElement.addEventListener('change', (e) => {\n",
              "      resolve(e.target.files);\n",
              "    });\n",
              "  });\n",
              "\n",
              "  const cancel = document.createElement('button');\n",
              "  inputElement.parentElement.appendChild(cancel);\n",
              "  cancel.textContent = 'Cancel upload';\n",
              "  const cancelPromise = new Promise((resolve) => {\n",
              "    cancel.onclick = () => {\n",
              "      resolve(null);\n",
              "    };\n",
              "  });\n",
              "\n",
              "  // Wait for the user to pick the files.\n",
              "  const files = yield {\n",
              "    promise: Promise.race([pickedPromise, cancelPromise]),\n",
              "    response: {\n",
              "      action: 'starting',\n",
              "    }\n",
              "  };\n",
              "\n",
              "  cancel.remove();\n",
              "\n",
              "  // Disable the input element since further picks are not allowed.\n",
              "  inputElement.disabled = true;\n",
              "\n",
              "  if (!files) {\n",
              "    return {\n",
              "      response: {\n",
              "        action: 'complete',\n",
              "      }\n",
              "    };\n",
              "  }\n",
              "\n",
              "  for (const file of files) {\n",
              "    const li = document.createElement('li');\n",
              "    li.append(span(file.name, {fontWeight: 'bold'}));\n",
              "    li.append(span(\n",
              "        `(${file.type || 'n/a'}) - ${file.size} bytes, ` +\n",
              "        `last modified: ${\n",
              "            file.lastModifiedDate ? file.lastModifiedDate.toLocaleDateString() :\n",
              "                                    'n/a'} - `));\n",
              "    const percent = span('0% done');\n",
              "    li.appendChild(percent);\n",
              "\n",
              "    outputElement.appendChild(li);\n",
              "\n",
              "    const fileDataPromise = new Promise((resolve) => {\n",
              "      const reader = new FileReader();\n",
              "      reader.onload = (e) => {\n",
              "        resolve(e.target.result);\n",
              "      };\n",
              "      reader.readAsArrayBuffer(file);\n",
              "    });\n",
              "    // Wait for the data to be ready.\n",
              "    let fileData = yield {\n",
              "      promise: fileDataPromise,\n",
              "      response: {\n",
              "        action: 'continue',\n",
              "      }\n",
              "    };\n",
              "\n",
              "    // Use a chunked sending to avoid message size limits. See b/62115660.\n",
              "    let position = 0;\n",
              "    do {\n",
              "      const length = Math.min(fileData.byteLength - position, MAX_PAYLOAD_SIZE);\n",
              "      const chunk = new Uint8Array(fileData, position, length);\n",
              "      position += length;\n",
              "\n",
              "      const base64 = btoa(String.fromCharCode.apply(null, chunk));\n",
              "      yield {\n",
              "        response: {\n",
              "          action: 'append',\n",
              "          file: file.name,\n",
              "          data: base64,\n",
              "        },\n",
              "      };\n",
              "\n",
              "      let percentDone = fileData.byteLength === 0 ?\n",
              "          100 :\n",
              "          Math.round((position / fileData.byteLength) * 100);\n",
              "      percent.textContent = `${percentDone}% done`;\n",
              "\n",
              "    } while (position < fileData.byteLength);\n",
              "  }\n",
              "\n",
              "  // All done.\n",
              "  yield {\n",
              "    response: {\n",
              "      action: 'complete',\n",
              "    }\n",
              "  };\n",
              "}\n",
              "\n",
              "scope.google = scope.google || {};\n",
              "scope.google.colab = scope.google.colab || {};\n",
              "scope.google.colab._files = {\n",
              "  _uploadFiles,\n",
              "  _uploadFilesContinue,\n",
              "};\n",
              "})(self);\n",
              "</script> "
            ]
          },
          "metadata": {}
        },
        {
          "output_type": "stream",
          "name": "stdout",
          "text": [
            "Saving G1_accuracies.pkl to G1_accuracies.pkl\n"
          ]
        }
      ]
    },
    {
      "cell_type": "code",
      "source": [
        "with open('G1_accuracies.pkl', 'rb') as file:\n",
        "    G1_accuracies = pickle.load(file)"
      ],
      "metadata": {
        "id": "t_NtjznpSA56"
      },
      "execution_count": 30,
      "outputs": []
    },
    {
      "cell_type": "code",
      "source": [
        "plt.semilogx(percentages, bert_accuracies, marker='o', color='blue', label='BERT')\n",
        "plt.semilogx(percentages, accuracies, marker='o', color='black', label='GAN-Bert-G2')\n",
        "plt.semilogx(percentages, G1_accuracies, marker='o', color='red', label='GAN-Bert-G1')\n",
        "plt.xticks(percentages, [f\"{p}%\" for p in percentages])\n",
        "\n",
        "plt.xlabel('Annotated')\n",
        "plt.ylabel('Accuracy')\n",
        "plt.legend(loc='lower right')\n",
        "plt.grid()\n",
        "plt.savefig('../Plots/compare-G2-G1.png')\n",
        "plt.show()"
      ],
      "metadata": {
        "id": "sb79hCDxRhAj"
      },
      "execution_count": null,
      "outputs": []
    },
    {
      "cell_type": "markdown",
      "source": [
        "![compare-G2-G1.png](data:image/png;base64,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)"
      ],
      "metadata": {
        "id": "JQo82a1nsVw0"
      }
    }
  ],
  "metadata": {
    "accelerator": "GPU",
    "colab": {
      "gpuType": "T4",
      "provenance": []
    },
    "kernelspec": {
      "display_name": "Python 3",
      "name": "python3"
    },
    "language_info": {
      "name": "python"
    },
    "widgets": {
      "application/vnd.jupyter.widget-state+json": {
        "d331ac92a1d04c5fa98c9052b143437d": {
          "model_module": "@jupyter-widgets/controls",
          "model_name": "HBoxModel",
          "model_module_version": "1.5.0",
          "state": {
            "_dom_classes": [],
            "_model_module": "@jupyter-widgets/controls",
            "_model_module_version": "1.5.0",
            "_model_name": "HBoxModel",
            "_view_count": null,
            "_view_module": "@jupyter-widgets/controls",
            "_view_module_version": "1.5.0",
            "_view_name": "HBoxView",
            "box_style": "",
            "children": [
              "IPY_MODEL_01c9f7614e7448228e1c723639981d58",
              "IPY_MODEL_24758463174947eca5bcdd10c2f2536f",
              "IPY_MODEL_9de85149a03f47a5bbcfe96425fc5d09"
            ],
            "layout": "IPY_MODEL_b89fd3f3c3344fd5a1b2e878d6a27f40"
          }
        },
        "01c9f7614e7448228e1c723639981d58": {
          "model_module": "@jupyter-widgets/controls",
          "model_name": "HTMLModel",
          "model_module_version": "1.5.0",
          "state": {
            "_dom_classes": [],
            "_model_module": "@jupyter-widgets/controls",
            "_model_module_version": "1.5.0",
            "_model_name": "HTMLModel",
            "_view_count": null,
            "_view_module": "@jupyter-widgets/controls",
            "_view_module_version": "1.5.0",
            "_view_name": "HTMLView",
            "description": "",
            "description_tooltip": null,
            "layout": "IPY_MODEL_7f7e25d4ac44446187f95d0abde32669",
            "placeholder": "​",
            "style": "IPY_MODEL_121e6d6a0fb64ee78b620cd459ba7266",
            "value": "tokenizer_config.json: 100%"
          }
        },
        "24758463174947eca5bcdd10c2f2536f": {
          "model_module": "@jupyter-widgets/controls",
          "model_name": "FloatProgressModel",
          "model_module_version": "1.5.0",
          "state": {
            "_dom_classes": [],
            "_model_module": "@jupyter-widgets/controls",
            "_model_module_version": "1.5.0",
            "_model_name": "FloatProgressModel",
            "_view_count": null,
            "_view_module": "@jupyter-widgets/controls",
            "_view_module_version": "1.5.0",
            "_view_name": "ProgressView",
            "bar_style": "success",
            "description": "",
            "description_tooltip": null,
            "layout": "IPY_MODEL_5663fc3859614f0d87faf5a453ab3e5b",
            "max": 28,
            "min": 0,
            "orientation": "horizontal",
            "style": "IPY_MODEL_7c1f9a7683c744f49d492c31c76a4ecc",
            "value": 28
          }
        },
        "9de85149a03f47a5bbcfe96425fc5d09": {
          "model_module": "@jupyter-widgets/controls",
          "model_name": "HTMLModel",
          "model_module_version": "1.5.0",
          "state": {
            "_dom_classes": [],
            "_model_module": "@jupyter-widgets/controls",
            "_model_module_version": "1.5.0",
            "_model_name": "HTMLModel",
            "_view_count": null,
            "_view_module": "@jupyter-widgets/controls",
            "_view_module_version": "1.5.0",
            "_view_name": "HTMLView",
            "description": "",
            "description_tooltip": null,
            "layout": "IPY_MODEL_8ab9acc046b146a7b97d031b7a901618",
            "placeholder": "​",
            "style": "IPY_MODEL_90c462d29cbb4017a3bcb6cbe9c6189e",
            "value": " 28.0/28.0 [00:00&lt;00:00, 813B/s]"
          }
        },
        "b89fd3f3c3344fd5a1b2e878d6a27f40": {
          "model_module": "@jupyter-widgets/base",
          "model_name": "LayoutModel",
          "model_module_version": "1.2.0",
          "state": {
            "_model_module": "@jupyter-widgets/base",
            "_model_module_version": "1.2.0",
            "_model_name": "LayoutModel",
            "_view_count": null,
            "_view_module": "@jupyter-widgets/base",
            "_view_module_version": "1.2.0",
            "_view_name": "LayoutView",
            "align_content": null,
            "align_items": null,
            "align_self": null,
            "border": null,
            "bottom": null,
            "display": null,
            "flex": null,
            "flex_flow": null,
            "grid_area": null,
            "grid_auto_columns": null,
            "grid_auto_flow": null,
            "grid_auto_rows": null,
            "grid_column": null,
            "grid_gap": null,
            "grid_row": null,
            "grid_template_areas": null,
            "grid_template_columns": null,
            "grid_template_rows": null,
            "height": null,
            "justify_content": null,
            "justify_items": null,
            "left": null,
            "margin": null,
            "max_height": null,
            "max_width": null,
            "min_height": null,
            "min_width": null,
            "object_fit": null,
            "object_position": null,
            "order": null,
            "overflow": null,
            "overflow_x": null,
            "overflow_y": null,
            "padding": null,
            "right": null,
            "top": null,
            "visibility": null,
            "width": null
          }
        },
        "7f7e25d4ac44446187f95d0abde32669": {
          "model_module": "@jupyter-widgets/base",
          "model_name": "LayoutModel",
          "model_module_version": "1.2.0",
          "state": {
            "_model_module": "@jupyter-widgets/base",
            "_model_module_version": "1.2.0",
            "_model_name": "LayoutModel",
            "_view_count": null,
            "_view_module": "@jupyter-widgets/base",
            "_view_module_version": "1.2.0",
            "_view_name": "LayoutView",
            "align_content": null,
            "align_items": null,
            "align_self": null,
            "border": null,
            "bottom": null,
            "display": null,
            "flex": null,
            "flex_flow": null,
            "grid_area": null,
            "grid_auto_columns": null,
            "grid_auto_flow": null,
            "grid_auto_rows": null,
            "grid_column": null,
            "grid_gap": null,
            "grid_row": null,
            "grid_template_areas": null,
            "grid_template_columns": null,
            "grid_template_rows": null,
            "height": null,
            "justify_content": null,
            "justify_items": null,
            "left": null,
            "margin": null,
            "max_height": null,
            "max_width": null,
            "min_height": null,
            "min_width": null,
            "object_fit": null,
            "object_position": null,
            "order": null,
            "overflow": null,
            "overflow_x": null,
            "overflow_y": null,
            "padding": null,
            "right": null,
            "top": null,
            "visibility": null,
            "width": null
          }
        },
        "121e6d6a0fb64ee78b620cd459ba7266": {
          "model_module": "@jupyter-widgets/controls",
          "model_name": "DescriptionStyleModel",
          "model_module_version": "1.5.0",
          "state": {
            "_model_module": "@jupyter-widgets/controls",
            "_model_module_version": "1.5.0",
            "_model_name": "DescriptionStyleModel",
            "_view_count": null,
            "_view_module": "@jupyter-widgets/base",
            "_view_module_version": "1.2.0",
            "_view_name": "StyleView",
            "description_width": ""
          }
        },
        "5663fc3859614f0d87faf5a453ab3e5b": {
          "model_module": "@jupyter-widgets/base",
          "model_name": "LayoutModel",
          "model_module_version": "1.2.0",
          "state": {
            "_model_module": "@jupyter-widgets/base",
            "_model_module_version": "1.2.0",
            "_model_name": "LayoutModel",
            "_view_count": null,
            "_view_module": "@jupyter-widgets/base",
            "_view_module_version": "1.2.0",
            "_view_name": "LayoutView",
            "align_content": null,
            "align_items": null,
            "align_self": null,
            "border": null,
            "bottom": null,
            "display": null,
            "flex": null,
            "flex_flow": null,
            "grid_area": null,
            "grid_auto_columns": null,
            "grid_auto_flow": null,
            "grid_auto_rows": null,
            "grid_column": null,
            "grid_gap": null,
            "grid_row": null,
            "grid_template_areas": null,
            "grid_template_columns": null,
            "grid_template_rows": null,
            "height": null,
            "justify_content": null,
            "justify_items": null,
            "left": null,
            "margin": null,
            "max_height": null,
            "max_width": null,
            "min_height": null,
            "min_width": null,
            "object_fit": null,
            "object_position": null,
            "order": null,
            "overflow": null,
            "overflow_x": null,
            "overflow_y": null,
            "padding": null,
            "right": null,
            "top": null,
            "visibility": null,
            "width": null
          }
        },
        "7c1f9a7683c744f49d492c31c76a4ecc": {
          "model_module": "@jupyter-widgets/controls",
          "model_name": "ProgressStyleModel",
          "model_module_version": "1.5.0",
          "state": {
            "_model_module": "@jupyter-widgets/controls",
            "_model_module_version": "1.5.0",
            "_model_name": "ProgressStyleModel",
            "_view_count": null,
            "_view_module": "@jupyter-widgets/base",
            "_view_module_version": "1.2.0",
            "_view_name": "StyleView",
            "bar_color": null,
            "description_width": ""
          }
        },
        "8ab9acc046b146a7b97d031b7a901618": {
          "model_module": "@jupyter-widgets/base",
          "model_name": "LayoutModel",
          "model_module_version": "1.2.0",
          "state": {
            "_model_module": "@jupyter-widgets/base",
            "_model_module_version": "1.2.0",
            "_model_name": "LayoutModel",
            "_view_count": null,
            "_view_module": "@jupyter-widgets/base",
            "_view_module_version": "1.2.0",
            "_view_name": "LayoutView",
            "align_content": null,
            "align_items": null,
            "align_self": null,
            "border": null,
            "bottom": null,
            "display": null,
            "flex": null,
            "flex_flow": null,
            "grid_area": null,
            "grid_auto_columns": null,
            "grid_auto_flow": null,
            "grid_auto_rows": null,
            "grid_column": null,
            "grid_gap": null,
            "grid_row": null,
            "grid_template_areas": null,
            "grid_template_columns": null,
            "grid_template_rows": null,
            "height": null,
            "justify_content": null,
            "justify_items": null,
            "left": null,
            "margin": null,
            "max_height": null,
            "max_width": null,
            "min_height": null,
            "min_width": null,
            "object_fit": null,
            "object_position": null,
            "order": null,
            "overflow": null,
            "overflow_x": null,
            "overflow_y": null,
            "padding": null,
            "right": null,
            "top": null,
            "visibility": null,
            "width": null
          }
        },
        "90c462d29cbb4017a3bcb6cbe9c6189e": {
          "model_module": "@jupyter-widgets/controls",
          "model_name": "DescriptionStyleModel",
          "model_module_version": "1.5.0",
          "state": {
            "_model_module": "@jupyter-widgets/controls",
            "_model_module_version": "1.5.0",
            "_model_name": "DescriptionStyleModel",
            "_view_count": null,
            "_view_module": "@jupyter-widgets/base",
            "_view_module_version": "1.2.0",
            "_view_name": "StyleView",
            "description_width": ""
          }
        },
        "3cba95fcc2c14b1290768037b26b24cd": {
          "model_module": "@jupyter-widgets/controls",
          "model_name": "HBoxModel",
          "model_module_version": "1.5.0",
          "state": {
            "_dom_classes": [],
            "_model_module": "@jupyter-widgets/controls",
            "_model_module_version": "1.5.0",
            "_model_name": "HBoxModel",
            "_view_count": null,
            "_view_module": "@jupyter-widgets/controls",
            "_view_module_version": "1.5.0",
            "_view_name": "HBoxView",
            "box_style": "",
            "children": [
              "IPY_MODEL_ad0e01c893884576953c9909dc993a4d",
              "IPY_MODEL_64b9893142f843909d9e2e39ffa6c48d",
              "IPY_MODEL_05c7905897314861a053b779b2f608a9"
            ],
            "layout": "IPY_MODEL_f61fee02fc3b460482dca935bd994b0b"
          }
        },
        "ad0e01c893884576953c9909dc993a4d": {
          "model_module": "@jupyter-widgets/controls",
          "model_name": "HTMLModel",
          "model_module_version": "1.5.0",
          "state": {
            "_dom_classes": [],
            "_model_module": "@jupyter-widgets/controls",
            "_model_module_version": "1.5.0",
            "_model_name": "HTMLModel",
            "_view_count": null,
            "_view_module": "@jupyter-widgets/controls",
            "_view_module_version": "1.5.0",
            "_view_name": "HTMLView",
            "description": "",
            "description_tooltip": null,
            "layout": "IPY_MODEL_4ca3a16396e940e0a7de7628fd87636f",
            "placeholder": "​",
            "style": "IPY_MODEL_32e672783dd64007845947f2ee882662",
            "value": "config.json: 100%"
          }
        },
        "64b9893142f843909d9e2e39ffa6c48d": {
          "model_module": "@jupyter-widgets/controls",
          "model_name": "FloatProgressModel",
          "model_module_version": "1.5.0",
          "state": {
            "_dom_classes": [],
            "_model_module": "@jupyter-widgets/controls",
            "_model_module_version": "1.5.0",
            "_model_name": "FloatProgressModel",
            "_view_count": null,
            "_view_module": "@jupyter-widgets/controls",
            "_view_module_version": "1.5.0",
            "_view_name": "ProgressView",
            "bar_style": "success",
            "description": "",
            "description_tooltip": null,
            "layout": "IPY_MODEL_09723a006d564f6d8893ecdd084731d9",
            "max": 570,
            "min": 0,
            "orientation": "horizontal",
            "style": "IPY_MODEL_035fd983d02149dba2171cede1d495bc",
            "value": 570
          }
        },
        "05c7905897314861a053b779b2f608a9": {
          "model_module": "@jupyter-widgets/controls",
          "model_name": "HTMLModel",
          "model_module_version": "1.5.0",
          "state": {
            "_dom_classes": [],
            "_model_module": "@jupyter-widgets/controls",
            "_model_module_version": "1.5.0",
            "_model_name": "HTMLModel",
            "_view_count": null,
            "_view_module": "@jupyter-widgets/controls",
            "_view_module_version": "1.5.0",
            "_view_name": "HTMLView",
            "description": "",
            "description_tooltip": null,
            "layout": "IPY_MODEL_f475b9e364ae4331923386d2d4d16592",
            "placeholder": "​",
            "style": "IPY_MODEL_486b4eb15d094cfea83088104e5af0ca",
            "value": " 570/570 [00:00&lt;00:00, 23.3kB/s]"
          }
        },
        "f61fee02fc3b460482dca935bd994b0b": {
          "model_module": "@jupyter-widgets/base",
          "model_name": "LayoutModel",
          "model_module_version": "1.2.0",
          "state": {
            "_model_module": "@jupyter-widgets/base",
            "_model_module_version": "1.2.0",
            "_model_name": "LayoutModel",
            "_view_count": null,
            "_view_module": "@jupyter-widgets/base",
            "_view_module_version": "1.2.0",
            "_view_name": "LayoutView",
            "align_content": null,
            "align_items": null,
            "align_self": null,
            "border": null,
            "bottom": null,
            "display": null,
            "flex": null,
            "flex_flow": null,
            "grid_area": null,
            "grid_auto_columns": null,
            "grid_auto_flow": null,
            "grid_auto_rows": null,
            "grid_column": null,
            "grid_gap": null,
            "grid_row": null,
            "grid_template_areas": null,
            "grid_template_columns": null,
            "grid_template_rows": null,
            "height": null,
            "justify_content": null,
            "justify_items": null,
            "left": null,
            "margin": null,
            "max_height": null,
            "max_width": null,
            "min_height": null,
            "min_width": null,
            "object_fit": null,
            "object_position": null,
            "order": null,
            "overflow": null,
            "overflow_x": null,
            "overflow_y": null,
            "padding": null,
            "right": null,
            "top": null,
            "visibility": null,
            "width": null
          }
        },
        "4ca3a16396e940e0a7de7628fd87636f": {
          "model_module": "@jupyter-widgets/base",
          "model_name": "LayoutModel",
          "model_module_version": "1.2.0",
          "state": {
            "_model_module": "@jupyter-widgets/base",
            "_model_module_version": "1.2.0",
            "_model_name": "LayoutModel",
            "_view_count": null,
            "_view_module": "@jupyter-widgets/base",
            "_view_module_version": "1.2.0",
            "_view_name": "LayoutView",
            "align_content": null,
            "align_items": null,
            "align_self": null,
            "border": null,
            "bottom": null,
            "display": null,
            "flex": null,
            "flex_flow": null,
            "grid_area": null,
            "grid_auto_columns": null,
            "grid_auto_flow": null,
            "grid_auto_rows": null,
            "grid_column": null,
            "grid_gap": null,
            "grid_row": null,
            "grid_template_areas": null,
            "grid_template_columns": null,
            "grid_template_rows": null,
            "height": null,
            "justify_content": null,
            "justify_items": null,
            "left": null,
            "margin": null,
            "max_height": null,
            "max_width": null,
            "min_height": null,
            "min_width": null,
            "object_fit": null,
            "object_position": null,
            "order": null,
            "overflow": null,
            "overflow_x": null,
            "overflow_y": null,
            "padding": null,
            "right": null,
            "top": null,
            "visibility": null,
            "width": null
          }
        },
        "32e672783dd64007845947f2ee882662": {
          "model_module": "@jupyter-widgets/controls",
          "model_name": "DescriptionStyleModel",
          "model_module_version": "1.5.0",
          "state": {
            "_model_module": "@jupyter-widgets/controls",
            "_model_module_version": "1.5.0",
            "_model_name": "DescriptionStyleModel",
            "_view_count": null,
            "_view_module": "@jupyter-widgets/base",
            "_view_module_version": "1.2.0",
            "_view_name": "StyleView",
            "description_width": ""
          }
        },
        "09723a006d564f6d8893ecdd084731d9": {
          "model_module": "@jupyter-widgets/base",
          "model_name": "LayoutModel",
          "model_module_version": "1.2.0",
          "state": {
            "_model_module": "@jupyter-widgets/base",
            "_model_module_version": "1.2.0",
            "_model_name": "LayoutModel",
            "_view_count": null,
            "_view_module": "@jupyter-widgets/base",
            "_view_module_version": "1.2.0",
            "_view_name": "LayoutView",
            "align_content": null,
            "align_items": null,
            "align_self": null,
            "border": null,
            "bottom": null,
            "display": null,
            "flex": null,
            "flex_flow": null,
            "grid_area": null,
            "grid_auto_columns": null,
            "grid_auto_flow": null,
            "grid_auto_rows": null,
            "grid_column": null,
            "grid_gap": null,
            "grid_row": null,
            "grid_template_areas": null,
            "grid_template_columns": null,
            "grid_template_rows": null,
            "height": null,
            "justify_content": null,
            "justify_items": null,
            "left": null,
            "margin": null,
            "max_height": null,
            "max_width": null,
            "min_height": null,
            "min_width": null,
            "object_fit": null,
            "object_position": null,
            "order": null,
            "overflow": null,
            "overflow_x": null,
            "overflow_y": null,
            "padding": null,
            "right": null,
            "top": null,
            "visibility": null,
            "width": null
          }
        },
        "035fd983d02149dba2171cede1d495bc": {
          "model_module": "@jupyter-widgets/controls",
          "model_name": "ProgressStyleModel",
          "model_module_version": "1.5.0",
          "state": {
            "_model_module": "@jupyter-widgets/controls",
            "_model_module_version": "1.5.0",
            "_model_name": "ProgressStyleModel",
            "_view_count": null,
            "_view_module": "@jupyter-widgets/base",
            "_view_module_version": "1.2.0",
            "_view_name": "StyleView",
            "bar_color": null,
            "description_width": ""
          }
        },
        "f475b9e364ae4331923386d2d4d16592": {
          "model_module": "@jupyter-widgets/base",
          "model_name": "LayoutModel",
          "model_module_version": "1.2.0",
          "state": {
            "_model_module": "@jupyter-widgets/base",
            "_model_module_version": "1.2.0",
            "_model_name": "LayoutModel",
            "_view_count": null,
            "_view_module": "@jupyter-widgets/base",
            "_view_module_version": "1.2.0",
            "_view_name": "LayoutView",
            "align_content": null,
            "align_items": null,
            "align_self": null,
            "border": null,
            "bottom": null,
            "display": null,
            "flex": null,
            "flex_flow": null,
            "grid_area": null,
            "grid_auto_columns": null,
            "grid_auto_flow": null,
            "grid_auto_rows": null,
            "grid_column": null,
            "grid_gap": null,
            "grid_row": null,
            "grid_template_areas": null,
            "grid_template_columns": null,
            "grid_template_rows": null,
            "height": null,
            "justify_content": null,
            "justify_items": null,
            "left": null,
            "margin": null,
            "max_height": null,
            "max_width": null,
            "min_height": null,
            "min_width": null,
            "object_fit": null,
            "object_position": null,
            "order": null,
            "overflow": null,
            "overflow_x": null,
            "overflow_y": null,
            "padding": null,
            "right": null,
            "top": null,
            "visibility": null,
            "width": null
          }
        },
        "486b4eb15d094cfea83088104e5af0ca": {
          "model_module": "@jupyter-widgets/controls",
          "model_name": "DescriptionStyleModel",
          "model_module_version": "1.5.0",
          "state": {
            "_model_module": "@jupyter-widgets/controls",
            "_model_module_version": "1.5.0",
            "_model_name": "DescriptionStyleModel",
            "_view_count": null,
            "_view_module": "@jupyter-widgets/base",
            "_view_module_version": "1.2.0",
            "_view_name": "StyleView",
            "description_width": ""
          }
        },
        "dad92435ad944c63a8f61ca1f1379981": {
          "model_module": "@jupyter-widgets/controls",
          "model_name": "HBoxModel",
          "model_module_version": "1.5.0",
          "state": {
            "_dom_classes": [],
            "_model_module": "@jupyter-widgets/controls",
            "_model_module_version": "1.5.0",
            "_model_name": "HBoxModel",
            "_view_count": null,
            "_view_module": "@jupyter-widgets/controls",
            "_view_module_version": "1.5.0",
            "_view_name": "HBoxView",
            "box_style": "",
            "children": [
              "IPY_MODEL_b578416c798c463e9022eb1d76e3a2b9",
              "IPY_MODEL_c29144610e914e9c8c2abfb24d0ee4d4",
              "IPY_MODEL_a46d6af494264b10adf6e49fad1c0efd"
            ],
            "layout": "IPY_MODEL_2fd1c90b2b15424e973a259e75796b59"
          }
        },
        "b578416c798c463e9022eb1d76e3a2b9": {
          "model_module": "@jupyter-widgets/controls",
          "model_name": "HTMLModel",
          "model_module_version": "1.5.0",
          "state": {
            "_dom_classes": [],
            "_model_module": "@jupyter-widgets/controls",
            "_model_module_version": "1.5.0",
            "_model_name": "HTMLModel",
            "_view_count": null,
            "_view_module": "@jupyter-widgets/controls",
            "_view_module_version": "1.5.0",
            "_view_name": "HTMLView",
            "description": "",
            "description_tooltip": null,
            "layout": "IPY_MODEL_9526dacc461c4659852e36d60ce90530",
            "placeholder": "​",
            "style": "IPY_MODEL_525505dd0ab047539682d5bd63aa8644",
            "value": "vocab.txt: 100%"
          }
        },
        "c29144610e914e9c8c2abfb24d0ee4d4": {
          "model_module": "@jupyter-widgets/controls",
          "model_name": "FloatProgressModel",
          "model_module_version": "1.5.0",
          "state": {
            "_dom_classes": [],
            "_model_module": "@jupyter-widgets/controls",
            "_model_module_version": "1.5.0",
            "_model_name": "FloatProgressModel",
            "_view_count": null,
            "_view_module": "@jupyter-widgets/controls",
            "_view_module_version": "1.5.0",
            "_view_name": "ProgressView",
            "bar_style": "success",
            "description": "",
            "description_tooltip": null,
            "layout": "IPY_MODEL_5409ab40c35644f0ab0b206e8e8d1b4a",
            "max": 231508,
            "min": 0,
            "orientation": "horizontal",
            "style": "IPY_MODEL_5d539c748b114f13b515e13fec5cc8bd",
            "value": 231508
          }
        },
        "a46d6af494264b10adf6e49fad1c0efd": {
          "model_module": "@jupyter-widgets/controls",
          "model_name": "HTMLModel",
          "model_module_version": "1.5.0",
          "state": {
            "_dom_classes": [],
            "_model_module": "@jupyter-widgets/controls",
            "_model_module_version": "1.5.0",
            "_model_name": "HTMLModel",
            "_view_count": null,
            "_view_module": "@jupyter-widgets/controls",
            "_view_module_version": "1.5.0",
            "_view_name": "HTMLView",
            "description": "",
            "description_tooltip": null,
            "layout": "IPY_MODEL_c984ef690f524297b156e062e16a4381",
            "placeholder": "​",
            "style": "IPY_MODEL_6ca18ff930e34744998dd3601e51d597",
            "value": " 232k/232k [00:00&lt;00:00, 4.43MB/s]"
          }
        },
        "2fd1c90b2b15424e973a259e75796b59": {
          "model_module": "@jupyter-widgets/base",
          "model_name": "LayoutModel",
          "model_module_version": "1.2.0",
          "state": {
            "_model_module": "@jupyter-widgets/base",
            "_model_module_version": "1.2.0",
            "_model_name": "LayoutModel",
            "_view_count": null,
            "_view_module": "@jupyter-widgets/base",
            "_view_module_version": "1.2.0",
            "_view_name": "LayoutView",
            "align_content": null,
            "align_items": null,
            "align_self": null,
            "border": null,
            "bottom": null,
            "display": null,
            "flex": null,
            "flex_flow": null,
            "grid_area": null,
            "grid_auto_columns": null,
            "grid_auto_flow": null,
            "grid_auto_rows": null,
            "grid_column": null,
            "grid_gap": null,
            "grid_row": null,
            "grid_template_areas": null,
            "grid_template_columns": null,
            "grid_template_rows": null,
            "height": null,
            "justify_content": null,
            "justify_items": null,
            "left": null,
            "margin": null,
            "max_height": null,
            "max_width": null,
            "min_height": null,
            "min_width": null,
            "object_fit": null,
            "object_position": null,
            "order": null,
            "overflow": null,
            "overflow_x": null,
            "overflow_y": null,
            "padding": null,
            "right": null,
            "top": null,
            "visibility": null,
            "width": null
          }
        },
        "9526dacc461c4659852e36d60ce90530": {
          "model_module": "@jupyter-widgets/base",
          "model_name": "LayoutModel",
          "model_module_version": "1.2.0",
          "state": {
            "_model_module": "@jupyter-widgets/base",
            "_model_module_version": "1.2.0",
            "_model_name": "LayoutModel",
            "_view_count": null,
            "_view_module": "@jupyter-widgets/base",
            "_view_module_version": "1.2.0",
            "_view_name": "LayoutView",
            "align_content": null,
            "align_items": null,
            "align_self": null,
            "border": null,
            "bottom": null,
            "display": null,
            "flex": null,
            "flex_flow": null,
            "grid_area": null,
            "grid_auto_columns": null,
            "grid_auto_flow": null,
            "grid_auto_rows": null,
            "grid_column": null,
            "grid_gap": null,
            "grid_row": null,
            "grid_template_areas": null,
            "grid_template_columns": null,
            "grid_template_rows": null,
            "height": null,
            "justify_content": null,
            "justify_items": null,
            "left": null,
            "margin": null,
            "max_height": null,
            "max_width": null,
            "min_height": null,
            "min_width": null,
            "object_fit": null,
            "object_position": null,
            "order": null,
            "overflow": null,
            "overflow_x": null,
            "overflow_y": null,
            "padding": null,
            "right": null,
            "top": null,
            "visibility": null,
            "width": null
          }
        },
        "525505dd0ab047539682d5bd63aa8644": {
          "model_module": "@jupyter-widgets/controls",
          "model_name": "DescriptionStyleModel",
          "model_module_version": "1.5.0",
          "state": {
            "_model_module": "@jupyter-widgets/controls",
            "_model_module_version": "1.5.0",
            "_model_name": "DescriptionStyleModel",
            "_view_count": null,
            "_view_module": "@jupyter-widgets/base",
            "_view_module_version": "1.2.0",
            "_view_name": "StyleView",
            "description_width": ""
          }
        },
        "5409ab40c35644f0ab0b206e8e8d1b4a": {
          "model_module": "@jupyter-widgets/base",
          "model_name": "LayoutModel",
          "model_module_version": "1.2.0",
          "state": {
            "_model_module": "@jupyter-widgets/base",
            "_model_module_version": "1.2.0",
            "_model_name": "LayoutModel",
            "_view_count": null,
            "_view_module": "@jupyter-widgets/base",
            "_view_module_version": "1.2.0",
            "_view_name": "LayoutView",
            "align_content": null,
            "align_items": null,
            "align_self": null,
            "border": null,
            "bottom": null,
            "display": null,
            "flex": null,
            "flex_flow": null,
            "grid_area": null,
            "grid_auto_columns": null,
            "grid_auto_flow": null,
            "grid_auto_rows": null,
            "grid_column": null,
            "grid_gap": null,
            "grid_row": null,
            "grid_template_areas": null,
            "grid_template_columns": null,
            "grid_template_rows": null,
            "height": null,
            "justify_content": null,
            "justify_items": null,
            "left": null,
            "margin": null,
            "max_height": null,
            "max_width": null,
            "min_height": null,
            "min_width": null,
            "object_fit": null,
            "object_position": null,
            "order": null,
            "overflow": null,
            "overflow_x": null,
            "overflow_y": null,
            "padding": null,
            "right": null,
            "top": null,
            "visibility": null,
            "width": null
          }
        },
        "5d539c748b114f13b515e13fec5cc8bd": {
          "model_module": "@jupyter-widgets/controls",
          "model_name": "ProgressStyleModel",
          "model_module_version": "1.5.0",
          "state": {
            "_model_module": "@jupyter-widgets/controls",
            "_model_module_version": "1.5.0",
            "_model_name": "ProgressStyleModel",
            "_view_count": null,
            "_view_module": "@jupyter-widgets/base",
            "_view_module_version": "1.2.0",
            "_view_name": "StyleView",
            "bar_color": null,
            "description_width": ""
          }
        },
        "c984ef690f524297b156e062e16a4381": {
          "model_module": "@jupyter-widgets/base",
          "model_name": "LayoutModel",
          "model_module_version": "1.2.0",
          "state": {
            "_model_module": "@jupyter-widgets/base",
            "_model_module_version": "1.2.0",
            "_model_name": "LayoutModel",
            "_view_count": null,
            "_view_module": "@jupyter-widgets/base",
            "_view_module_version": "1.2.0",
            "_view_name": "LayoutView",
            "align_content": null,
            "align_items": null,
            "align_self": null,
            "border": null,
            "bottom": null,
            "display": null,
            "flex": null,
            "flex_flow": null,
            "grid_area": null,
            "grid_auto_columns": null,
            "grid_auto_flow": null,
            "grid_auto_rows": null,
            "grid_column": null,
            "grid_gap": null,
            "grid_row": null,
            "grid_template_areas": null,
            "grid_template_columns": null,
            "grid_template_rows": null,
            "height": null,
            "justify_content": null,
            "justify_items": null,
            "left": null,
            "margin": null,
            "max_height": null,
            "max_width": null,
            "min_height": null,
            "min_width": null,
            "object_fit": null,
            "object_position": null,
            "order": null,
            "overflow": null,
            "overflow_x": null,
            "overflow_y": null,
            "padding": null,
            "right": null,
            "top": null,
            "visibility": null,
            "width": null
          }
        },
        "6ca18ff930e34744998dd3601e51d597": {
          "model_module": "@jupyter-widgets/controls",
          "model_name": "DescriptionStyleModel",
          "model_module_version": "1.5.0",
          "state": {
            "_model_module": "@jupyter-widgets/controls",
            "_model_module_version": "1.5.0",
            "_model_name": "DescriptionStyleModel",
            "_view_count": null,
            "_view_module": "@jupyter-widgets/base",
            "_view_module_version": "1.2.0",
            "_view_name": "StyleView",
            "description_width": ""
          }
        },
        "040e3c471c30462fa58cea89ec3ff629": {
          "model_module": "@jupyter-widgets/controls",
          "model_name": "HBoxModel",
          "model_module_version": "1.5.0",
          "state": {
            "_dom_classes": [],
            "_model_module": "@jupyter-widgets/controls",
            "_model_module_version": "1.5.0",
            "_model_name": "HBoxModel",
            "_view_count": null,
            "_view_module": "@jupyter-widgets/controls",
            "_view_module_version": "1.5.0",
            "_view_name": "HBoxView",
            "box_style": "",
            "children": [
              "IPY_MODEL_470e0fc93def4c78bacdaf6374c57add",
              "IPY_MODEL_319698416cfd46f48e18bfb1db6ee2de",
              "IPY_MODEL_47918d25bbe14e71b9f38fa5c54fc8f0"
            ],
            "layout": "IPY_MODEL_6a523bd2e9064b9da57960f1ad11800e"
          }
        },
        "470e0fc93def4c78bacdaf6374c57add": {
          "model_module": "@jupyter-widgets/controls",
          "model_name": "HTMLModel",
          "model_module_version": "1.5.0",
          "state": {
            "_dom_classes": [],
            "_model_module": "@jupyter-widgets/controls",
            "_model_module_version": "1.5.0",
            "_model_name": "HTMLModel",
            "_view_count": null,
            "_view_module": "@jupyter-widgets/controls",
            "_view_module_version": "1.5.0",
            "_view_name": "HTMLView",
            "description": "",
            "description_tooltip": null,
            "layout": "IPY_MODEL_5cacd062c7ad4ac4a323c1afa307294b",
            "placeholder": "​",
            "style": "IPY_MODEL_f45bc4aae4c54ff2bdd9c12b4897bb27",
            "value": "tokenizer.json: 100%"
          }
        },
        "319698416cfd46f48e18bfb1db6ee2de": {
          "model_module": "@jupyter-widgets/controls",
          "model_name": "FloatProgressModel",
          "model_module_version": "1.5.0",
          "state": {
            "_dom_classes": [],
            "_model_module": "@jupyter-widgets/controls",
            "_model_module_version": "1.5.0",
            "_model_name": "FloatProgressModel",
            "_view_count": null,
            "_view_module": "@jupyter-widgets/controls",
            "_view_module_version": "1.5.0",
            "_view_name": "ProgressView",
            "bar_style": "success",
            "description": "",
            "description_tooltip": null,
            "layout": "IPY_MODEL_411a23c9740140b7babe12ca9619d8e8",
            "max": 466062,
            "min": 0,
            "orientation": "horizontal",
            "style": "IPY_MODEL_4d11c7fe1fce4a2788be76419ebd215e",
            "value": 466062
          }
        },
        "47918d25bbe14e71b9f38fa5c54fc8f0": {
          "model_module": "@jupyter-widgets/controls",
          "model_name": "HTMLModel",
          "model_module_version": "1.5.0",
          "state": {
            "_dom_classes": [],
            "_model_module": "@jupyter-widgets/controls",
            "_model_module_version": "1.5.0",
            "_model_name": "HTMLModel",
            "_view_count": null,
            "_view_module": "@jupyter-widgets/controls",
            "_view_module_version": "1.5.0",
            "_view_name": "HTMLView",
            "description": "",
            "description_tooltip": null,
            "layout": "IPY_MODEL_1caa92af1e44415eb5c945912363774f",
            "placeholder": "​",
            "style": "IPY_MODEL_01eeb1573d58458cb089c1d903471899",
            "value": " 466k/466k [00:00&lt;00:00, 20.0MB/s]"
          }
        },
        "6a523bd2e9064b9da57960f1ad11800e": {
          "model_module": "@jupyter-widgets/base",
          "model_name": "LayoutModel",
          "model_module_version": "1.2.0",
          "state": {
            "_model_module": "@jupyter-widgets/base",
            "_model_module_version": "1.2.0",
            "_model_name": "LayoutModel",
            "_view_count": null,
            "_view_module": "@jupyter-widgets/base",
            "_view_module_version": "1.2.0",
            "_view_name": "LayoutView",
            "align_content": null,
            "align_items": null,
            "align_self": null,
            "border": null,
            "bottom": null,
            "display": null,
            "flex": null,
            "flex_flow": null,
            "grid_area": null,
            "grid_auto_columns": null,
            "grid_auto_flow": null,
            "grid_auto_rows": null,
            "grid_column": null,
            "grid_gap": null,
            "grid_row": null,
            "grid_template_areas": null,
            "grid_template_columns": null,
            "grid_template_rows": null,
            "height": null,
            "justify_content": null,
            "justify_items": null,
            "left": null,
            "margin": null,
            "max_height": null,
            "max_width": null,
            "min_height": null,
            "min_width": null,
            "object_fit": null,
            "object_position": null,
            "order": null,
            "overflow": null,
            "overflow_x": null,
            "overflow_y": null,
            "padding": null,
            "right": null,
            "top": null,
            "visibility": null,
            "width": null
          }
        },
        "5cacd062c7ad4ac4a323c1afa307294b": {
          "model_module": "@jupyter-widgets/base",
          "model_name": "LayoutModel",
          "model_module_version": "1.2.0",
          "state": {
            "_model_module": "@jupyter-widgets/base",
            "_model_module_version": "1.2.0",
            "_model_name": "LayoutModel",
            "_view_count": null,
            "_view_module": "@jupyter-widgets/base",
            "_view_module_version": "1.2.0",
            "_view_name": "LayoutView",
            "align_content": null,
            "align_items": null,
            "align_self": null,
            "border": null,
            "bottom": null,
            "display": null,
            "flex": null,
            "flex_flow": null,
            "grid_area": null,
            "grid_auto_columns": null,
            "grid_auto_flow": null,
            "grid_auto_rows": null,
            "grid_column": null,
            "grid_gap": null,
            "grid_row": null,
            "grid_template_areas": null,
            "grid_template_columns": null,
            "grid_template_rows": null,
            "height": null,
            "justify_content": null,
            "justify_items": null,
            "left": null,
            "margin": null,
            "max_height": null,
            "max_width": null,
            "min_height": null,
            "min_width": null,
            "object_fit": null,
            "object_position": null,
            "order": null,
            "overflow": null,
            "overflow_x": null,
            "overflow_y": null,
            "padding": null,
            "right": null,
            "top": null,
            "visibility": null,
            "width": null
          }
        },
        "f45bc4aae4c54ff2bdd9c12b4897bb27": {
          "model_module": "@jupyter-widgets/controls",
          "model_name": "DescriptionStyleModel",
          "model_module_version": "1.5.0",
          "state": {
            "_model_module": "@jupyter-widgets/controls",
            "_model_module_version": "1.5.0",
            "_model_name": "DescriptionStyleModel",
            "_view_count": null,
            "_view_module": "@jupyter-widgets/base",
            "_view_module_version": "1.2.0",
            "_view_name": "StyleView",
            "description_width": ""
          }
        },
        "411a23c9740140b7babe12ca9619d8e8": {
          "model_module": "@jupyter-widgets/base",
          "model_name": "LayoutModel",
          "model_module_version": "1.2.0",
          "state": {
            "_model_module": "@jupyter-widgets/base",
            "_model_module_version": "1.2.0",
            "_model_name": "LayoutModel",
            "_view_count": null,
            "_view_module": "@jupyter-widgets/base",
            "_view_module_version": "1.2.0",
            "_view_name": "LayoutView",
            "align_content": null,
            "align_items": null,
            "align_self": null,
            "border": null,
            "bottom": null,
            "display": null,
            "flex": null,
            "flex_flow": null,
            "grid_area": null,
            "grid_auto_columns": null,
            "grid_auto_flow": null,
            "grid_auto_rows": null,
            "grid_column": null,
            "grid_gap": null,
            "grid_row": null,
            "grid_template_areas": null,
            "grid_template_columns": null,
            "grid_template_rows": null,
            "height": null,
            "justify_content": null,
            "justify_items": null,
            "left": null,
            "margin": null,
            "max_height": null,
            "max_width": null,
            "min_height": null,
            "min_width": null,
            "object_fit": null,
            "object_position": null,
            "order": null,
            "overflow": null,
            "overflow_x": null,
            "overflow_y": null,
            "padding": null,
            "right": null,
            "top": null,
            "visibility": null,
            "width": null
          }
        },
        "4d11c7fe1fce4a2788be76419ebd215e": {
          "model_module": "@jupyter-widgets/controls",
          "model_name": "ProgressStyleModel",
          "model_module_version": "1.5.0",
          "state": {
            "_model_module": "@jupyter-widgets/controls",
            "_model_module_version": "1.5.0",
            "_model_name": "ProgressStyleModel",
            "_view_count": null,
            "_view_module": "@jupyter-widgets/base",
            "_view_module_version": "1.2.0",
            "_view_name": "StyleView",
            "bar_color": null,
            "description_width": ""
          }
        },
        "1caa92af1e44415eb5c945912363774f": {
          "model_module": "@jupyter-widgets/base",
          "model_name": "LayoutModel",
          "model_module_version": "1.2.0",
          "state": {
            "_model_module": "@jupyter-widgets/base",
            "_model_module_version": "1.2.0",
            "_model_name": "LayoutModel",
            "_view_count": null,
            "_view_module": "@jupyter-widgets/base",
            "_view_module_version": "1.2.0",
            "_view_name": "LayoutView",
            "align_content": null,
            "align_items": null,
            "align_self": null,
            "border": null,
            "bottom": null,
            "display": null,
            "flex": null,
            "flex_flow": null,
            "grid_area": null,
            "grid_auto_columns": null,
            "grid_auto_flow": null,
            "grid_auto_rows": null,
            "grid_column": null,
            "grid_gap": null,
            "grid_row": null,
            "grid_template_areas": null,
            "grid_template_columns": null,
            "grid_template_rows": null,
            "height": null,
            "justify_content": null,
            "justify_items": null,
            "left": null,
            "margin": null,
            "max_height": null,
            "max_width": null,
            "min_height": null,
            "min_width": null,
            "object_fit": null,
            "object_position": null,
            "order": null,
            "overflow": null,
            "overflow_x": null,
            "overflow_y": null,
            "padding": null,
            "right": null,
            "top": null,
            "visibility": null,
            "width": null
          }
        },
        "01eeb1573d58458cb089c1d903471899": {
          "model_module": "@jupyter-widgets/controls",
          "model_name": "DescriptionStyleModel",
          "model_module_version": "1.5.0",
          "state": {
            "_model_module": "@jupyter-widgets/controls",
            "_model_module_version": "1.5.0",
            "_model_name": "DescriptionStyleModel",
            "_view_count": null,
            "_view_module": "@jupyter-widgets/base",
            "_view_module_version": "1.2.0",
            "_view_name": "StyleView",
            "description_width": ""
          }
        },
        "9635b5f0dca444ebb3a07c96eef8b89d": {
          "model_module": "@jupyter-widgets/controls",
          "model_name": "HBoxModel",
          "model_module_version": "1.5.0",
          "state": {
            "_dom_classes": [],
            "_model_module": "@jupyter-widgets/controls",
            "_model_module_version": "1.5.0",
            "_model_name": "HBoxModel",
            "_view_count": null,
            "_view_module": "@jupyter-widgets/controls",
            "_view_module_version": "1.5.0",
            "_view_name": "HBoxView",
            "box_style": "",
            "children": [
              "IPY_MODEL_38d9f58ffa92440e934dd9d8983f46fe",
              "IPY_MODEL_c7939c1ce1c14bb096265dec5964be3a",
              "IPY_MODEL_dc94475b136b45cd820c9c00cc57da61"
            ],
            "layout": "IPY_MODEL_e2e5d661c7c4446c8ee928d15776913c"
          }
        },
        "38d9f58ffa92440e934dd9d8983f46fe": {
          "model_module": "@jupyter-widgets/controls",
          "model_name": "HTMLModel",
          "model_module_version": "1.5.0",
          "state": {
            "_dom_classes": [],
            "_model_module": "@jupyter-widgets/controls",
            "_model_module_version": "1.5.0",
            "_model_name": "HTMLModel",
            "_view_count": null,
            "_view_module": "@jupyter-widgets/controls",
            "_view_module_version": "1.5.0",
            "_view_name": "HTMLView",
            "description": "",
            "description_tooltip": null,
            "layout": "IPY_MODEL_29fab50b360440c0a3287a68895a01d0",
            "placeholder": "​",
            "style": "IPY_MODEL_0a9a51a4fead404d86e9965475f24cea",
            "value": "model.safetensors: 100%"
          }
        },
        "c7939c1ce1c14bb096265dec5964be3a": {
          "model_module": "@jupyter-widgets/controls",
          "model_name": "FloatProgressModel",
          "model_module_version": "1.5.0",
          "state": {
            "_dom_classes": [],
            "_model_module": "@jupyter-widgets/controls",
            "_model_module_version": "1.5.0",
            "_model_name": "FloatProgressModel",
            "_view_count": null,
            "_view_module": "@jupyter-widgets/controls",
            "_view_module_version": "1.5.0",
            "_view_name": "ProgressView",
            "bar_style": "success",
            "description": "",
            "description_tooltip": null,
            "layout": "IPY_MODEL_517c065e266b4b90ac6a1f8aeff28caa",
            "max": 440449768,
            "min": 0,
            "orientation": "horizontal",
            "style": "IPY_MODEL_19d1aee9da064d5e9d8e4bea1226d625",
            "value": 440449768
          }
        },
        "dc94475b136b45cd820c9c00cc57da61": {
          "model_module": "@jupyter-widgets/controls",
          "model_name": "HTMLModel",
          "model_module_version": "1.5.0",
          "state": {
            "_dom_classes": [],
            "_model_module": "@jupyter-widgets/controls",
            "_model_module_version": "1.5.0",
            "_model_name": "HTMLModel",
            "_view_count": null,
            "_view_module": "@jupyter-widgets/controls",
            "_view_module_version": "1.5.0",
            "_view_name": "HTMLView",
            "description": "",
            "description_tooltip": null,
            "layout": "IPY_MODEL_9a58d6aa44de4a0292eefa17f168757f",
            "placeholder": "​",
            "style": "IPY_MODEL_7679fd0c9a58467f83ed3c0a20f5c614",
            "value": " 440M/440M [00:06&lt;00:00, 53.0MB/s]"
          }
        },
        "e2e5d661c7c4446c8ee928d15776913c": {
          "model_module": "@jupyter-widgets/base",
          "model_name": "LayoutModel",
          "model_module_version": "1.2.0",
          "state": {
            "_model_module": "@jupyter-widgets/base",
            "_model_module_version": "1.2.0",
            "_model_name": "LayoutModel",
            "_view_count": null,
            "_view_module": "@jupyter-widgets/base",
            "_view_module_version": "1.2.0",
            "_view_name": "LayoutView",
            "align_content": null,
            "align_items": null,
            "align_self": null,
            "border": null,
            "bottom": null,
            "display": null,
            "flex": null,
            "flex_flow": null,
            "grid_area": null,
            "grid_auto_columns": null,
            "grid_auto_flow": null,
            "grid_auto_rows": null,
            "grid_column": null,
            "grid_gap": null,
            "grid_row": null,
            "grid_template_areas": null,
            "grid_template_columns": null,
            "grid_template_rows": null,
            "height": null,
            "justify_content": null,
            "justify_items": null,
            "left": null,
            "margin": null,
            "max_height": null,
            "max_width": null,
            "min_height": null,
            "min_width": null,
            "object_fit": null,
            "object_position": null,
            "order": null,
            "overflow": null,
            "overflow_x": null,
            "overflow_y": null,
            "padding": null,
            "right": null,
            "top": null,
            "visibility": null,
            "width": null
          }
        },
        "29fab50b360440c0a3287a68895a01d0": {
          "model_module": "@jupyter-widgets/base",
          "model_name": "LayoutModel",
          "model_module_version": "1.2.0",
          "state": {
            "_model_module": "@jupyter-widgets/base",
            "_model_module_version": "1.2.0",
            "_model_name": "LayoutModel",
            "_view_count": null,
            "_view_module": "@jupyter-widgets/base",
            "_view_module_version": "1.2.0",
            "_view_name": "LayoutView",
            "align_content": null,
            "align_items": null,
            "align_self": null,
            "border": null,
            "bottom": null,
            "display": null,
            "flex": null,
            "flex_flow": null,
            "grid_area": null,
            "grid_auto_columns": null,
            "grid_auto_flow": null,
            "grid_auto_rows": null,
            "grid_column": null,
            "grid_gap": null,
            "grid_row": null,
            "grid_template_areas": null,
            "grid_template_columns": null,
            "grid_template_rows": null,
            "height": null,
            "justify_content": null,
            "justify_items": null,
            "left": null,
            "margin": null,
            "max_height": null,
            "max_width": null,
            "min_height": null,
            "min_width": null,
            "object_fit": null,
            "object_position": null,
            "order": null,
            "overflow": null,
            "overflow_x": null,
            "overflow_y": null,
            "padding": null,
            "right": null,
            "top": null,
            "visibility": null,
            "width": null
          }
        },
        "0a9a51a4fead404d86e9965475f24cea": {
          "model_module": "@jupyter-widgets/controls",
          "model_name": "DescriptionStyleModel",
          "model_module_version": "1.5.0",
          "state": {
            "_model_module": "@jupyter-widgets/controls",
            "_model_module_version": "1.5.0",
            "_model_name": "DescriptionStyleModel",
            "_view_count": null,
            "_view_module": "@jupyter-widgets/base",
            "_view_module_version": "1.2.0",
            "_view_name": "StyleView",
            "description_width": ""
          }
        },
        "517c065e266b4b90ac6a1f8aeff28caa": {
          "model_module": "@jupyter-widgets/base",
          "model_name": "LayoutModel",
          "model_module_version": "1.2.0",
          "state": {
            "_model_module": "@jupyter-widgets/base",
            "_model_module_version": "1.2.0",
            "_model_name": "LayoutModel",
            "_view_count": null,
            "_view_module": "@jupyter-widgets/base",
            "_view_module_version": "1.2.0",
            "_view_name": "LayoutView",
            "align_content": null,
            "align_items": null,
            "align_self": null,
            "border": null,
            "bottom": null,
            "display": null,
            "flex": null,
            "flex_flow": null,
            "grid_area": null,
            "grid_auto_columns": null,
            "grid_auto_flow": null,
            "grid_auto_rows": null,
            "grid_column": null,
            "grid_gap": null,
            "grid_row": null,
            "grid_template_areas": null,
            "grid_template_columns": null,
            "grid_template_rows": null,
            "height": null,
            "justify_content": null,
            "justify_items": null,
            "left": null,
            "margin": null,
            "max_height": null,
            "max_width": null,
            "min_height": null,
            "min_width": null,
            "object_fit": null,
            "object_position": null,
            "order": null,
            "overflow": null,
            "overflow_x": null,
            "overflow_y": null,
            "padding": null,
            "right": null,
            "top": null,
            "visibility": null,
            "width": null
          }
        },
        "19d1aee9da064d5e9d8e4bea1226d625": {
          "model_module": "@jupyter-widgets/controls",
          "model_name": "ProgressStyleModel",
          "model_module_version": "1.5.0",
          "state": {
            "_model_module": "@jupyter-widgets/controls",
            "_model_module_version": "1.5.0",
            "_model_name": "ProgressStyleModel",
            "_view_count": null,
            "_view_module": "@jupyter-widgets/base",
            "_view_module_version": "1.2.0",
            "_view_name": "StyleView",
            "bar_color": null,
            "description_width": ""
          }
        },
        "9a58d6aa44de4a0292eefa17f168757f": {
          "model_module": "@jupyter-widgets/base",
          "model_name": "LayoutModel",
          "model_module_version": "1.2.0",
          "state": {
            "_model_module": "@jupyter-widgets/base",
            "_model_module_version": "1.2.0",
            "_model_name": "LayoutModel",
            "_view_count": null,
            "_view_module": "@jupyter-widgets/base",
            "_view_module_version": "1.2.0",
            "_view_name": "LayoutView",
            "align_content": null,
            "align_items": null,
            "align_self": null,
            "border": null,
            "bottom": null,
            "display": null,
            "flex": null,
            "flex_flow": null,
            "grid_area": null,
            "grid_auto_columns": null,
            "grid_auto_flow": null,
            "grid_auto_rows": null,
            "grid_column": null,
            "grid_gap": null,
            "grid_row": null,
            "grid_template_areas": null,
            "grid_template_columns": null,
            "grid_template_rows": null,
            "height": null,
            "justify_content": null,
            "justify_items": null,
            "left": null,
            "margin": null,
            "max_height": null,
            "max_width": null,
            "min_height": null,
            "min_width": null,
            "object_fit": null,
            "object_position": null,
            "order": null,
            "overflow": null,
            "overflow_x": null,
            "overflow_y": null,
            "padding": null,
            "right": null,
            "top": null,
            "visibility": null,
            "width": null
          }
        },
        "7679fd0c9a58467f83ed3c0a20f5c614": {
          "model_module": "@jupyter-widgets/controls",
          "model_name": "DescriptionStyleModel",
          "model_module_version": "1.5.0",
          "state": {
            "_model_module": "@jupyter-widgets/controls",
            "_model_module_version": "1.5.0",
            "_model_name": "DescriptionStyleModel",
            "_view_count": null,
            "_view_module": "@jupyter-widgets/base",
            "_view_module_version": "1.2.0",
            "_view_name": "StyleView",
            "description_width": ""
          }
        },
        "4cb1cc0ee12549b483fef251d4f23e86": {
          "model_module": "@jupyter-widgets/controls",
          "model_name": "HBoxModel",
          "model_module_version": "1.5.0",
          "state": {
            "_dom_classes": [],
            "_model_module": "@jupyter-widgets/controls",
            "_model_module_version": "1.5.0",
            "_model_name": "HBoxModel",
            "_view_count": null,
            "_view_module": "@jupyter-widgets/controls",
            "_view_module_version": "1.5.0",
            "_view_name": "HBoxView",
            "box_style": "",
            "children": [
              "IPY_MODEL_7ebc77b365724d67abfe2281a9609f24",
              "IPY_MODEL_86400c8b6aa341fb89a9bc3ca3c8b496",
              "IPY_MODEL_398463d2983e4235b9e80a49bcc821d8"
            ],
            "layout": "IPY_MODEL_2ee74891abf5456e85b3da4e5d520e79"
          }
        },
        "7ebc77b365724d67abfe2281a9609f24": {
          "model_module": "@jupyter-widgets/controls",
          "model_name": "HTMLModel",
          "model_module_version": "1.5.0",
          "state": {
            "_dom_classes": [],
            "_model_module": "@jupyter-widgets/controls",
            "_model_module_version": "1.5.0",
            "_model_name": "HTMLModel",
            "_view_count": null,
            "_view_module": "@jupyter-widgets/controls",
            "_view_module_version": "1.5.0",
            "_view_name": "HTMLView",
            "description": "",
            "description_tooltip": null,
            "layout": "IPY_MODEL_3c44a3d4a8c145699766a50e8db80344",
            "placeholder": "​",
            "style": "IPY_MODEL_a900fcb77a034c318f7b6730ad70a9bc",
            "value": "vocab.json: 100%"
          }
        },
        "86400c8b6aa341fb89a9bc3ca3c8b496": {
          "model_module": "@jupyter-widgets/controls",
          "model_name": "FloatProgressModel",
          "model_module_version": "1.5.0",
          "state": {
            "_dom_classes": [],
            "_model_module": "@jupyter-widgets/controls",
            "_model_module_version": "1.5.0",
            "_model_name": "FloatProgressModel",
            "_view_count": null,
            "_view_module": "@jupyter-widgets/controls",
            "_view_module_version": "1.5.0",
            "_view_name": "ProgressView",
            "bar_style": "success",
            "description": "",
            "description_tooltip": null,
            "layout": "IPY_MODEL_4121c254e98d466d9f25fae4428a0ddf",
            "max": 1042301,
            "min": 0,
            "orientation": "horizontal",
            "style": "IPY_MODEL_c9227c72eac94873ab43be2ae9e07103",
            "value": 1042301
          }
        },
        "398463d2983e4235b9e80a49bcc821d8": {
          "model_module": "@jupyter-widgets/controls",
          "model_name": "HTMLModel",
          "model_module_version": "1.5.0",
          "state": {
            "_dom_classes": [],
            "_model_module": "@jupyter-widgets/controls",
            "_model_module_version": "1.5.0",
            "_model_name": "HTMLModel",
            "_view_count": null,
            "_view_module": "@jupyter-widgets/controls",
            "_view_module_version": "1.5.0",
            "_view_name": "HTMLView",
            "description": "",
            "description_tooltip": null,
            "layout": "IPY_MODEL_a5c5fd32b91245fdbad269c461ff0150",
            "placeholder": "​",
            "style": "IPY_MODEL_9bca292222c74489ad46b6aca8c9ddc4",
            "value": " 1.04M/1.04M [00:00&lt;00:00, 30.4MB/s]"
          }
        },
        "2ee74891abf5456e85b3da4e5d520e79": {
          "model_module": "@jupyter-widgets/base",
          "model_name": "LayoutModel",
          "model_module_version": "1.2.0",
          "state": {
            "_model_module": "@jupyter-widgets/base",
            "_model_module_version": "1.2.0",
            "_model_name": "LayoutModel",
            "_view_count": null,
            "_view_module": "@jupyter-widgets/base",
            "_view_module_version": "1.2.0",
            "_view_name": "LayoutView",
            "align_content": null,
            "align_items": null,
            "align_self": null,
            "border": null,
            "bottom": null,
            "display": null,
            "flex": null,
            "flex_flow": null,
            "grid_area": null,
            "grid_auto_columns": null,
            "grid_auto_flow": null,
            "grid_auto_rows": null,
            "grid_column": null,
            "grid_gap": null,
            "grid_row": null,
            "grid_template_areas": null,
            "grid_template_columns": null,
            "grid_template_rows": null,
            "height": null,
            "justify_content": null,
            "justify_items": null,
            "left": null,
            "margin": null,
            "max_height": null,
            "max_width": null,
            "min_height": null,
            "min_width": null,
            "object_fit": null,
            "object_position": null,
            "order": null,
            "overflow": null,
            "overflow_x": null,
            "overflow_y": null,
            "padding": null,
            "right": null,
            "top": null,
            "visibility": null,
            "width": null
          }
        },
        "3c44a3d4a8c145699766a50e8db80344": {
          "model_module": "@jupyter-widgets/base",
          "model_name": "LayoutModel",
          "model_module_version": "1.2.0",
          "state": {
            "_model_module": "@jupyter-widgets/base",
            "_model_module_version": "1.2.0",
            "_model_name": "LayoutModel",
            "_view_count": null,
            "_view_module": "@jupyter-widgets/base",
            "_view_module_version": "1.2.0",
            "_view_name": "LayoutView",
            "align_content": null,
            "align_items": null,
            "align_self": null,
            "border": null,
            "bottom": null,
            "display": null,
            "flex": null,
            "flex_flow": null,
            "grid_area": null,
            "grid_auto_columns": null,
            "grid_auto_flow": null,
            "grid_auto_rows": null,
            "grid_column": null,
            "grid_gap": null,
            "grid_row": null,
            "grid_template_areas": null,
            "grid_template_columns": null,
            "grid_template_rows": null,
            "height": null,
            "justify_content": null,
            "justify_items": null,
            "left": null,
            "margin": null,
            "max_height": null,
            "max_width": null,
            "min_height": null,
            "min_width": null,
            "object_fit": null,
            "object_position": null,
            "order": null,
            "overflow": null,
            "overflow_x": null,
            "overflow_y": null,
            "padding": null,
            "right": null,
            "top": null,
            "visibility": null,
            "width": null
          }
        },
        "a900fcb77a034c318f7b6730ad70a9bc": {
          "model_module": "@jupyter-widgets/controls",
          "model_name": "DescriptionStyleModel",
          "model_module_version": "1.5.0",
          "state": {
            "_model_module": "@jupyter-widgets/controls",
            "_model_module_version": "1.5.0",
            "_model_name": "DescriptionStyleModel",
            "_view_count": null,
            "_view_module": "@jupyter-widgets/base",
            "_view_module_version": "1.2.0",
            "_view_name": "StyleView",
            "description_width": ""
          }
        },
        "4121c254e98d466d9f25fae4428a0ddf": {
          "model_module": "@jupyter-widgets/base",
          "model_name": "LayoutModel",
          "model_module_version": "1.2.0",
          "state": {
            "_model_module": "@jupyter-widgets/base",
            "_model_module_version": "1.2.0",
            "_model_name": "LayoutModel",
            "_view_count": null,
            "_view_module": "@jupyter-widgets/base",
            "_view_module_version": "1.2.0",
            "_view_name": "LayoutView",
            "align_content": null,
            "align_items": null,
            "align_self": null,
            "border": null,
            "bottom": null,
            "display": null,
            "flex": null,
            "flex_flow": null,
            "grid_area": null,
            "grid_auto_columns": null,
            "grid_auto_flow": null,
            "grid_auto_rows": null,
            "grid_column": null,
            "grid_gap": null,
            "grid_row": null,
            "grid_template_areas": null,
            "grid_template_columns": null,
            "grid_template_rows": null,
            "height": null,
            "justify_content": null,
            "justify_items": null,
            "left": null,
            "margin": null,
            "max_height": null,
            "max_width": null,
            "min_height": null,
            "min_width": null,
            "object_fit": null,
            "object_position": null,
            "order": null,
            "overflow": null,
            "overflow_x": null,
            "overflow_y": null,
            "padding": null,
            "right": null,
            "top": null,
            "visibility": null,
            "width": null
          }
        },
        "c9227c72eac94873ab43be2ae9e07103": {
          "model_module": "@jupyter-widgets/controls",
          "model_name": "ProgressStyleModel",
          "model_module_version": "1.5.0",
          "state": {
            "_model_module": "@jupyter-widgets/controls",
            "_model_module_version": "1.5.0",
            "_model_name": "ProgressStyleModel",
            "_view_count": null,
            "_view_module": "@jupyter-widgets/base",
            "_view_module_version": "1.2.0",
            "_view_name": "StyleView",
            "bar_color": null,
            "description_width": ""
          }
        },
        "a5c5fd32b91245fdbad269c461ff0150": {
          "model_module": "@jupyter-widgets/base",
          "model_name": "LayoutModel",
          "model_module_version": "1.2.0",
          "state": {
            "_model_module": "@jupyter-widgets/base",
            "_model_module_version": "1.2.0",
            "_model_name": "LayoutModel",
            "_view_count": null,
            "_view_module": "@jupyter-widgets/base",
            "_view_module_version": "1.2.0",
            "_view_name": "LayoutView",
            "align_content": null,
            "align_items": null,
            "align_self": null,
            "border": null,
            "bottom": null,
            "display": null,
            "flex": null,
            "flex_flow": null,
            "grid_area": null,
            "grid_auto_columns": null,
            "grid_auto_flow": null,
            "grid_auto_rows": null,
            "grid_column": null,
            "grid_gap": null,
            "grid_row": null,
            "grid_template_areas": null,
            "grid_template_columns": null,
            "grid_template_rows": null,
            "height": null,
            "justify_content": null,
            "justify_items": null,
            "left": null,
            "margin": null,
            "max_height": null,
            "max_width": null,
            "min_height": null,
            "min_width": null,
            "object_fit": null,
            "object_position": null,
            "order": null,
            "overflow": null,
            "overflow_x": null,
            "overflow_y": null,
            "padding": null,
            "right": null,
            "top": null,
            "visibility": null,
            "width": null
          }
        },
        "9bca292222c74489ad46b6aca8c9ddc4": {
          "model_module": "@jupyter-widgets/controls",
          "model_name": "DescriptionStyleModel",
          "model_module_version": "1.5.0",
          "state": {
            "_model_module": "@jupyter-widgets/controls",
            "_model_module_version": "1.5.0",
            "_model_name": "DescriptionStyleModel",
            "_view_count": null,
            "_view_module": "@jupyter-widgets/base",
            "_view_module_version": "1.2.0",
            "_view_name": "StyleView",
            "description_width": ""
          }
        },
        "b4566b76b95d47abb05c5ea5b2f3b3d6": {
          "model_module": "@jupyter-widgets/controls",
          "model_name": "HBoxModel",
          "model_module_version": "1.5.0",
          "state": {
            "_dom_classes": [],
            "_model_module": "@jupyter-widgets/controls",
            "_model_module_version": "1.5.0",
            "_model_name": "HBoxModel",
            "_view_count": null,
            "_view_module": "@jupyter-widgets/controls",
            "_view_module_version": "1.5.0",
            "_view_name": "HBoxView",
            "box_style": "",
            "children": [
              "IPY_MODEL_37d62eb9d30247199bea4cee7f16947d",
              "IPY_MODEL_b8c328030d2549a981d205b0dbddf5f3",
              "IPY_MODEL_c65cffc5c93f499da68b360a66fa2913"
            ],
            "layout": "IPY_MODEL_fa7c20f788b14347bb7b027e03995a2e"
          }
        },
        "37d62eb9d30247199bea4cee7f16947d": {
          "model_module": "@jupyter-widgets/controls",
          "model_name": "HTMLModel",
          "model_module_version": "1.5.0",
          "state": {
            "_dom_classes": [],
            "_model_module": "@jupyter-widgets/controls",
            "_model_module_version": "1.5.0",
            "_model_name": "HTMLModel",
            "_view_count": null,
            "_view_module": "@jupyter-widgets/controls",
            "_view_module_version": "1.5.0",
            "_view_name": "HTMLView",
            "description": "",
            "description_tooltip": null,
            "layout": "IPY_MODEL_c9080d4d8ee14173975f8dcbf8a1baf0",
            "placeholder": "​",
            "style": "IPY_MODEL_44103376f46a4a6fb92788d8b2dde0ec",
            "value": "merges.txt: 100%"
          }
        },
        "b8c328030d2549a981d205b0dbddf5f3": {
          "model_module": "@jupyter-widgets/controls",
          "model_name": "FloatProgressModel",
          "model_module_version": "1.5.0",
          "state": {
            "_dom_classes": [],
            "_model_module": "@jupyter-widgets/controls",
            "_model_module_version": "1.5.0",
            "_model_name": "FloatProgressModel",
            "_view_count": null,
            "_view_module": "@jupyter-widgets/controls",
            "_view_module_version": "1.5.0",
            "_view_name": "ProgressView",
            "bar_style": "success",
            "description": "",
            "description_tooltip": null,
            "layout": "IPY_MODEL_7f49ace05aa34544aa5f678111c6eadb",
            "max": 456318,
            "min": 0,
            "orientation": "horizontal",
            "style": "IPY_MODEL_ed359a393e0a4725a0cb86f792ce64f0",
            "value": 456318
          }
        },
        "c65cffc5c93f499da68b360a66fa2913": {
          "model_module": "@jupyter-widgets/controls",
          "model_name": "HTMLModel",
          "model_module_version": "1.5.0",
          "state": {
            "_dom_classes": [],
            "_model_module": "@jupyter-widgets/controls",
            "_model_module_version": "1.5.0",
            "_model_name": "HTMLModel",
            "_view_count": null,
            "_view_module": "@jupyter-widgets/controls",
            "_view_module_version": "1.5.0",
            "_view_name": "HTMLView",
            "description": "",
            "description_tooltip": null,
            "layout": "IPY_MODEL_1c2335b276e6433c93b1f48e3a8f548f",
            "placeholder": "​",
            "style": "IPY_MODEL_a81c29734164407f8d9e7a2b8494c272",
            "value": " 456k/456k [00:00&lt;00:00, 19.9MB/s]"
          }
        },
        "fa7c20f788b14347bb7b027e03995a2e": {
          "model_module": "@jupyter-widgets/base",
          "model_name": "LayoutModel",
          "model_module_version": "1.2.0",
          "state": {
            "_model_module": "@jupyter-widgets/base",
            "_model_module_version": "1.2.0",
            "_model_name": "LayoutModel",
            "_view_count": null,
            "_view_module": "@jupyter-widgets/base",
            "_view_module_version": "1.2.0",
            "_view_name": "LayoutView",
            "align_content": null,
            "align_items": null,
            "align_self": null,
            "border": null,
            "bottom": null,
            "display": null,
            "flex": null,
            "flex_flow": null,
            "grid_area": null,
            "grid_auto_columns": null,
            "grid_auto_flow": null,
            "grid_auto_rows": null,
            "grid_column": null,
            "grid_gap": null,
            "grid_row": null,
            "grid_template_areas": null,
            "grid_template_columns": null,
            "grid_template_rows": null,
            "height": null,
            "justify_content": null,
            "justify_items": null,
            "left": null,
            "margin": null,
            "max_height": null,
            "max_width": null,
            "min_height": null,
            "min_width": null,
            "object_fit": null,
            "object_position": null,
            "order": null,
            "overflow": null,
            "overflow_x": null,
            "overflow_y": null,
            "padding": null,
            "right": null,
            "top": null,
            "visibility": null,
            "width": null
          }
        },
        "c9080d4d8ee14173975f8dcbf8a1baf0": {
          "model_module": "@jupyter-widgets/base",
          "model_name": "LayoutModel",
          "model_module_version": "1.2.0",
          "state": {
            "_model_module": "@jupyter-widgets/base",
            "_model_module_version": "1.2.0",
            "_model_name": "LayoutModel",
            "_view_count": null,
            "_view_module": "@jupyter-widgets/base",
            "_view_module_version": "1.2.0",
            "_view_name": "LayoutView",
            "align_content": null,
            "align_items": null,
            "align_self": null,
            "border": null,
            "bottom": null,
            "display": null,
            "flex": null,
            "flex_flow": null,
            "grid_area": null,
            "grid_auto_columns": null,
            "grid_auto_flow": null,
            "grid_auto_rows": null,
            "grid_column": null,
            "grid_gap": null,
            "grid_row": null,
            "grid_template_areas": null,
            "grid_template_columns": null,
            "grid_template_rows": null,
            "height": null,
            "justify_content": null,
            "justify_items": null,
            "left": null,
            "margin": null,
            "max_height": null,
            "max_width": null,
            "min_height": null,
            "min_width": null,
            "object_fit": null,
            "object_position": null,
            "order": null,
            "overflow": null,
            "overflow_x": null,
            "overflow_y": null,
            "padding": null,
            "right": null,
            "top": null,
            "visibility": null,
            "width": null
          }
        },
        "44103376f46a4a6fb92788d8b2dde0ec": {
          "model_module": "@jupyter-widgets/controls",
          "model_name": "DescriptionStyleModel",
          "model_module_version": "1.5.0",
          "state": {
            "_model_module": "@jupyter-widgets/controls",
            "_model_module_version": "1.5.0",
            "_model_name": "DescriptionStyleModel",
            "_view_count": null,
            "_view_module": "@jupyter-widgets/base",
            "_view_module_version": "1.2.0",
            "_view_name": "StyleView",
            "description_width": ""
          }
        },
        "7f49ace05aa34544aa5f678111c6eadb": {
          "model_module": "@jupyter-widgets/base",
          "model_name": "LayoutModel",
          "model_module_version": "1.2.0",
          "state": {
            "_model_module": "@jupyter-widgets/base",
            "_model_module_version": "1.2.0",
            "_model_name": "LayoutModel",
            "_view_count": null,
            "_view_module": "@jupyter-widgets/base",
            "_view_module_version": "1.2.0",
            "_view_name": "LayoutView",
            "align_content": null,
            "align_items": null,
            "align_self": null,
            "border": null,
            "bottom": null,
            "display": null,
            "flex": null,
            "flex_flow": null,
            "grid_area": null,
            "grid_auto_columns": null,
            "grid_auto_flow": null,
            "grid_auto_rows": null,
            "grid_column": null,
            "grid_gap": null,
            "grid_row": null,
            "grid_template_areas": null,
            "grid_template_columns": null,
            "grid_template_rows": null,
            "height": null,
            "justify_content": null,
            "justify_items": null,
            "left": null,
            "margin": null,
            "max_height": null,
            "max_width": null,
            "min_height": null,
            "min_width": null,
            "object_fit": null,
            "object_position": null,
            "order": null,
            "overflow": null,
            "overflow_x": null,
            "overflow_y": null,
            "padding": null,
            "right": null,
            "top": null,
            "visibility": null,
            "width": null
          }
        },
        "ed359a393e0a4725a0cb86f792ce64f0": {
          "model_module": "@jupyter-widgets/controls",
          "model_name": "ProgressStyleModel",
          "model_module_version": "1.5.0",
          "state": {
            "_model_module": "@jupyter-widgets/controls",
            "_model_module_version": "1.5.0",
            "_model_name": "ProgressStyleModel",
            "_view_count": null,
            "_view_module": "@jupyter-widgets/base",
            "_view_module_version": "1.2.0",
            "_view_name": "StyleView",
            "bar_color": null,
            "description_width": ""
          }
        },
        "1c2335b276e6433c93b1f48e3a8f548f": {
          "model_module": "@jupyter-widgets/base",
          "model_name": "LayoutModel",
          "model_module_version": "1.2.0",
          "state": {
            "_model_module": "@jupyter-widgets/base",
            "_model_module_version": "1.2.0",
            "_model_name": "LayoutModel",
            "_view_count": null,
            "_view_module": "@jupyter-widgets/base",
            "_view_module_version": "1.2.0",
            "_view_name": "LayoutView",
            "align_content": null,
            "align_items": null,
            "align_self": null,
            "border": null,
            "bottom": null,
            "display": null,
            "flex": null,
            "flex_flow": null,
            "grid_area": null,
            "grid_auto_columns": null,
            "grid_auto_flow": null,
            "grid_auto_rows": null,
            "grid_column": null,
            "grid_gap": null,
            "grid_row": null,
            "grid_template_areas": null,
            "grid_template_columns": null,
            "grid_template_rows": null,
            "height": null,
            "justify_content": null,
            "justify_items": null,
            "left": null,
            "margin": null,
            "max_height": null,
            "max_width": null,
            "min_height": null,
            "min_width": null,
            "object_fit": null,
            "object_position": null,
            "order": null,
            "overflow": null,
            "overflow_x": null,
            "overflow_y": null,
            "padding": null,
            "right": null,
            "top": null,
            "visibility": null,
            "width": null
          }
        },
        "a81c29734164407f8d9e7a2b8494c272": {
          "model_module": "@jupyter-widgets/controls",
          "model_name": "DescriptionStyleModel",
          "model_module_version": "1.5.0",
          "state": {
            "_model_module": "@jupyter-widgets/controls",
            "_model_module_version": "1.5.0",
            "_model_name": "DescriptionStyleModel",
            "_view_count": null,
            "_view_module": "@jupyter-widgets/base",
            "_view_module_version": "1.2.0",
            "_view_name": "StyleView",
            "description_width": ""
          }
        },
        "725a62377fe34fcdb9eef91e6569b6d1": {
          "model_module": "@jupyter-widgets/controls",
          "model_name": "HBoxModel",
          "model_module_version": "1.5.0",
          "state": {
            "_dom_classes": [],
            "_model_module": "@jupyter-widgets/controls",
            "_model_module_version": "1.5.0",
            "_model_name": "HBoxModel",
            "_view_count": null,
            "_view_module": "@jupyter-widgets/controls",
            "_view_module_version": "1.5.0",
            "_view_name": "HBoxView",
            "box_style": "",
            "children": [
              "IPY_MODEL_e75544757f9b413ab43662fb3331c19f",
              "IPY_MODEL_242dde00e4ed4783bc260d8a9d9725bd",
              "IPY_MODEL_40d92f82a192479280c0dbadf3885610"
            ],
            "layout": "IPY_MODEL_e17b0f19dc6146958e7851456f1958ea"
          }
        },
        "e75544757f9b413ab43662fb3331c19f": {
          "model_module": "@jupyter-widgets/controls",
          "model_name": "HTMLModel",
          "model_module_version": "1.5.0",
          "state": {
            "_dom_classes": [],
            "_model_module": "@jupyter-widgets/controls",
            "_model_module_version": "1.5.0",
            "_model_name": "HTMLModel",
            "_view_count": null,
            "_view_module": "@jupyter-widgets/controls",
            "_view_module_version": "1.5.0",
            "_view_name": "HTMLView",
            "description": "",
            "description_tooltip": null,
            "layout": "IPY_MODEL_9acacae5e1464737bf1b68341aaff2d7",
            "placeholder": "​",
            "style": "IPY_MODEL_23782bac71cb4e0987b8c26ff51a1a30",
            "value": "tokenizer.json: 100%"
          }
        },
        "242dde00e4ed4783bc260d8a9d9725bd": {
          "model_module": "@jupyter-widgets/controls",
          "model_name": "FloatProgressModel",
          "model_module_version": "1.5.0",
          "state": {
            "_dom_classes": [],
            "_model_module": "@jupyter-widgets/controls",
            "_model_module_version": "1.5.0",
            "_model_name": "FloatProgressModel",
            "_view_count": null,
            "_view_module": "@jupyter-widgets/controls",
            "_view_module_version": "1.5.0",
            "_view_name": "ProgressView",
            "bar_style": "success",
            "description": "",
            "description_tooltip": null,
            "layout": "IPY_MODEL_0c44634bb541471bbbddaaa8d5cf933c",
            "max": 1355256,
            "min": 0,
            "orientation": "horizontal",
            "style": "IPY_MODEL_c49bd445c9d849dbbf078238cb45aea2",
            "value": 1355256
          }
        },
        "40d92f82a192479280c0dbadf3885610": {
          "model_module": "@jupyter-widgets/controls",
          "model_name": "HTMLModel",
          "model_module_version": "1.5.0",
          "state": {
            "_dom_classes": [],
            "_model_module": "@jupyter-widgets/controls",
            "_model_module_version": "1.5.0",
            "_model_name": "HTMLModel",
            "_view_count": null,
            "_view_module": "@jupyter-widgets/controls",
            "_view_module_version": "1.5.0",
            "_view_name": "HTMLView",
            "description": "",
            "description_tooltip": null,
            "layout": "IPY_MODEL_9dab8815a7fd4379983564fb2b39c8a3",
            "placeholder": "​",
            "style": "IPY_MODEL_dae587ea1bc74dc0ab3c620960ee6da0",
            "value": " 1.36M/1.36M [00:00&lt;00:00, 11.4MB/s]"
          }
        },
        "e17b0f19dc6146958e7851456f1958ea": {
          "model_module": "@jupyter-widgets/base",
          "model_name": "LayoutModel",
          "model_module_version": "1.2.0",
          "state": {
            "_model_module": "@jupyter-widgets/base",
            "_model_module_version": "1.2.0",
            "_model_name": "LayoutModel",
            "_view_count": null,
            "_view_module": "@jupyter-widgets/base",
            "_view_module_version": "1.2.0",
            "_view_name": "LayoutView",
            "align_content": null,
            "align_items": null,
            "align_self": null,
            "border": null,
            "bottom": null,
            "display": null,
            "flex": null,
            "flex_flow": null,
            "grid_area": null,
            "grid_auto_columns": null,
            "grid_auto_flow": null,
            "grid_auto_rows": null,
            "grid_column": null,
            "grid_gap": null,
            "grid_row": null,
            "grid_template_areas": null,
            "grid_template_columns": null,
            "grid_template_rows": null,
            "height": null,
            "justify_content": null,
            "justify_items": null,
            "left": null,
            "margin": null,
            "max_height": null,
            "max_width": null,
            "min_height": null,
            "min_width": null,
            "object_fit": null,
            "object_position": null,
            "order": null,
            "overflow": null,
            "overflow_x": null,
            "overflow_y": null,
            "padding": null,
            "right": null,
            "top": null,
            "visibility": null,
            "width": null
          }
        },
        "9acacae5e1464737bf1b68341aaff2d7": {
          "model_module": "@jupyter-widgets/base",
          "model_name": "LayoutModel",
          "model_module_version": "1.2.0",
          "state": {
            "_model_module": "@jupyter-widgets/base",
            "_model_module_version": "1.2.0",
            "_model_name": "LayoutModel",
            "_view_count": null,
            "_view_module": "@jupyter-widgets/base",
            "_view_module_version": "1.2.0",
            "_view_name": "LayoutView",
            "align_content": null,
            "align_items": null,
            "align_self": null,
            "border": null,
            "bottom": null,
            "display": null,
            "flex": null,
            "flex_flow": null,
            "grid_area": null,
            "grid_auto_columns": null,
            "grid_auto_flow": null,
            "grid_auto_rows": null,
            "grid_column": null,
            "grid_gap": null,
            "grid_row": null,
            "grid_template_areas": null,
            "grid_template_columns": null,
            "grid_template_rows": null,
            "height": null,
            "justify_content": null,
            "justify_items": null,
            "left": null,
            "margin": null,
            "max_height": null,
            "max_width": null,
            "min_height": null,
            "min_width": null,
            "object_fit": null,
            "object_position": null,
            "order": null,
            "overflow": null,
            "overflow_x": null,
            "overflow_y": null,
            "padding": null,
            "right": null,
            "top": null,
            "visibility": null,
            "width": null
          }
        },
        "23782bac71cb4e0987b8c26ff51a1a30": {
          "model_module": "@jupyter-widgets/controls",
          "model_name": "DescriptionStyleModel",
          "model_module_version": "1.5.0",
          "state": {
            "_model_module": "@jupyter-widgets/controls",
            "_model_module_version": "1.5.0",
            "_model_name": "DescriptionStyleModel",
            "_view_count": null,
            "_view_module": "@jupyter-widgets/base",
            "_view_module_version": "1.2.0",
            "_view_name": "StyleView",
            "description_width": ""
          }
        },
        "0c44634bb541471bbbddaaa8d5cf933c": {
          "model_module": "@jupyter-widgets/base",
          "model_name": "LayoutModel",
          "model_module_version": "1.2.0",
          "state": {
            "_model_module": "@jupyter-widgets/base",
            "_model_module_version": "1.2.0",
            "_model_name": "LayoutModel",
            "_view_count": null,
            "_view_module": "@jupyter-widgets/base",
            "_view_module_version": "1.2.0",
            "_view_name": "LayoutView",
            "align_content": null,
            "align_items": null,
            "align_self": null,
            "border": null,
            "bottom": null,
            "display": null,
            "flex": null,
            "flex_flow": null,
            "grid_area": null,
            "grid_auto_columns": null,
            "grid_auto_flow": null,
            "grid_auto_rows": null,
            "grid_column": null,
            "grid_gap": null,
            "grid_row": null,
            "grid_template_areas": null,
            "grid_template_columns": null,
            "grid_template_rows": null,
            "height": null,
            "justify_content": null,
            "justify_items": null,
            "left": null,
            "margin": null,
            "max_height": null,
            "max_width": null,
            "min_height": null,
            "min_width": null,
            "object_fit": null,
            "object_position": null,
            "order": null,
            "overflow": null,
            "overflow_x": null,
            "overflow_y": null,
            "padding": null,
            "right": null,
            "top": null,
            "visibility": null,
            "width": null
          }
        },
        "c49bd445c9d849dbbf078238cb45aea2": {
          "model_module": "@jupyter-widgets/controls",
          "model_name": "ProgressStyleModel",
          "model_module_version": "1.5.0",
          "state": {
            "_model_module": "@jupyter-widgets/controls",
            "_model_module_version": "1.5.0",
            "_model_name": "ProgressStyleModel",
            "_view_count": null,
            "_view_module": "@jupyter-widgets/base",
            "_view_module_version": "1.2.0",
            "_view_name": "StyleView",
            "bar_color": null,
            "description_width": ""
          }
        },
        "9dab8815a7fd4379983564fb2b39c8a3": {
          "model_module": "@jupyter-widgets/base",
          "model_name": "LayoutModel",
          "model_module_version": "1.2.0",
          "state": {
            "_model_module": "@jupyter-widgets/base",
            "_model_module_version": "1.2.0",
            "_model_name": "LayoutModel",
            "_view_count": null,
            "_view_module": "@jupyter-widgets/base",
            "_view_module_version": "1.2.0",
            "_view_name": "LayoutView",
            "align_content": null,
            "align_items": null,
            "align_self": null,
            "border": null,
            "bottom": null,
            "display": null,
            "flex": null,
            "flex_flow": null,
            "grid_area": null,
            "grid_auto_columns": null,
            "grid_auto_flow": null,
            "grid_auto_rows": null,
            "grid_column": null,
            "grid_gap": null,
            "grid_row": null,
            "grid_template_areas": null,
            "grid_template_columns": null,
            "grid_template_rows": null,
            "height": null,
            "justify_content": null,
            "justify_items": null,
            "left": null,
            "margin": null,
            "max_height": null,
            "max_width": null,
            "min_height": null,
            "min_width": null,
            "object_fit": null,
            "object_position": null,
            "order": null,
            "overflow": null,
            "overflow_x": null,
            "overflow_y": null,
            "padding": null,
            "right": null,
            "top": null,
            "visibility": null,
            "width": null
          }
        },
        "dae587ea1bc74dc0ab3c620960ee6da0": {
          "model_module": "@jupyter-widgets/controls",
          "model_name": "DescriptionStyleModel",
          "model_module_version": "1.5.0",
          "state": {
            "_model_module": "@jupyter-widgets/controls",
            "_model_module_version": "1.5.0",
            "_model_name": "DescriptionStyleModel",
            "_view_count": null,
            "_view_module": "@jupyter-widgets/base",
            "_view_module_version": "1.2.0",
            "_view_name": "StyleView",
            "description_width": ""
          }
        },
        "ccebeb5a86c747c8a94eeaa138997a23": {
          "model_module": "@jupyter-widgets/controls",
          "model_name": "HBoxModel",
          "model_module_version": "1.5.0",
          "state": {
            "_dom_classes": [],
            "_model_module": "@jupyter-widgets/controls",
            "_model_module_version": "1.5.0",
            "_model_name": "HBoxModel",
            "_view_count": null,
            "_view_module": "@jupyter-widgets/controls",
            "_view_module_version": "1.5.0",
            "_view_name": "HBoxView",
            "box_style": "",
            "children": [
              "IPY_MODEL_8808d8d4a1684c73a658f705008ec681",
              "IPY_MODEL_2933c10a21e94d4e81c4cd75f4fe349e",
              "IPY_MODEL_64d371ac854f4f3b81c329f7680e9b05"
            ],
            "layout": "IPY_MODEL_0f17b1eec70b484385dc49d19fdf0c4e"
          }
        },
        "8808d8d4a1684c73a658f705008ec681": {
          "model_module": "@jupyter-widgets/controls",
          "model_name": "HTMLModel",
          "model_module_version": "1.5.0",
          "state": {
            "_dom_classes": [],
            "_model_module": "@jupyter-widgets/controls",
            "_model_module_version": "1.5.0",
            "_model_name": "HTMLModel",
            "_view_count": null,
            "_view_module": "@jupyter-widgets/controls",
            "_view_module_version": "1.5.0",
            "_view_name": "HTMLView",
            "description": "",
            "description_tooltip": null,
            "layout": "IPY_MODEL_9458804c9f1e4f16965bb84e88f9e665",
            "placeholder": "​",
            "style": "IPY_MODEL_115f5cc3b1e9436594b65d97469cd8fa",
            "value": "config.json: 100%"
          }
        },
        "2933c10a21e94d4e81c4cd75f4fe349e": {
          "model_module": "@jupyter-widgets/controls",
          "model_name": "FloatProgressModel",
          "model_module_version": "1.5.0",
          "state": {
            "_dom_classes": [],
            "_model_module": "@jupyter-widgets/controls",
            "_model_module_version": "1.5.0",
            "_model_name": "FloatProgressModel",
            "_view_count": null,
            "_view_module": "@jupyter-widgets/controls",
            "_view_module_version": "1.5.0",
            "_view_name": "ProgressView",
            "bar_style": "success",
            "description": "",
            "description_tooltip": null,
            "layout": "IPY_MODEL_f8247528c6674cdc8f5f2bd9972fe1be",
            "max": 665,
            "min": 0,
            "orientation": "horizontal",
            "style": "IPY_MODEL_e7341d3fc24645fb9ec0f6f49b299edd",
            "value": 665
          }
        },
        "64d371ac854f4f3b81c329f7680e9b05": {
          "model_module": "@jupyter-widgets/controls",
          "model_name": "HTMLModel",
          "model_module_version": "1.5.0",
          "state": {
            "_dom_classes": [],
            "_model_module": "@jupyter-widgets/controls",
            "_model_module_version": "1.5.0",
            "_model_name": "HTMLModel",
            "_view_count": null,
            "_view_module": "@jupyter-widgets/controls",
            "_view_module_version": "1.5.0",
            "_view_name": "HTMLView",
            "description": "",
            "description_tooltip": null,
            "layout": "IPY_MODEL_e480625c03e2412dbe40dfaa9655ff1d",
            "placeholder": "​",
            "style": "IPY_MODEL_c2cf6a6c98fd4c169e26d7ee01c8a8b9",
            "value": " 665/665 [00:00&lt;00:00, 44.0kB/s]"
          }
        },
        "0f17b1eec70b484385dc49d19fdf0c4e": {
          "model_module": "@jupyter-widgets/base",
          "model_name": "LayoutModel",
          "model_module_version": "1.2.0",
          "state": {
            "_model_module": "@jupyter-widgets/base",
            "_model_module_version": "1.2.0",
            "_model_name": "LayoutModel",
            "_view_count": null,
            "_view_module": "@jupyter-widgets/base",
            "_view_module_version": "1.2.0",
            "_view_name": "LayoutView",
            "align_content": null,
            "align_items": null,
            "align_self": null,
            "border": null,
            "bottom": null,
            "display": null,
            "flex": null,
            "flex_flow": null,
            "grid_area": null,
            "grid_auto_columns": null,
            "grid_auto_flow": null,
            "grid_auto_rows": null,
            "grid_column": null,
            "grid_gap": null,
            "grid_row": null,
            "grid_template_areas": null,
            "grid_template_columns": null,
            "grid_template_rows": null,
            "height": null,
            "justify_content": null,
            "justify_items": null,
            "left": null,
            "margin": null,
            "max_height": null,
            "max_width": null,
            "min_height": null,
            "min_width": null,
            "object_fit": null,
            "object_position": null,
            "order": null,
            "overflow": null,
            "overflow_x": null,
            "overflow_y": null,
            "padding": null,
            "right": null,
            "top": null,
            "visibility": null,
            "width": null
          }
        },
        "9458804c9f1e4f16965bb84e88f9e665": {
          "model_module": "@jupyter-widgets/base",
          "model_name": "LayoutModel",
          "model_module_version": "1.2.0",
          "state": {
            "_model_module": "@jupyter-widgets/base",
            "_model_module_version": "1.2.0",
            "_model_name": "LayoutModel",
            "_view_count": null,
            "_view_module": "@jupyter-widgets/base",
            "_view_module_version": "1.2.0",
            "_view_name": "LayoutView",
            "align_content": null,
            "align_items": null,
            "align_self": null,
            "border": null,
            "bottom": null,
            "display": null,
            "flex": null,
            "flex_flow": null,
            "grid_area": null,
            "grid_auto_columns": null,
            "grid_auto_flow": null,
            "grid_auto_rows": null,
            "grid_column": null,
            "grid_gap": null,
            "grid_row": null,
            "grid_template_areas": null,
            "grid_template_columns": null,
            "grid_template_rows": null,
            "height": null,
            "justify_content": null,
            "justify_items": null,
            "left": null,
            "margin": null,
            "max_height": null,
            "max_width": null,
            "min_height": null,
            "min_width": null,
            "object_fit": null,
            "object_position": null,
            "order": null,
            "overflow": null,
            "overflow_x": null,
            "overflow_y": null,
            "padding": null,
            "right": null,
            "top": null,
            "visibility": null,
            "width": null
          }
        },
        "115f5cc3b1e9436594b65d97469cd8fa": {
          "model_module": "@jupyter-widgets/controls",
          "model_name": "DescriptionStyleModel",
          "model_module_version": "1.5.0",
          "state": {
            "_model_module": "@jupyter-widgets/controls",
            "_model_module_version": "1.5.0",
            "_model_name": "DescriptionStyleModel",
            "_view_count": null,
            "_view_module": "@jupyter-widgets/base",
            "_view_module_version": "1.2.0",
            "_view_name": "StyleView",
            "description_width": ""
          }
        },
        "f8247528c6674cdc8f5f2bd9972fe1be": {
          "model_module": "@jupyter-widgets/base",
          "model_name": "LayoutModel",
          "model_module_version": "1.2.0",
          "state": {
            "_model_module": "@jupyter-widgets/base",
            "_model_module_version": "1.2.0",
            "_model_name": "LayoutModel",
            "_view_count": null,
            "_view_module": "@jupyter-widgets/base",
            "_view_module_version": "1.2.0",
            "_view_name": "LayoutView",
            "align_content": null,
            "align_items": null,
            "align_self": null,
            "border": null,
            "bottom": null,
            "display": null,
            "flex": null,
            "flex_flow": null,
            "grid_area": null,
            "grid_auto_columns": null,
            "grid_auto_flow": null,
            "grid_auto_rows": null,
            "grid_column": null,
            "grid_gap": null,
            "grid_row": null,
            "grid_template_areas": null,
            "grid_template_columns": null,
            "grid_template_rows": null,
            "height": null,
            "justify_content": null,
            "justify_items": null,
            "left": null,
            "margin": null,
            "max_height": null,
            "max_width": null,
            "min_height": null,
            "min_width": null,
            "object_fit": null,
            "object_position": null,
            "order": null,
            "overflow": null,
            "overflow_x": null,
            "overflow_y": null,
            "padding": null,
            "right": null,
            "top": null,
            "visibility": null,
            "width": null
          }
        },
        "e7341d3fc24645fb9ec0f6f49b299edd": {
          "model_module": "@jupyter-widgets/controls",
          "model_name": "ProgressStyleModel",
          "model_module_version": "1.5.0",
          "state": {
            "_model_module": "@jupyter-widgets/controls",
            "_model_module_version": "1.5.0",
            "_model_name": "ProgressStyleModel",
            "_view_count": null,
            "_view_module": "@jupyter-widgets/base",
            "_view_module_version": "1.2.0",
            "_view_name": "StyleView",
            "bar_color": null,
            "description_width": ""
          }
        },
        "e480625c03e2412dbe40dfaa9655ff1d": {
          "model_module": "@jupyter-widgets/base",
          "model_name": "LayoutModel",
          "model_module_version": "1.2.0",
          "state": {
            "_model_module": "@jupyter-widgets/base",
            "_model_module_version": "1.2.0",
            "_model_name": "LayoutModel",
            "_view_count": null,
            "_view_module": "@jupyter-widgets/base",
            "_view_module_version": "1.2.0",
            "_view_name": "LayoutView",
            "align_content": null,
            "align_items": null,
            "align_self": null,
            "border": null,
            "bottom": null,
            "display": null,
            "flex": null,
            "flex_flow": null,
            "grid_area": null,
            "grid_auto_columns": null,
            "grid_auto_flow": null,
            "grid_auto_rows": null,
            "grid_column": null,
            "grid_gap": null,
            "grid_row": null,
            "grid_template_areas": null,
            "grid_template_columns": null,
            "grid_template_rows": null,
            "height": null,
            "justify_content": null,
            "justify_items": null,
            "left": null,
            "margin": null,
            "max_height": null,
            "max_width": null,
            "min_height": null,
            "min_width": null,
            "object_fit": null,
            "object_position": null,
            "order": null,
            "overflow": null,
            "overflow_x": null,
            "overflow_y": null,
            "padding": null,
            "right": null,
            "top": null,
            "visibility": null,
            "width": null
          }
        },
        "c2cf6a6c98fd4c169e26d7ee01c8a8b9": {
          "model_module": "@jupyter-widgets/controls",
          "model_name": "DescriptionStyleModel",
          "model_module_version": "1.5.0",
          "state": {
            "_model_module": "@jupyter-widgets/controls",
            "_model_module_version": "1.5.0",
            "_model_name": "DescriptionStyleModel",
            "_view_count": null,
            "_view_module": "@jupyter-widgets/base",
            "_view_module_version": "1.2.0",
            "_view_name": "StyleView",
            "description_width": ""
          }
        },
        "47b6830e5f364f6d99e1fc54fda7903e": {
          "model_module": "@jupyter-widgets/controls",
          "model_name": "HBoxModel",
          "model_module_version": "1.5.0",
          "state": {
            "_dom_classes": [],
            "_model_module": "@jupyter-widgets/controls",
            "_model_module_version": "1.5.0",
            "_model_name": "HBoxModel",
            "_view_count": null,
            "_view_module": "@jupyter-widgets/controls",
            "_view_module_version": "1.5.0",
            "_view_name": "HBoxView",
            "box_style": "",
            "children": [
              "IPY_MODEL_df3135846a5b4959bd0abc734c34fe5f",
              "IPY_MODEL_594bdf0e55f14d919121ae0f4940005f",
              "IPY_MODEL_bee4f91148214e07af0bc8d5c3421d95"
            ],
            "layout": "IPY_MODEL_7099d74d5eea46c19e61893f025bd080"
          }
        },
        "df3135846a5b4959bd0abc734c34fe5f": {
          "model_module": "@jupyter-widgets/controls",
          "model_name": "HTMLModel",
          "model_module_version": "1.5.0",
          "state": {
            "_dom_classes": [],
            "_model_module": "@jupyter-widgets/controls",
            "_model_module_version": "1.5.0",
            "_model_name": "HTMLModel",
            "_view_count": null,
            "_view_module": "@jupyter-widgets/controls",
            "_view_module_version": "1.5.0",
            "_view_name": "HTMLView",
            "description": "",
            "description_tooltip": null,
            "layout": "IPY_MODEL_cef8a1b5753f4ef89a5f59c5c07756e2",
            "placeholder": "​",
            "style": "IPY_MODEL_649509f4a27d4d9b86bb1ad319f71765",
            "value": "model.safetensors: 100%"
          }
        },
        "594bdf0e55f14d919121ae0f4940005f": {
          "model_module": "@jupyter-widgets/controls",
          "model_name": "FloatProgressModel",
          "model_module_version": "1.5.0",
          "state": {
            "_dom_classes": [],
            "_model_module": "@jupyter-widgets/controls",
            "_model_module_version": "1.5.0",
            "_model_name": "FloatProgressModel",
            "_view_count": null,
            "_view_module": "@jupyter-widgets/controls",
            "_view_module_version": "1.5.0",
            "_view_name": "ProgressView",
            "bar_style": "success",
            "description": "",
            "description_tooltip": null,
            "layout": "IPY_MODEL_fa8dfcf208f340c1bd288a731b27fc40",
            "max": 548105171,
            "min": 0,
            "orientation": "horizontal",
            "style": "IPY_MODEL_ac386cf22b4e4b35bde1e0c2e17c7ec9",
            "value": 548105171
          }
        },
        "bee4f91148214e07af0bc8d5c3421d95": {
          "model_module": "@jupyter-widgets/controls",
          "model_name": "HTMLModel",
          "model_module_version": "1.5.0",
          "state": {
            "_dom_classes": [],
            "_model_module": "@jupyter-widgets/controls",
            "_model_module_version": "1.5.0",
            "_model_name": "HTMLModel",
            "_view_count": null,
            "_view_module": "@jupyter-widgets/controls",
            "_view_module_version": "1.5.0",
            "_view_name": "HTMLView",
            "description": "",
            "description_tooltip": null,
            "layout": "IPY_MODEL_dbb908d5ebf24afe8d64030a943aeee9",
            "placeholder": "​",
            "style": "IPY_MODEL_847994f0ff474f4cbbe5d61b70b2212e",
            "value": " 548M/548M [00:04&lt;00:00, 163MB/s]"
          }
        },
        "7099d74d5eea46c19e61893f025bd080": {
          "model_module": "@jupyter-widgets/base",
          "model_name": "LayoutModel",
          "model_module_version": "1.2.0",
          "state": {
            "_model_module": "@jupyter-widgets/base",
            "_model_module_version": "1.2.0",
            "_model_name": "LayoutModel",
            "_view_count": null,
            "_view_module": "@jupyter-widgets/base",
            "_view_module_version": "1.2.0",
            "_view_name": "LayoutView",
            "align_content": null,
            "align_items": null,
            "align_self": null,
            "border": null,
            "bottom": null,
            "display": null,
            "flex": null,
            "flex_flow": null,
            "grid_area": null,
            "grid_auto_columns": null,
            "grid_auto_flow": null,
            "grid_auto_rows": null,
            "grid_column": null,
            "grid_gap": null,
            "grid_row": null,
            "grid_template_areas": null,
            "grid_template_columns": null,
            "grid_template_rows": null,
            "height": null,
            "justify_content": null,
            "justify_items": null,
            "left": null,
            "margin": null,
            "max_height": null,
            "max_width": null,
            "min_height": null,
            "min_width": null,
            "object_fit": null,
            "object_position": null,
            "order": null,
            "overflow": null,
            "overflow_x": null,
            "overflow_y": null,
            "padding": null,
            "right": null,
            "top": null,
            "visibility": null,
            "width": null
          }
        },
        "cef8a1b5753f4ef89a5f59c5c07756e2": {
          "model_module": "@jupyter-widgets/base",
          "model_name": "LayoutModel",
          "model_module_version": "1.2.0",
          "state": {
            "_model_module": "@jupyter-widgets/base",
            "_model_module_version": "1.2.0",
            "_model_name": "LayoutModel",
            "_view_count": null,
            "_view_module": "@jupyter-widgets/base",
            "_view_module_version": "1.2.0",
            "_view_name": "LayoutView",
            "align_content": null,
            "align_items": null,
            "align_self": null,
            "border": null,
            "bottom": null,
            "display": null,
            "flex": null,
            "flex_flow": null,
            "grid_area": null,
            "grid_auto_columns": null,
            "grid_auto_flow": null,
            "grid_auto_rows": null,
            "grid_column": null,
            "grid_gap": null,
            "grid_row": null,
            "grid_template_areas": null,
            "grid_template_columns": null,
            "grid_template_rows": null,
            "height": null,
            "justify_content": null,
            "justify_items": null,
            "left": null,
            "margin": null,
            "max_height": null,
            "max_width": null,
            "min_height": null,
            "min_width": null,
            "object_fit": null,
            "object_position": null,
            "order": null,
            "overflow": null,
            "overflow_x": null,
            "overflow_y": null,
            "padding": null,
            "right": null,
            "top": null,
            "visibility": null,
            "width": null
          }
        },
        "649509f4a27d4d9b86bb1ad319f71765": {
          "model_module": "@jupyter-widgets/controls",
          "model_name": "DescriptionStyleModel",
          "model_module_version": "1.5.0",
          "state": {
            "_model_module": "@jupyter-widgets/controls",
            "_model_module_version": "1.5.0",
            "_model_name": "DescriptionStyleModel",
            "_view_count": null,
            "_view_module": "@jupyter-widgets/base",
            "_view_module_version": "1.2.0",
            "_view_name": "StyleView",
            "description_width": ""
          }
        },
        "fa8dfcf208f340c1bd288a731b27fc40": {
          "model_module": "@jupyter-widgets/base",
          "model_name": "LayoutModel",
          "model_module_version": "1.2.0",
          "state": {
            "_model_module": "@jupyter-widgets/base",
            "_model_module_version": "1.2.0",
            "_model_name": "LayoutModel",
            "_view_count": null,
            "_view_module": "@jupyter-widgets/base",
            "_view_module_version": "1.2.0",
            "_view_name": "LayoutView",
            "align_content": null,
            "align_items": null,
            "align_self": null,
            "border": null,
            "bottom": null,
            "display": null,
            "flex": null,
            "flex_flow": null,
            "grid_area": null,
            "grid_auto_columns": null,
            "grid_auto_flow": null,
            "grid_auto_rows": null,
            "grid_column": null,
            "grid_gap": null,
            "grid_row": null,
            "grid_template_areas": null,
            "grid_template_columns": null,
            "grid_template_rows": null,
            "height": null,
            "justify_content": null,
            "justify_items": null,
            "left": null,
            "margin": null,
            "max_height": null,
            "max_width": null,
            "min_height": null,
            "min_width": null,
            "object_fit": null,
            "object_position": null,
            "order": null,
            "overflow": null,
            "overflow_x": null,
            "overflow_y": null,
            "padding": null,
            "right": null,
            "top": null,
            "visibility": null,
            "width": null
          }
        },
        "ac386cf22b4e4b35bde1e0c2e17c7ec9": {
          "model_module": "@jupyter-widgets/controls",
          "model_name": "ProgressStyleModel",
          "model_module_version": "1.5.0",
          "state": {
            "_model_module": "@jupyter-widgets/controls",
            "_model_module_version": "1.5.0",
            "_model_name": "ProgressStyleModel",
            "_view_count": null,
            "_view_module": "@jupyter-widgets/base",
            "_view_module_version": "1.2.0",
            "_view_name": "StyleView",
            "bar_color": null,
            "description_width": ""
          }
        },
        "dbb908d5ebf24afe8d64030a943aeee9": {
          "model_module": "@jupyter-widgets/base",
          "model_name": "LayoutModel",
          "model_module_version": "1.2.0",
          "state": {
            "_model_module": "@jupyter-widgets/base",
            "_model_module_version": "1.2.0",
            "_model_name": "LayoutModel",
            "_view_count": null,
            "_view_module": "@jupyter-widgets/base",
            "_view_module_version": "1.2.0",
            "_view_name": "LayoutView",
            "align_content": null,
            "align_items": null,
            "align_self": null,
            "border": null,
            "bottom": null,
            "display": null,
            "flex": null,
            "flex_flow": null,
            "grid_area": null,
            "grid_auto_columns": null,
            "grid_auto_flow": null,
            "grid_auto_rows": null,
            "grid_column": null,
            "grid_gap": null,
            "grid_row": null,
            "grid_template_areas": null,
            "grid_template_columns": null,
            "grid_template_rows": null,
            "height": null,
            "justify_content": null,
            "justify_items": null,
            "left": null,
            "margin": null,
            "max_height": null,
            "max_width": null,
            "min_height": null,
            "min_width": null,
            "object_fit": null,
            "object_position": null,
            "order": null,
            "overflow": null,
            "overflow_x": null,
            "overflow_y": null,
            "padding": null,
            "right": null,
            "top": null,
            "visibility": null,
            "width": null
          }
        },
        "847994f0ff474f4cbbe5d61b70b2212e": {
          "model_module": "@jupyter-widgets/controls",
          "model_name": "DescriptionStyleModel",
          "model_module_version": "1.5.0",
          "state": {
            "_model_module": "@jupyter-widgets/controls",
            "_model_module_version": "1.5.0",
            "_model_name": "DescriptionStyleModel",
            "_view_count": null,
            "_view_module": "@jupyter-widgets/base",
            "_view_module_version": "1.2.0",
            "_view_name": "StyleView",
            "description_width": ""
          }
        },
        "59864789aa634fce889668c12dd712a4": {
          "model_module": "@jupyter-widgets/controls",
          "model_name": "HBoxModel",
          "model_module_version": "1.5.0",
          "state": {
            "_dom_classes": [],
            "_model_module": "@jupyter-widgets/controls",
            "_model_module_version": "1.5.0",
            "_model_name": "HBoxModel",
            "_view_count": null,
            "_view_module": "@jupyter-widgets/controls",
            "_view_module_version": "1.5.0",
            "_view_name": "HBoxView",
            "box_style": "",
            "children": [
              "IPY_MODEL_e3bc133793244a088232cd76ad237978",
              "IPY_MODEL_237a71d9fc5848028c2700504e280012",
              "IPY_MODEL_03c2c012a040445aaec48829d6453153"
            ],
            "layout": "IPY_MODEL_0d94b9edf88e4ed484b8d175f5325246"
          }
        },
        "e3bc133793244a088232cd76ad237978": {
          "model_module": "@jupyter-widgets/controls",
          "model_name": "HTMLModel",
          "model_module_version": "1.5.0",
          "state": {
            "_dom_classes": [],
            "_model_module": "@jupyter-widgets/controls",
            "_model_module_version": "1.5.0",
            "_model_name": "HTMLModel",
            "_view_count": null,
            "_view_module": "@jupyter-widgets/controls",
            "_view_module_version": "1.5.0",
            "_view_name": "HTMLView",
            "description": "",
            "description_tooltip": null,
            "layout": "IPY_MODEL_d01e513590b249e0b3fa051998322346",
            "placeholder": "​",
            "style": "IPY_MODEL_0e8fc876b5dd479fa1cb61e84c19b731",
            "value": "generation_config.json: 100%"
          }
        },
        "237a71d9fc5848028c2700504e280012": {
          "model_module": "@jupyter-widgets/controls",
          "model_name": "FloatProgressModel",
          "model_module_version": "1.5.0",
          "state": {
            "_dom_classes": [],
            "_model_module": "@jupyter-widgets/controls",
            "_model_module_version": "1.5.0",
            "_model_name": "FloatProgressModel",
            "_view_count": null,
            "_view_module": "@jupyter-widgets/controls",
            "_view_module_version": "1.5.0",
            "_view_name": "ProgressView",
            "bar_style": "success",
            "description": "",
            "description_tooltip": null,
            "layout": "IPY_MODEL_04b5637169c04d8db4fc7652b33991a7",
            "max": 124,
            "min": 0,
            "orientation": "horizontal",
            "style": "IPY_MODEL_cf530157e7e8483f871ec6c753b1ab47",
            "value": 124
          }
        },
        "03c2c012a040445aaec48829d6453153": {
          "model_module": "@jupyter-widgets/controls",
          "model_name": "HTMLModel",
          "model_module_version": "1.5.0",
          "state": {
            "_dom_classes": [],
            "_model_module": "@jupyter-widgets/controls",
            "_model_module_version": "1.5.0",
            "_model_name": "HTMLModel",
            "_view_count": null,
            "_view_module": "@jupyter-widgets/controls",
            "_view_module_version": "1.5.0",
            "_view_name": "HTMLView",
            "description": "",
            "description_tooltip": null,
            "layout": "IPY_MODEL_2f616563a22b4e4bbd0837415345bb4a",
            "placeholder": "​",
            "style": "IPY_MODEL_1b9af58b193149c088c2309dbc9c1bca",
            "value": " 124/124 [00:00&lt;00:00, 9.14kB/s]"
          }
        },
        "0d94b9edf88e4ed484b8d175f5325246": {
          "model_module": "@jupyter-widgets/base",
          "model_name": "LayoutModel",
          "model_module_version": "1.2.0",
          "state": {
            "_model_module": "@jupyter-widgets/base",
            "_model_module_version": "1.2.0",
            "_model_name": "LayoutModel",
            "_view_count": null,
            "_view_module": "@jupyter-widgets/base",
            "_view_module_version": "1.2.0",
            "_view_name": "LayoutView",
            "align_content": null,
            "align_items": null,
            "align_self": null,
            "border": null,
            "bottom": null,
            "display": null,
            "flex": null,
            "flex_flow": null,
            "grid_area": null,
            "grid_auto_columns": null,
            "grid_auto_flow": null,
            "grid_auto_rows": null,
            "grid_column": null,
            "grid_gap": null,
            "grid_row": null,
            "grid_template_areas": null,
            "grid_template_columns": null,
            "grid_template_rows": null,
            "height": null,
            "justify_content": null,
            "justify_items": null,
            "left": null,
            "margin": null,
            "max_height": null,
            "max_width": null,
            "min_height": null,
            "min_width": null,
            "object_fit": null,
            "object_position": null,
            "order": null,
            "overflow": null,
            "overflow_x": null,
            "overflow_y": null,
            "padding": null,
            "right": null,
            "top": null,
            "visibility": null,
            "width": null
          }
        },
        "d01e513590b249e0b3fa051998322346": {
          "model_module": "@jupyter-widgets/base",
          "model_name": "LayoutModel",
          "model_module_version": "1.2.0",
          "state": {
            "_model_module": "@jupyter-widgets/base",
            "_model_module_version": "1.2.0",
            "_model_name": "LayoutModel",
            "_view_count": null,
            "_view_module": "@jupyter-widgets/base",
            "_view_module_version": "1.2.0",
            "_view_name": "LayoutView",
            "align_content": null,
            "align_items": null,
            "align_self": null,
            "border": null,
            "bottom": null,
            "display": null,
            "flex": null,
            "flex_flow": null,
            "grid_area": null,
            "grid_auto_columns": null,
            "grid_auto_flow": null,
            "grid_auto_rows": null,
            "grid_column": null,
            "grid_gap": null,
            "grid_row": null,
            "grid_template_areas": null,
            "grid_template_columns": null,
            "grid_template_rows": null,
            "height": null,
            "justify_content": null,
            "justify_items": null,
            "left": null,
            "margin": null,
            "max_height": null,
            "max_width": null,
            "min_height": null,
            "min_width": null,
            "object_fit": null,
            "object_position": null,
            "order": null,
            "overflow": null,
            "overflow_x": null,
            "overflow_y": null,
            "padding": null,
            "right": null,
            "top": null,
            "visibility": null,
            "width": null
          }
        },
        "0e8fc876b5dd479fa1cb61e84c19b731": {
          "model_module": "@jupyter-widgets/controls",
          "model_name": "DescriptionStyleModel",
          "model_module_version": "1.5.0",
          "state": {
            "_model_module": "@jupyter-widgets/controls",
            "_model_module_version": "1.5.0",
            "_model_name": "DescriptionStyleModel",
            "_view_count": null,
            "_view_module": "@jupyter-widgets/base",
            "_view_module_version": "1.2.0",
            "_view_name": "StyleView",
            "description_width": ""
          }
        },
        "04b5637169c04d8db4fc7652b33991a7": {
          "model_module": "@jupyter-widgets/base",
          "model_name": "LayoutModel",
          "model_module_version": "1.2.0",
          "state": {
            "_model_module": "@jupyter-widgets/base",
            "_model_module_version": "1.2.0",
            "_model_name": "LayoutModel",
            "_view_count": null,
            "_view_module": "@jupyter-widgets/base",
            "_view_module_version": "1.2.0",
            "_view_name": "LayoutView",
            "align_content": null,
            "align_items": null,
            "align_self": null,
            "border": null,
            "bottom": null,
            "display": null,
            "flex": null,
            "flex_flow": null,
            "grid_area": null,
            "grid_auto_columns": null,
            "grid_auto_flow": null,
            "grid_auto_rows": null,
            "grid_column": null,
            "grid_gap": null,
            "grid_row": null,
            "grid_template_areas": null,
            "grid_template_columns": null,
            "grid_template_rows": null,
            "height": null,
            "justify_content": null,
            "justify_items": null,
            "left": null,
            "margin": null,
            "max_height": null,
            "max_width": null,
            "min_height": null,
            "min_width": null,
            "object_fit": null,
            "object_position": null,
            "order": null,
            "overflow": null,
            "overflow_x": null,
            "overflow_y": null,
            "padding": null,
            "right": null,
            "top": null,
            "visibility": null,
            "width": null
          }
        },
        "cf530157e7e8483f871ec6c753b1ab47": {
          "model_module": "@jupyter-widgets/controls",
          "model_name": "ProgressStyleModel",
          "model_module_version": "1.5.0",
          "state": {
            "_model_module": "@jupyter-widgets/controls",
            "_model_module_version": "1.5.0",
            "_model_name": "ProgressStyleModel",
            "_view_count": null,
            "_view_module": "@jupyter-widgets/base",
            "_view_module_version": "1.2.0",
            "_view_name": "StyleView",
            "bar_color": null,
            "description_width": ""
          }
        },
        "2f616563a22b4e4bbd0837415345bb4a": {
          "model_module": "@jupyter-widgets/base",
          "model_name": "LayoutModel",
          "model_module_version": "1.2.0",
          "state": {
            "_model_module": "@jupyter-widgets/base",
            "_model_module_version": "1.2.0",
            "_model_name": "LayoutModel",
            "_view_count": null,
            "_view_module": "@jupyter-widgets/base",
            "_view_module_version": "1.2.0",
            "_view_name": "LayoutView",
            "align_content": null,
            "align_items": null,
            "align_self": null,
            "border": null,
            "bottom": null,
            "display": null,
            "flex": null,
            "flex_flow": null,
            "grid_area": null,
            "grid_auto_columns": null,
            "grid_auto_flow": null,
            "grid_auto_rows": null,
            "grid_column": null,
            "grid_gap": null,
            "grid_row": null,
            "grid_template_areas": null,
            "grid_template_columns": null,
            "grid_template_rows": null,
            "height": null,
            "justify_content": null,
            "justify_items": null,
            "left": null,
            "margin": null,
            "max_height": null,
            "max_width": null,
            "min_height": null,
            "min_width": null,
            "object_fit": null,
            "object_position": null,
            "order": null,
            "overflow": null,
            "overflow_x": null,
            "overflow_y": null,
            "padding": null,
            "right": null,
            "top": null,
            "visibility": null,
            "width": null
          }
        },
        "1b9af58b193149c088c2309dbc9c1bca": {
          "model_module": "@jupyter-widgets/controls",
          "model_name": "DescriptionStyleModel",
          "model_module_version": "1.5.0",
          "state": {
            "_model_module": "@jupyter-widgets/controls",
            "_model_module_version": "1.5.0",
            "_model_name": "DescriptionStyleModel",
            "_view_count": null,
            "_view_module": "@jupyter-widgets/base",
            "_view_module_version": "1.2.0",
            "_view_name": "StyleView",
            "description_width": ""
          }
        }
      }
    }
  },
  "nbformat": 4,
  "nbformat_minor": 0
}