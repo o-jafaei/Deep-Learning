{
  "cells": [
    {
      "cell_type": "markdown",
      "source": [
        "# Install libraries"
      ],
      "metadata": {
        "id": "A15XxB5ddQ1K"
      }
    },
    {
      "cell_type": "code",
      "source": [
        "%%capture\n",
        "!pip install gdown\n",
        "!pip install transformers datasets evaluate\n",
        "!pip install accelerate -U\n",
        "!pip install -U adapters\n",
        "!nvidia-smi"
      ],
      "metadata": {
        "id": "5XZeVgIGchhR"
      },
      "execution_count": 15,
      "outputs": []
    },
    {
      "cell_type": "code",
      "source": [
        "%load_ext autoreload\n",
        "%autoreload 2\n",
        "\n",
        "from google.colab import drive\n",
        "drive.mount('/content/drive')\n",
        "\n",
        "import os\n",
        "\n",
        "# TODO: Fill in the Google Drive path where you uploaded the assignment\n",
        "# Example: If you create a deepHW2 folder and put all the files under Q1 folder, then 'deepHW2/Q1'\n",
        "GOOGLE_DRIVE_PATH_AFTER_MYDRIVE = 'Deep Learning Final Proj'\n",
        "GOOGLE_DRIVE_PATH = os.path.join('drive', 'My Drive', GOOGLE_DRIVE_PATH_AFTER_MYDRIVE)\n",
        "print(os.listdir(GOOGLE_DRIVE_PATH))\n",
        "\n",
        "\n",
        "import sys\n",
        "sys.path.append(GOOGLE_DRIVE_PATH)\n",
        "\n",
        "import time, os\n",
        "os.environ[\"TZ\"] = \"US/Eastern\"\n",
        "time.tzset()\n",
        "\n",
        "fully_connected_networks_path = os.path.join(GOOGLE_DRIVE_PATH, 'utility.py')\n",
        "fully_connected_networks_edit_time = time.ctime(os.path.getmtime(fully_connected_networks_path))\n",
        "print('cnn.py last edited on %s' % fully_connected_networks_edit_time)"
      ],
      "metadata": {
        "colab": {
          "base_uri": "https://localhost:8080/"
        },
        "id": "kSxTJYR1UAj1",
        "outputId": "f5a08bea-4de8-4042-c734-7e9563d1789c"
      },
      "execution_count": 3,
      "outputs": [
        {
          "output_type": "stream",
          "name": "stdout",
          "text": [
            "The autoreload extension is already loaded. To reload it, use:\n",
            "  %reload_ext autoreload\n",
            "Mounted at /content/drive\n",
            "['myproject_1.ipynb', 'myproject.ipynb', 'utility.py', 'FineTunning.ipynb']\n",
            "cnn.py last edited on Thu Feb  1 05:54:33 2024\n"
          ]
        }
      ]
    },
    {
      "cell_type": "markdown",
      "source": [
        "# Import libraries"
      ],
      "metadata": {
        "id": "tGAAKVGGdnna"
      }
    },
    {
      "cell_type": "code",
      "execution_count": 16,
      "metadata": {
        "id": "zGK86RBlvzHr",
        "colab": {
          "base_uri": "https://localhost:8080/"
        },
        "outputId": "315c8faa-527f-4daf-c9de-f02cc1ac4327"
      },
      "outputs": [
        {
          "output_type": "stream",
          "name": "stdout",
          "text": [
            "The autoreload extension is already loaded. To reload it, use:\n",
            "  %reload_ext autoreload\n"
          ]
        }
      ],
      "source": [
        "from transformers import BertForSequenceClassification, AutoTokenizer, TrainingArguments, Trainer, set_seed\n",
        "from transformers import DataCollatorWithPadding\n",
        "import torch.nn as nn\n",
        "import logging\n",
        "import torch\n",
        "import evaluate\n",
        "import utility\n",
        "import adapters\n",
        "import time\n",
        "import warnings\n",
        "import random\n",
        "import numpy as np\n",
        "warnings.filterwarnings('ignore', category=UserWarning)\n",
        "%load_ext autoreload\n",
        "%autoreload 2"
      ]
    },
    {
      "cell_type": "code",
      "source": [
        "Seed = 42\n",
        "random.seed(Seed)\n",
        "np.random.seed(Seed)\n",
        "torch.manual_seed(Seed)\n",
        "set_seed(Seed)"
      ],
      "metadata": {
        "id": "Hoiqehqmh84W"
      },
      "execution_count": 5,
      "outputs": []
    },
    {
      "cell_type": "markdown",
      "source": [
        "# Process on data"
      ],
      "metadata": {
        "id": "iVZvTdL-KCBT"
      }
    },
    {
      "cell_type": "markdown",
      "source": [
        "## Downloading and Processing Datasets\n",
        "\n",
        "In this section, we download and process the training and development datasets.\n"
      ],
      "metadata": {
        "id": "99-yTfXXKNMl"
      }
    },
    {
      "cell_type": "code",
      "source": [
        "data_handler = utility.DataHandler()\n",
        "data_handler.download_and_process_datasets(Download = True)\n"
      ],
      "metadata": {
        "id": "ARvWbjWxnFbP",
        "colab": {
          "base_uri": "https://localhost:8080/",
          "height": 257,
          "referenced_widgets": [
            "555ac8c8ca4548c6bf42fc96383d8842",
            "c83f9c48e7e34627af8fd050744dd52d",
            "1c0f419c2c2643a8829a2463a27b5402",
            "8509eb1d8af5476589853a83c5e3a09e",
            "51fcdff96cad4410902ecb7a35cd1980",
            "3517ae1eac7641aaa8fff4642aa23c48",
            "eb4fd54375314a5c8c5661cb8b4cfc26",
            "b9c2962695464dcd9df6a8420f68db1f",
            "c92dd426d6d745d5be43a898cc52cfa3",
            "7a6898ce9c1b42c294392f6d4398a3d2",
            "98b743a6cfbd49838787ea8687c0f770",
            "b563316403004db39f35cfbd7c2e560f",
            "41c74074c22b45b883c91c935a94d8d6",
            "4fa4460cc23d452b97fd6c80433e22b3",
            "ab38d5fbf42d4ca89326c8d26b291a68",
            "d2e350f1d7fe4f9f863170652da3928b",
            "582b9ee56f5a4bb4912fd0ade15f8cc2",
            "544a5287785e4f0eba6c9c8947af4ee8",
            "10f99ee6e76b46f0b8072b888b5eb3ed",
            "615cf67394464343ad5ea54078adb5ee",
            "ee185de2fc524b7a96d79b109efe8166",
            "7022cae1a59642f3bdd5ce325669313f"
          ]
        },
        "outputId": "9b7db649-3c8b-452c-a352-25d5d7a31bd4"
      },
      "execution_count": 9,
      "outputs": [
        {
          "output_type": "stream",
          "name": "stderr",
          "text": [
            "Downloading...\n",
            "From (original): https://drive.google.com/uc?id=1k5LMwmYF7PF-BzYQNE2ULBae79nbM268\n",
            "From (redirected): https://drive.google.com/uc?id=1k5LMwmYF7PF-BzYQNE2ULBae79nbM268&confirm=t&uuid=e4c424f4-ee65-4a3a-9fd2-3b4631946faa\n",
            "To: /content/Dataset/subtaskB_train.jsonl\n",
            "100%|██████████| 155M/155M [00:00<00:00, 248MB/s]\n",
            "Downloading...\n",
            "From: https://drive.google.com/uc?id=1oh9c-d0fo3NtETNySmCNLUc6H1j4dSWE\n",
            "To: /content/Dataset/subtaskB_dev.jsonl\n",
            "100%|██████████| 4.93M/4.93M [00:00<00:00, 180MB/s]\n"
          ]
        },
        {
          "output_type": "display_data",
          "data": {
            "text/plain": [
              "Generating train split: 0 examples [00:00, ? examples/s]"
            ],
            "application/vnd.jupyter.widget-view+json": {
              "version_major": 2,
              "version_minor": 0,
              "model_id": "555ac8c8ca4548c6bf42fc96383d8842"
            }
          },
          "metadata": {}
        },
        {
          "output_type": "display_data",
          "data": {
            "text/plain": [
              "Generating train split: 0 examples [00:00, ? examples/s]"
            ],
            "application/vnd.jupyter.widget-view+json": {
              "version_major": 2,
              "version_minor": 0,
              "model_id": "b563316403004db39f35cfbd7c2e560f"
            }
          },
          "metadata": {}
        }
      ]
    },
    {
      "cell_type": "markdown",
      "source": [
        "## Tokenization of Datasets\n",
        "\n",
        "In this section, we tokenize the training and validation datasets using the BERT-based tokenizer."
      ],
      "metadata": {
        "id": "DUO3XQGLdNyn"
      }
    },
    {
      "cell_type": "code",
      "source": [
        "tokenizer = AutoTokenizer.from_pretrained('bert-base-uncased')\n",
        "id2label = {0 :'human', 1 :'chatGPT', 2 :'cohere', 3 :'davinci', 4 :'bloomz', 5 :'dolly'}\n",
        "label2id = {'human': 0, 'chatGPT': 1, 'cohere': 2, 'davinci': 3, 'bloomz': 4, 'dolly': 5}\n",
        "\n",
        "\n",
        "tokenized_ds_train, tokenized_ds_val = data_handler.tokenize_datasets(tokenizer)"
      ],
      "metadata": {
        "id": "jD7WgKMYrjpi",
        "outputId": "b6cdac01-9386-4670-bac0-6636ac5628e2",
        "colab": {
          "base_uri": "https://localhost:8080/",
          "height": 81,
          "referenced_widgets": [
            "6a395c5e0285453c9ed6ae90d8d0aeee",
            "4d9c53a382e448b28663b23b5e41d4a7",
            "bb81c195279a4594b02d0fb75713bd6f",
            "4386f727680d4d7b947cf63f0bc1da53",
            "a2a5d746574f410592cb0146b1b1a4b1",
            "8cc107adb3be4578b31a698c973a5cb7",
            "a82f12403f4b4a9d8d875664bc16ffdb",
            "1b6f872cb29d4584aad26d8060dabd6d",
            "c2cba8f6e7f842d9be20be725943a6d2",
            "b2a1e728fecf40488ad90e132bdb7fd3",
            "b1bbf32d1b824c92be3565c330e8ab73",
            "2730261e869c4aae9b3a22d6efabdebd",
            "2a57c1d9c65f479bae6a70636d16c467",
            "4d8f0431b96443f0afd352ee19980ea7",
            "5cea9650443046d1a512b6689d394c88",
            "c1a678e60a4345ce93e80c3e4c33a445",
            "8e99c9a8465f44398ff1a7412f6e5d54",
            "f22f9a4b399449d09d698083297819b1",
            "69a794bea0464143aef0a44c927c70a7",
            "712be29ac69e47de8180710860179b45",
            "17c5a176fafb49c4a6b40ab164a56712",
            "7d17dcb201ad4839a6fca9d635605141"
          ]
        }
      },
      "execution_count": 10,
      "outputs": [
        {
          "output_type": "display_data",
          "data": {
            "text/plain": [
              "Map:   0%|          | 0/71027 [00:00<?, ? examples/s]"
            ],
            "application/vnd.jupyter.widget-view+json": {
              "version_major": 2,
              "version_minor": 0,
              "model_id": "6a395c5e0285453c9ed6ae90d8d0aeee"
            }
          },
          "metadata": {}
        },
        {
          "output_type": "display_data",
          "data": {
            "text/plain": [
              "Map:   0%|          | 0/3000 [00:00<?, ? examples/s]"
            ],
            "application/vnd.jupyter.widget-view+json": {
              "version_major": 2,
              "version_minor": 0,
              "model_id": "2730261e869c4aae9b3a22d6efabdebd"
            }
          },
          "metadata": {}
        }
      ]
    },
    {
      "cell_type": "markdown",
      "source": [
        "## Plot Distribution of Labels in Dataset\n",
        "\n",
        "In this section, we visualize the distribution of labels in the training and validation datasets using a distribution plot."
      ],
      "metadata": {
        "id": "oua-gdeGKZX0"
      }
    },
    {
      "cell_type": "code",
      "source": [
        "data_handler.distribution_plot(tokenized_ds_train, tokenized_ds_val, id2label, output_filename='Part_One_Dataset_distribution_plot.png')\n"
      ],
      "metadata": {
        "id": "E5ljWe6l27Xa",
        "outputId": "5910716e-8f7c-4a8d-dbcd-021bedf8decc",
        "colab": {
          "base_uri": "https://localhost:8080/",
          "height": 633
        }
      },
      "execution_count": 11,
      "outputs": [
        {
          "output_type": "display_data",
          "data": {
            "text/plain": [
              "<Figure size 1600x400 with 2 Axes>"
            ],
            "image/png": "[encoded data removed]"
          },
          "metadata": {}
        },
        {
          "output_type": "stream",
          "name": "stdout",
          "text": [
            "\n",
            "Label Counts for Training Dataset:\n",
            "chatGPT: 11995\n",
            "human: 11997\n",
            "cohere: 11336\n",
            "davinci: 11999\n",
            "bloomz: 11998\n",
            "dolly: 11702\n",
            "\n",
            "Label Counts for Validation Dataset:\n",
            "chatGPT: 500\n",
            "human: 500\n",
            "davinci: 500\n",
            "cohere: 500\n",
            "bloomz: 500\n",
            "dolly: 500\n",
            "\n",
            "\n",
            "\n"
          ]
        }
      ]
    },
    {
      "cell_type": "markdown",
      "source": [
        "# FineTune Bert"
      ],
      "metadata": {
        "id": "Grm0KdRlQdh-"
      }
    },
    {
      "cell_type": "markdown",
      "source": [
        "## Model Initialization\n",
        "\n",
        "In this section, we initialize four different instances of the BERT-based sequence classification model with varying percentages of labeled data."
      ],
      "metadata": {
        "id": "8fF6rSRZRGvt"
      }
    },
    {
      "cell_type": "code",
      "execution_count": 13,
      "metadata": {
        "id": "8ufVrBZWurQ1"
      },
      "outputs": [],
      "source": [
        "logging.getLogger(\"transformers.modeling_utils\").setLevel(logging.ERROR)\n",
        "\n",
        "\n",
        "model_OnePercent = BertForSequenceClassification.from_pretrained('bert-base-uncased', num_labels=6, id2label=id2label, label2id=label2id)\n",
        "model_FivePercent = BertForSequenceClassification.from_pretrained('bert-base-uncased', num_labels=6, id2label=id2label, label2id=label2id)\n",
        "model_TenPercent = BertForSequenceClassification.from_pretrained('bert-base-uncased', num_labels=6, id2label=id2label, label2id=label2id)\n",
        "model_FiftyPercent = BertForSequenceClassification.from_pretrained('bert-base-uncased', num_labels=6, id2label=id2label, label2id=label2id)\n",
        "\n",
        "model_OnePercent_adapter = BertForSequenceClassification.from_pretrained('bert-base-uncased', num_labels=6, id2label=id2label, label2id=label2id)\n",
        "model_FivePercent_adapter = BertForSequenceClassification.from_pretrained('bert-base-uncased', num_labels=6, id2label=id2label, label2id=label2id)\n",
        "model_TenPercent_adapter = BertForSequenceClassification.from_pretrained('bert-base-uncased', num_labels=6, id2label=id2label, label2id=label2id)\n",
        "model_FiftyPercent_adapter = BertForSequenceClassification.from_pretrained('bert-base-uncased', num_labels=6, id2label=id2label, label2id=label2id)"
      ]
    },
    {
      "cell_type": "markdown",
      "source": [
        "we initialize an evaluation metric for accuracy, a data collator with padding using the specified tokenizer, and determine the available computing device."
      ],
      "metadata": {
        "id": "lUKRmGwXHYV6"
      }
    },
    {
      "cell_type": "code",
      "source": [
        "metric = evaluate.load('accuracy')\n",
        "data_collator = DataCollatorWithPadding(tokenizer=tokenizer, padding='longest')\n",
        "device = torch.device('cuda' if torch.cuda.is_available() else 'cpu')\n",
        "print(device)"
      ],
      "metadata": {
        "colab": {
          "base_uri": "https://localhost:8080/",
          "height": 66,
          "referenced_widgets": [
            "86f70283449e4ebe82d47c2b7bc54e2d",
            "3e151504fb0c49e3936e511f5c49d48f",
            "c5da87ff501e4fce97b2bc6399bb258c",
            "cf096a0581bd4fdcaaa3d6213871d397",
            "9b364e102db2468db52ade7bbcc28a79",
            "5737f55d57a94c8a8bdd5014d80fc0d2",
            "1b463074419e4a98aa339ca0fbe07e14",
            "a66b024eca484e039aae16b7f41d0927",
            "67b7afad1a8444549ff07da8c51c9993",
            "0a979318d186435e83205123ef932a47",
            "3a6ee613d76248e190f853bf2a514b72"
          ]
        },
        "id": "HEEN6eUYROXj",
        "outputId": "3e857138-de43-4e78-d2df-1dc204e0584e"
      },
      "execution_count": 14,
      "outputs": [
        {
          "output_type": "display_data",
          "data": {
            "text/plain": [
              "Downloading builder script:   0%|          | 0.00/4.20k [00:00<?, ?B/s]"
            ],
            "application/vnd.jupyter.widget-view+json": {
              "version_major": 2,
              "version_minor": 0,
              "model_id": "86f70283449e4ebe82d47c2b7bc54e2d"
            }
          },
          "metadata": {}
        },
        {
          "output_type": "stream",
          "name": "stdout",
          "text": [
            "cuda\n"
          ]
        }
      ]
    },
    {
      "cell_type": "markdown",
      "source": [
        "## Training Model with 1% Labeled Data\n",
        "\n",
        "In this section, we prepare and visualize 1% of the labeled training and validation data, then train the BERT-based sequence classification model (`model_OnePercent`) using this subsampled data."
      ],
      "metadata": {
        "id": "PCNogAEaHyPS"
      }
    },
    {
      "cell_type": "code",
      "source": [
        "data_valid = tokenized_ds_val.shuffle(seed=42)"
      ],
      "metadata": {
        "id": "q-3xHIiJ3yY_"
      },
      "execution_count": 17,
      "outputs": []
    },
    {
      "cell_type": "code",
      "source": [
        "data_train_onePrecet = tokenized_ds_train.shuffle(seed=42).shard(num_shards=100, index=0)\n",
        "\n",
        "\n",
        "data_handler.distribution_plot(data_train_onePrecet, data_valid, id2label, output_filename='Part_One_Distribution_One_Percent.png')\n",
        "\n",
        "# Train\n",
        "OnePercent = utility.train_model(model=model_OnePercent,\n",
        "                         train_set=data_train_onePrecet,\n",
        "                         val_set=data_valid,\n",
        "                         epochs=5,\n",
        "                         batch_size=64,\n",
        "                         tokenizer = tokenizer,\n",
        "                         data_collator = data_collator,\n",
        "                         metric = metric,\n",
        "                         device = device,\n",
        "                         seed_value = 42\n",
        "                         )\n"
      ],
      "metadata": {
        "colab": {
          "base_uri": "https://localhost:8080/",
          "height": 890
        },
        "id": "bdZ4leQz1LR3",
        "outputId": "e0db2867-0afa-4fcd-d3bb-9684cbb8f136"
      },
      "execution_count": 18,
      "outputs": [
        {
          "output_type": "display_data",
          "data": {
            "text/plain": [
              "<Figure size 1600x400 with 2 Axes>"
            ],
            "image/png": "[encoded data removed]"
          },
          "metadata": {}
        },
        {
          "output_type": "stream",
          "name": "stdout",
          "text": [
            "\n",
            "Label Counts for Training Dataset:\n",
            "dolly: 123\n",
            "human: 111\n",
            "chatGPT: 102\n",
            "davinci: 127\n",
            "cohere: 129\n",
            "bloomz: 119\n",
            "\n",
            "Label Counts for Validation Dataset:\n",
            "bloomz: 500\n",
            "human: 500\n",
            "davinci: 500\n",
            "dolly: 500\n",
            "cohere: 500\n",
            "chatGPT: 500\n",
            "\n",
            "\n",
            "\n"
          ]
        },
        {
          "output_type": "stream",
          "name": "stderr",
          "text": [
            "You're using a BertTokenizerFast tokenizer. Please note that with a fast tokenizer, using the `__call__` method is faster than using a method to encode the text followed by a call to the `pad` method to get a padded encoding.\n"
          ]
        },
        {
          "output_type": "display_data",
          "data": {
            "text/plain": [
              "<IPython.core.display.HTML object>"
            ],
            "text/html": [
              "\n",
              "    <div>\n",
              "      \n",
              "      <progress value='60' max='60' style='width:300px; height:20px; vertical-align: middle;'></progress>\n",
              "      [60/60 01:31, Epoch 5/5]\n",
              "    </div>\n",
              "    <table border=\"1\" class=\"dataframe\">\n",
              "  <thead>\n",
              " <tr style=\"text-align: left;\">\n",
              "      <th>Epoch</th>\n",
              "      <th>Training Loss</th>\n",
              "      <th>Validation Loss</th>\n",
              "      <th>Accuracy</th>\n",
              "    </tr>\n",
              "  </thead>\n",
              "  <tbody>\n",
              "    <tr>\n",
              "      <td>1</td>\n",
              "      <td>No log</td>\n",
              "      <td>1.775599</td>\n",
              "      <td>0.176667</td>\n",
              "    </tr>\n",
              "    <tr>\n",
              "      <td>2</td>\n",
              "      <td>No log</td>\n",
              "      <td>1.725711</td>\n",
              "      <td>0.198000</td>\n",
              "    </tr>\n",
              "    <tr>\n",
              "      <td>3</td>\n",
              "      <td>No log</td>\n",
              "      <td>1.651550</td>\n",
              "      <td>0.317000</td>\n",
              "    </tr>\n",
              "    <tr>\n",
              "      <td>4</td>\n",
              "      <td>No log</td>\n",
              "      <td>1.733148</td>\n",
              "      <td>0.257333</td>\n",
              "    </tr>\n",
              "    <tr>\n",
              "      <td>5</td>\n",
              "      <td>No log</td>\n",
              "      <td>1.665223</td>\n",
              "      <td>0.291667</td>\n",
              "    </tr>\n",
              "  </tbody>\n",
              "</table><p>"
            ]
          },
          "metadata": {}
        }
      ]
    },
    {
      "cell_type": "markdown",
      "source": [
        "**Training Model wit 1% Labeled Data - Adapter**"
      ],
      "metadata": {
        "id": "Ib13phaOZt9n"
      }
    },
    {
      "cell_type": "code",
      "source": [
        "from adapters import ConfigUnion, BnConfig, ParBnConfig, AutoAdapterModel, SeqBnInvConfig\n",
        "\n",
        "adapters.init(model_OnePercent_adapter)\n",
        "adapter_config = BnConfig(mh_adapter=True, output_adapter=True, reduction_factor=8, non_linearity=\"gelu\")\n",
        "model_OnePercent_adapter.add_adapter(\"my_adapter\", config=adapter_config, set_active=True)\n",
        "model_OnePercent_adapter.set_active_adapters(\"my_adapter\")\n",
        "model_OnePercent_adapter.train_adapter(\"my_adapter\")\n",
        "\n",
        "OnePercent_adapter = utility.train_model(model=model_OnePercent_adapter,\n",
        "                                          train_set=data_train_onePrecet,\n",
        "                                          val_set=data_valid,\n",
        "                                          epochs=5,\n",
        "                                          batch_size=64,\n",
        "                                          tokenizer = tokenizer,\n",
        "                                          data_collator = data_collator,\n",
        "                                          metric = metric,\n",
        "                                          device = device,\n",
        "                                          seed_value = 42\n",
        "                                          )"
      ],
      "metadata": {
        "colab": {
          "base_uri": "https://localhost:8080/",
          "height": 249
        },
        "id": "Zq58-alzZ32a",
        "outputId": "49daf739-3b17-498d-a4a8-1c2f1d43045e"
      },
      "execution_count": 21,
      "outputs": [
        {
          "output_type": "display_data",
          "data": {
            "text/plain": [
              "<IPython.core.display.HTML object>"
            ],
            "text/html": [
              "\n",
              "    <div>\n",
              "      \n",
              "      <progress value='60' max='60' style='width:300px; height:20px; vertical-align: middle;'></progress>\n",
              "      [60/60 00:56, Epoch 5/5]\n",
              "    </div>\n",
              "    <table border=\"1\" class=\"dataframe\">\n",
              "  <thead>\n",
              " <tr style=\"text-align: left;\">\n",
              "      <th>Epoch</th>\n",
              "      <th>Training Loss</th>\n",
              "      <th>Validation Loss</th>\n",
              "      <th>Accuracy</th>\n",
              "    </tr>\n",
              "  </thead>\n",
              "  <tbody>\n",
              "    <tr>\n",
              "      <td>1</td>\n",
              "      <td>No log</td>\n",
              "      <td>1.496872</td>\n",
              "      <td>0.365333</td>\n",
              "    </tr>\n",
              "    <tr>\n",
              "      <td>2</td>\n",
              "      <td>No log</td>\n",
              "      <td>1.508193</td>\n",
              "      <td>0.361333</td>\n",
              "    </tr>\n",
              "    <tr>\n",
              "      <td>3</td>\n",
              "      <td>No log</td>\n",
              "      <td>1.514861</td>\n",
              "      <td>0.362667</td>\n",
              "    </tr>\n",
              "    <tr>\n",
              "      <td>4</td>\n",
              "      <td>No log</td>\n",
              "      <td>1.520860</td>\n",
              "      <td>0.362333</td>\n",
              "    </tr>\n",
              "    <tr>\n",
              "      <td>5</td>\n",
              "      <td>No log</td>\n",
              "      <td>1.521540</td>\n",
              "      <td>0.361667</td>\n",
              "    </tr>\n",
              "  </tbody>\n",
              "</table><p>"
            ]
          },
          "metadata": {}
        },
        {
          "output_type": "stream",
          "name": "stderr",
          "text": [
            "There were missing keys in the checkpoint model loaded: ['bert.prompt_tuning.base_model_embeddings.weight'].\n"
          ]
        }
      ]
    },
    {
      "cell_type": "markdown",
      "source": [
        "## Training Model with 5% Labeled Data\n",
        "\n",
        "In this section, we prepare and visualize 5% of the labeled training and validation data, then train the BERT-based sequence classification model (`model_FivePercent`) using this subsampled data."
      ],
      "metadata": {
        "id": "uEKMMy5gKw5S"
      }
    },
    {
      "cell_type": "code",
      "source": [
        "data_train_FivePercent = tokenized_ds_train.shuffle(seed=42).shard(num_shards=20, index=0)\n",
        "\n",
        "\n",
        "data_handler.distribution_plot(data_train_FivePercent, data_valid, id2label, output_filename='Part_One_Distribution_Five_Percent.png')\n",
        "\n",
        "# Train\n",
        "\n",
        "FivePercent = utility.train_model(model=model_FivePercent,\n",
        "                         train_set=data_train_FivePercent,\n",
        "                         val_set=data_valid,\n",
        "                         epochs=5,\n",
        "                         batch_size=64,\n",
        "                         tokenizer = tokenizer,\n",
        "                         data_collator = data_collator,\n",
        "                         metric = metric,\n",
        "                         device = device,\n",
        "                         seed_value = 42\n",
        "                         )"
      ],
      "metadata": {
        "colab": {
          "base_uri": "https://localhost:8080/",
          "height": 852
        },
        "id": "Mpni8WiSJ9HS",
        "outputId": "c01c3673-d968-4394-ea41-bc6d18a639b5"
      },
      "execution_count": 20,
      "outputs": [
        {
          "output_type": "display_data",
          "data": {
            "text/plain": [
              "<Figure size 1600x400 with 2 Axes>"
            ],
            "image/png": "[encoded data removed]"
          },
          "metadata": {}
        },
        {
          "output_type": "stream",
          "name": "stdout",
          "text": [
            "\n",
            "Label Counts for Training Dataset:\n",
            "dolly: 583\n",
            "human: 591\n",
            "bloomz: 595\n",
            "davinci: 642\n",
            "cohere: 567\n",
            "chatGPT: 574\n",
            "\n",
            "Label Counts for Validation Dataset:\n",
            "bloomz: 500\n",
            "human: 500\n",
            "davinci: 500\n",
            "dolly: 500\n",
            "cohere: 500\n",
            "chatGPT: 500\n",
            "\n",
            "\n",
            "\n"
          ]
        },
        {
          "output_type": "display_data",
          "data": {
            "text/plain": [
              "<IPython.core.display.HTML object>"
            ],
            "text/html": [
              "\n",
              "    <div>\n",
              "      \n",
              "      <progress value='280' max='280' style='width:300px; height:20px; vertical-align: middle;'></progress>\n",
              "      [280/280 03:48, Epoch 5/5]\n",
              "    </div>\n",
              "    <table border=\"1\" class=\"dataframe\">\n",
              "  <thead>\n",
              " <tr style=\"text-align: left;\">\n",
              "      <th>Epoch</th>\n",
              "      <th>Training Loss</th>\n",
              "      <th>Validation Loss</th>\n",
              "      <th>Accuracy</th>\n",
              "    </tr>\n",
              "  </thead>\n",
              "  <tbody>\n",
              "    <tr>\n",
              "      <td>1</td>\n",
              "      <td>No log</td>\n",
              "      <td>1.570891</td>\n",
              "      <td>0.348667</td>\n",
              "    </tr>\n",
              "    <tr>\n",
              "      <td>2</td>\n",
              "      <td>No log</td>\n",
              "      <td>1.264005</td>\n",
              "      <td>0.460000</td>\n",
              "    </tr>\n",
              "    <tr>\n",
              "      <td>3</td>\n",
              "      <td>No log</td>\n",
              "      <td>1.390307</td>\n",
              "      <td>0.467667</td>\n",
              "    </tr>\n",
              "    <tr>\n",
              "      <td>4</td>\n",
              "      <td>No log</td>\n",
              "      <td>1.558690</td>\n",
              "      <td>0.467000</td>\n",
              "    </tr>\n",
              "    <tr>\n",
              "      <td>5</td>\n",
              "      <td>No log</td>\n",
              "      <td>1.664080</td>\n",
              "      <td>0.465667</td>\n",
              "    </tr>\n",
              "  </tbody>\n",
              "</table><p>"
            ]
          },
          "metadata": {}
        }
      ]
    },
    {
      "cell_type": "markdown",
      "source": [
        "**Training Model with 5% Labeled Data**"
      ],
      "metadata": {
        "id": "VlphXfMicDpL"
      }
    },
    {
      "cell_type": "code",
      "source": [
        "#from adapters import ConfigUnion, BnConfig, ParBnConfig, AutoAdapterModel, SeqBnInvConfig\n",
        "\n",
        "adapters.init(model_FivePercent_adapter)\n",
        "adapter_config = BnConfig(mh_adapter=True, output_adapter=True, reduction_factor=8, non_linearity=\"gelu\")\n",
        "model_FivePercent_adapter.add_adapter(\"my_adapter\", config=adapter_config, set_active=True)\n",
        "model_FivePercent_adapter.set_active_adapters(\"my_adapter\")\n",
        "model_FivePercent_adapter.train_adapter(\"my_adapter\")\n",
        "\n",
        "# Train\n",
        "\n",
        "FivePercent_adapter = utility.train_model(model=model_FivePercent_adapter,\n",
        "                         train_set=data_train_FivePercent,\n",
        "                         val_set=data_valid,\n",
        "                         epochs=5,\n",
        "                         batch_size=64,\n",
        "                         tokenizer = tokenizer,\n",
        "                         data_collator = data_collator,\n",
        "                         metric = metric,\n",
        "                         device = device,\n",
        "                         seed_value = 42\n",
        "                         )"
      ],
      "metadata": {
        "id": "K-jsg_rKcJQx",
        "outputId": "0095825c-f3b4-41da-9a17-6dea60342db1",
        "colab": {
          "base_uri": "https://localhost:8080/",
          "height": 249
        }
      },
      "execution_count": 24,
      "outputs": [
        {
          "output_type": "display_data",
          "data": {
            "text/plain": [
              "<IPython.core.display.HTML object>"
            ],
            "text/html": [
              "\n",
              "    <div>\n",
              "      \n",
              "      <progress value='280' max='280' style='width:300px; height:20px; vertical-align: middle;'></progress>\n",
              "      [280/280 01:34, Epoch 5/5]\n",
              "    </div>\n",
              "    <table border=\"1\" class=\"dataframe\">\n",
              "  <thead>\n",
              " <tr style=\"text-align: left;\">\n",
              "      <th>Epoch</th>\n",
              "      <th>Training Loss</th>\n",
              "      <th>Validation Loss</th>\n",
              "      <th>Accuracy</th>\n",
              "    </tr>\n",
              "  </thead>\n",
              "  <tbody>\n",
              "    <tr>\n",
              "      <td>1</td>\n",
              "      <td>No log</td>\n",
              "      <td>1.788680</td>\n",
              "      <td>0.215333</td>\n",
              "    </tr>\n",
              "    <tr>\n",
              "      <td>2</td>\n",
              "      <td>No log</td>\n",
              "      <td>1.782657</td>\n",
              "      <td>0.240333</td>\n",
              "    </tr>\n",
              "    <tr>\n",
              "      <td>3</td>\n",
              "      <td>No log</td>\n",
              "      <td>1.778778</td>\n",
              "      <td>0.261667</td>\n",
              "    </tr>\n",
              "    <tr>\n",
              "      <td>4</td>\n",
              "      <td>No log</td>\n",
              "      <td>1.777277</td>\n",
              "      <td>0.235333</td>\n",
              "    </tr>\n",
              "    <tr>\n",
              "      <td>5</td>\n",
              "      <td>No log</td>\n",
              "      <td>1.776382</td>\n",
              "      <td>0.242333</td>\n",
              "    </tr>\n",
              "  </tbody>\n",
              "</table><p>"
            ]
          },
          "metadata": {}
        },
        {
          "output_type": "stream",
          "name": "stderr",
          "text": [
            "There were missing keys in the checkpoint model loaded: ['bert.prompt_tuning.base_model_embeddings.weight'].\n"
          ]
        }
      ]
    },
    {
      "cell_type": "markdown",
      "source": [
        "## Training Model with 10% Labeled Data\n",
        "\n",
        "In this section, we prepare and visualize 10% of the labeled training and validation data, then train the BERT-based sequence classification model (`model_TenPercent`) using this subsampled data."
      ],
      "metadata": {
        "id": "Xu28bE-QL3Xq"
      }
    },
    {
      "cell_type": "code",
      "source": [
        "data_train_TenPercent = tokenized_ds_train.shuffle(seed=42).shard(num_shards=10, index=0)\n",
        "\n",
        "\n",
        "data_handler.distribution_plot(data_train_TenPercent, data_valid, id2label, output_filename='Part_One_Distribution_Ten_Percent.png')\n",
        "\n",
        "# Train\n",
        "\n",
        "TenPercent = utility.train_model(model=model_TenPercent,\n",
        "                         train_set=data_train_TenPercent,\n",
        "                         val_set=data_valid,\n",
        "                         epochs=5,\n",
        "                         batch_size=64,\n",
        "                         tokenizer = tokenizer,\n",
        "                         data_collator = data_collator,\n",
        "                         metric = metric,\n",
        "                         device = device,\n",
        "                         seed_value = 42\n",
        "                         )"
      ],
      "metadata": {
        "colab": {
          "base_uri": "https://localhost:8080/",
          "height": 850
        },
        "id": "HBiHUK80L9HB",
        "outputId": "adc6e296-efac-49ca-d21b-88c8bee6a142"
      },
      "execution_count": 25,
      "outputs": [
        {
          "output_type": "display_data",
          "data": {
            "text/plain": [
              "<Figure size 1600x400 with 2 Axes>"
            ],
            "image/png": "[encoded data removed]"
          },
          "metadata": {}
        },
        {
          "output_type": "stream",
          "name": "stdout",
          "text": [
            "\n",
            "Label Counts for Training Dataset:\n",
            "dolly: 1170\n",
            "bloomz: 1188\n",
            "human: 1187\n",
            "davinci: 1206\n",
            "cohere: 1154\n",
            "chatGPT: 1198\n",
            "\n",
            "Label Counts for Validation Dataset:\n",
            "bloomz: 500\n",
            "human: 500\n",
            "davinci: 500\n",
            "dolly: 500\n",
            "cohere: 500\n",
            "chatGPT: 500\n",
            "\n",
            "\n",
            "\n"
          ]
        },
        {
          "output_type": "display_data",
          "data": {
            "text/plain": [
              "<IPython.core.display.HTML object>"
            ],
            "text/html": [
              "\n",
              "    <div>\n",
              "      \n",
              "      <progress value='555' max='555' style='width:300px; height:20px; vertical-align: middle;'></progress>\n",
              "      [555/555 06:54, Epoch 5/5]\n",
              "    </div>\n",
              "    <table border=\"1\" class=\"dataframe\">\n",
              "  <thead>\n",
              " <tr style=\"text-align: left;\">\n",
              "      <th>Epoch</th>\n",
              "      <th>Training Loss</th>\n",
              "      <th>Validation Loss</th>\n",
              "      <th>Accuracy</th>\n",
              "    </tr>\n",
              "  </thead>\n",
              "  <tbody>\n",
              "    <tr>\n",
              "      <td>1</td>\n",
              "      <td>No log</td>\n",
              "      <td>1.362722</td>\n",
              "      <td>0.449667</td>\n",
              "    </tr>\n",
              "    <tr>\n",
              "      <td>2</td>\n",
              "      <td>No log</td>\n",
              "      <td>1.333085</td>\n",
              "      <td>0.518000</td>\n",
              "    </tr>\n",
              "    <tr>\n",
              "      <td>3</td>\n",
              "      <td>No log</td>\n",
              "      <td>1.541718</td>\n",
              "      <td>0.516667</td>\n",
              "    </tr>\n",
              "    <tr>\n",
              "      <td>4</td>\n",
              "      <td>No log</td>\n",
              "      <td>1.809150</td>\n",
              "      <td>0.523000</td>\n",
              "    </tr>\n",
              "    <tr>\n",
              "      <td>5</td>\n",
              "      <td>No log</td>\n",
              "      <td>1.967227</td>\n",
              "      <td>0.517333</td>\n",
              "    </tr>\n",
              "  </tbody>\n",
              "</table><p>"
            ]
          },
          "metadata": {}
        }
      ]
    },
    {
      "cell_type": "markdown",
      "source": [
        "**Training Model with 10% Labeled Data- Adapter**"
      ],
      "metadata": {
        "id": "1CAvbyZdeJVR"
      }
    },
    {
      "cell_type": "code",
      "source": [
        "#from adapters import ConfigUnion, BnConfig, ParBnConfig, AutoAdapterModel, SeqBnInvConfig\n",
        "model_TenPercent_adapter = BertForSequenceClassification.from_pretrained('bert-base-uncased', num_labels=6, id2label=id2label, label2id=label2id)\n",
        "\n",
        "adapters.init(model_TenPercent_adapter)\n",
        "adapter_config = BnConfig(mh_adapter=True, output_adapter=True, reduction_factor=2, non_linearity=\"relu\")\n",
        "model_TenPercent_adapter.add_adapter(\"my_adapter\", config=adapter_config, set_active=True)\n",
        "model_TenPercent_adapter.set_active_adapters(\"my_adapter\")\n",
        "model_TenPercent_adapter.train_adapter(\"my_adapter\")\n",
        "\n",
        "\n",
        "TenPercent_adapter = utility.train_model(model=model_TenPercent_adapter,\n",
        "                         train_set=data_train_TenPercent,\n",
        "                         val_set=data_valid,\n",
        "                         epochs=5,\n",
        "                         batch_size=16,\n",
        "                         tokenizer = tokenizer,\n",
        "                         data_collator = data_collator,\n",
        "                         metric = metric,\n",
        "                         device = device,\n",
        "                         seed_value = 42\n",
        "                         )\n"
      ],
      "metadata": {
        "id": "8EP5jy0zeRTH",
        "outputId": "6c953bc7-0788-4fdb-d37d-a62bd666e001",
        "colab": {
          "base_uri": "https://localhost:8080/",
          "height": 249
        }
      },
      "execution_count": 30,
      "outputs": [
        {
          "output_type": "display_data",
          "data": {
            "text/plain": [
              "<IPython.core.display.HTML object>"
            ],
            "text/html": [
              "\n",
              "    <div>\n",
              "      \n",
              "      <progress value='2220' max='2220' style='width:300px; height:20px; vertical-align: middle;'></progress>\n",
              "      [2220/2220 03:16, Epoch 5/5]\n",
              "    </div>\n",
              "    <table border=\"1\" class=\"dataframe\">\n",
              "  <thead>\n",
              " <tr style=\"text-align: left;\">\n",
              "      <th>Epoch</th>\n",
              "      <th>Training Loss</th>\n",
              "      <th>Validation Loss</th>\n",
              "      <th>Accuracy</th>\n",
              "    </tr>\n",
              "  </thead>\n",
              "  <tbody>\n",
              "    <tr>\n",
              "      <td>1</td>\n",
              "      <td>No log</td>\n",
              "      <td>1.775709</td>\n",
              "      <td>0.230000</td>\n",
              "    </tr>\n",
              "    <tr>\n",
              "      <td>2</td>\n",
              "      <td>No log</td>\n",
              "      <td>1.760874</td>\n",
              "      <td>0.249333</td>\n",
              "    </tr>\n",
              "    <tr>\n",
              "      <td>3</td>\n",
              "      <td>No log</td>\n",
              "      <td>1.752193</td>\n",
              "      <td>0.289000</td>\n",
              "    </tr>\n",
              "    <tr>\n",
              "      <td>4</td>\n",
              "      <td>No log</td>\n",
              "      <td>1.748417</td>\n",
              "      <td>0.273333</td>\n",
              "    </tr>\n",
              "    <tr>\n",
              "      <td>5</td>\n",
              "      <td>No log</td>\n",
              "      <td>1.746588</td>\n",
              "      <td>0.291333</td>\n",
              "    </tr>\n",
              "  </tbody>\n",
              "</table><p>"
            ]
          },
          "metadata": {}
        },
        {
          "output_type": "stream",
          "name": "stderr",
          "text": [
            "There were missing keys in the checkpoint model loaded: ['bert.prompt_tuning.base_model_embeddings.weight'].\n"
          ]
        }
      ]
    },
    {
      "cell_type": "markdown",
      "source": [
        "## Training Model with 50% Labeled Data\n",
        "\n",
        "In this section, we prepare and visualize 50% of the labeled training and validation data, then train the BERT-based sequence classification model (`model_FiftyPercent`) using this subsampled data."
      ],
      "metadata": {
        "id": "bc1dxaAmTS_F"
      }
    },
    {
      "cell_type": "code",
      "source": [
        "data_train_FiftyPercent = tokenized_ds_train.shuffle(seed=42).shard(num_shards=2, index=0)\n",
        "\n",
        "\n",
        "data_handler.distribution_plot(data_train_FiftyPercent, data_valid, id2label, output_filename='Part_One_Distribution_Fifty_Percent.png')\n",
        "\n",
        "# Train\n",
        "\n",
        "FiftyPercent = utility.train_model(model=model_FiftyPercent,\n",
        "                         train_set=data_train_FiftyPercent,\n",
        "                         val_set=data_valid,\n",
        "                         epochs=5,\n",
        "                         batch_size=64,\n",
        "                         tokenizer = tokenizer,\n",
        "                         data_collator = data_collator,\n",
        "                         metric = metric,\n",
        "                         device = device,\n",
        "                         seed_value = 42\n",
        "                         )"
      ],
      "metadata": {
        "id": "i-iC_sF3TqIr"
      },
      "execution_count": null,
      "outputs": []
    },
    {
      "cell_type": "markdown",
      "source": [
        "**Training Model with 50% Labeled Data - Adapter**"
      ],
      "metadata": {
        "id": "pfoUcFffiis2"
      }
    },
    {
      "cell_type": "code",
      "source": [
        "#from adapters import ConfigUnion, BnConfig, ParBnConfig, AutoAdapterModel, SeqBnInvConfig\n",
        "#model_FiftyPercent_adapter = BertForSequenceClassification.from_pretrained('bert-base-uncased', num_labels=6, id2label=id2label, label2id=label2id)\n",
        "\n",
        "adapters.init(model_FiftyPercent_adapter)\n",
        "adapter_config = BnConfig(mh_adapter=True, output_adapter=True, reduction_factor=2, non_linearity=\"relu\")\n",
        "model_FiftyPercent_adapter.add_adapter(\"my_adapter\", config=adapter_config, set_active=True)\n",
        "model_FiftyPercent_adapter.set_active_adapters(\"my_adapter\")\n",
        "model_FiftyPercent_adapter.train_adapter(\"my_adapter\")\n",
        "\n",
        "FiftyPercent_adapter = utility.train_model(model=model_FiftyPercent_adapter,\n",
        "                         train_set=data_train_FiftyPercent,\n",
        "                         val_set=data_valid,\n",
        "                         epochs=10,\n",
        "                         batch_size=16,\n",
        "                         tokenizer = tokenizer,\n",
        "                         data_collator = data_collator,\n",
        "                         metric = metric,\n",
        "                         device = device,\n",
        "                         seed_value = 42\n",
        "                         )"
      ],
      "metadata": {
        "id": "Biwkwws-irbw",
        "outputId": "8c1cff95-419b-41dd-a457-08f8e6ac1063",
        "colab": {
          "base_uri": "https://localhost:8080/",
          "height": 406
        }
      },
      "execution_count": 32,
      "outputs": [
        {
          "output_type": "display_data",
          "data": {
            "text/plain": [
              "<IPython.core.display.HTML object>"
            ],
            "text/html": [
              "\n",
              "    <div>\n",
              "      \n",
              "      <progress value='22200' max='22200' style='width:300px; height:20px; vertical-align: middle;'></progress>\n",
              "      [22200/22200 24:06, Epoch 10/10]\n",
              "    </div>\n",
              "    <table border=\"1\" class=\"dataframe\">\n",
              "  <thead>\n",
              " <tr style=\"text-align: left;\">\n",
              "      <th>Epoch</th>\n",
              "      <th>Training Loss</th>\n",
              "      <th>Validation Loss</th>\n",
              "      <th>Accuracy</th>\n",
              "    </tr>\n",
              "  </thead>\n",
              "  <tbody>\n",
              "    <tr>\n",
              "      <td>1</td>\n",
              "      <td>No log</td>\n",
              "      <td>1.721537</td>\n",
              "      <td>0.287333</td>\n",
              "    </tr>\n",
              "    <tr>\n",
              "      <td>2</td>\n",
              "      <td>No log</td>\n",
              "      <td>1.689924</td>\n",
              "      <td>0.264333</td>\n",
              "    </tr>\n",
              "    <tr>\n",
              "      <td>3</td>\n",
              "      <td>No log</td>\n",
              "      <td>1.662162</td>\n",
              "      <td>0.310333</td>\n",
              "    </tr>\n",
              "    <tr>\n",
              "      <td>4</td>\n",
              "      <td>No log</td>\n",
              "      <td>1.650731</td>\n",
              "      <td>0.311333</td>\n",
              "    </tr>\n",
              "    <tr>\n",
              "      <td>5</td>\n",
              "      <td>No log</td>\n",
              "      <td>1.645269</td>\n",
              "      <td>0.314333</td>\n",
              "    </tr>\n",
              "    <tr>\n",
              "      <td>6</td>\n",
              "      <td>No log</td>\n",
              "      <td>1.634006</td>\n",
              "      <td>0.324667</td>\n",
              "    </tr>\n",
              "    <tr>\n",
              "      <td>7</td>\n",
              "      <td>No log</td>\n",
              "      <td>1.628528</td>\n",
              "      <td>0.327667</td>\n",
              "    </tr>\n",
              "    <tr>\n",
              "      <td>8</td>\n",
              "      <td>No log</td>\n",
              "      <td>1.628614</td>\n",
              "      <td>0.324667</td>\n",
              "    </tr>\n",
              "    <tr>\n",
              "      <td>9</td>\n",
              "      <td>No log</td>\n",
              "      <td>1.625561</td>\n",
              "      <td>0.321000</td>\n",
              "    </tr>\n",
              "    <tr>\n",
              "      <td>10</td>\n",
              "      <td>No log</td>\n",
              "      <td>1.624899</td>\n",
              "      <td>0.324333</td>\n",
              "    </tr>\n",
              "  </tbody>\n",
              "</table><p>"
            ]
          },
          "metadata": {}
        },
        {
          "output_type": "stream",
          "name": "stderr",
          "text": [
            "There were missing keys in the checkpoint model loaded: ['bert.prompt_tuning.base_model_embeddings.weight'].\n"
          ]
        }
      ]
    },
    {
      "cell_type": "markdown",
      "source": [
        "## Plotting Accuracy vs. Percentage of Labeled Data\n",
        "\n",
        "In this section, we visualize the accuracy of the BERT-based sequence classification model at different percentages of labeled data.\n"
      ],
      "metadata": {
        "id": "PnyY225oVo3U"
      }
    },
    {
      "cell_type": "code",
      "source": [
        "percentages = [1, 5, 10, 50]\n",
        "bert_accuracies = [OnePercent[-1], FivePercent[-1], TenPercent[-1], FiftyPercent[-1]]\n",
        "\n",
        "utility.plot_accuracy_vs_percentage(percentages, bert_accuracies, label='Bert')"
      ],
      "metadata": {
        "id": "CNOKbbTViBw6",
        "outputId": "95c10d47-5dd2-4b78-8c47-267ba26f913e",
        "colab": {
          "base_uri": "https://localhost:8080/",
          "height": 449
        }
      },
      "execution_count": null,
      "outputs": [
        {
          "output_type": "display_data",
          "data": {
            "text/plain": [
              "<Figure size 640x480 with 1 Axes>"
            ],
            "image/png": "[encoded data removed]"
          },
          "metadata": {}
        }
      ]
    },
    {
      "cell_type": "code",
      "source": [
        "percentages = [1, 5, 10, 50]\n",
        "bert_accuracies_adapter = [OnePercent_adapter[-1], FivePercent_adapter[-1], TenPercent_adapter[-1], FiftyPercent_adapter[-1]]\n",
        "\n",
        "utility.plot_accuracy_vs_percentage(percentages, bert_accuracies_adapter, label='Bert')"
      ],
      "metadata": {
        "id": "NZj6dmXnpHV0",
        "outputId": "b694e33f-8125-495e-bea0-14744bf4115b",
        "colab": {
          "base_uri": "https://localhost:8080/",
          "height": 449
        }
      },
      "execution_count": 33,
      "outputs": [
        {
          "output_type": "display_data",
          "data": {
            "text/plain": [
              "<Figure size 640x480 with 1 Axes>"
            ],
            "image/png": "[encoded data removed]"
          },
          "metadata": {}
        }
      ]
    },
    {
      "cell_type": "markdown",
      "source": [
        "Saving Accuracy for Part Three:"
      ],
      "metadata": {
        "id": "o5ipeSqr4Z_o"
      }
    },
    {
      "cell_type": "code",
      "source": [
        "import pickle\n",
        "\n",
        "with open('bert_accuracies.pkl', 'wb') as file:\n",
        "    pickle.dump(bert_accuracies_adapter, file)"
      ],
      "metadata": {
        "id": "LwfIdaa54dsX"
      },
      "execution_count": 35,
      "outputs": []
    }
  ],
  "metadata": {
    "accelerator": "GPU",
    "colab": {
      "gpuType": "T4",
      "provenance": []
    },
    "kernelspec": {
      "display_name": "Python 3",
      "name": "python3"
    },
    "language_info": {
      "name": "python"
    },
    "widgets": {
      "application/vnd.jupyter.widget-state+json": {
        "555ac8c8ca4548c6bf42fc96383d8842": {
          "model_module": "@jupyter-widgets/controls",
          "model_name": "HBoxModel",
          "model_module_version": "1.5.0",
          "state": {
            "_dom_classes": [],
            "_model_module": "@jupyter-widgets/controls",
            "_model_module_version": "1.5.0",
            "_model_name": "HBoxModel",
            "_view_count": null,
            "_view_module": "@jupyter-widgets/controls",
            "_view_module_version": "1.5.0",
            "_view_name": "HBoxView",
            "box_style": "",
            "children": [
              "IPY_MODEL_c83f9c48e7e34627af8fd050744dd52d",
              "IPY_MODEL_1c0f419c2c2643a8829a2463a27b5402",
              "IPY_MODEL_8509eb1d8af5476589853a83c5e3a09e"
            ],
            "layout": "IPY_MODEL_51fcdff96cad4410902ecb7a35cd1980"
          }
        },
        "c83f9c48e7e34627af8fd050744dd52d": {
          "model_module": "@jupyter-widgets/controls",
          "model_name": "HTMLModel",
          "model_module_version": "1.5.0",
          "state": {
            "_dom_classes": [],
            "_model_module": "@jupyter-widgets/controls",
            "_model_module_version": "1.5.0",
            "_model_name": "HTMLModel",
            "_view_count": null,
            "_view_module": "@jupyter-widgets/controls",
            "_view_module_version": "1.5.0",
            "_view_name": "HTMLView",
            "description": "",
            "description_tooltip": null,
            "layout": "IPY_MODEL_3517ae1eac7641aaa8fff4642aa23c48",
            "placeholder": "​",
            "style": "IPY_MODEL_eb4fd54375314a5c8c5661cb8b4cfc26",
            "value": "Generating train split: "
          }
        },
        "1c0f419c2c2643a8829a2463a27b5402": {
          "model_module": "@jupyter-widgets/controls",
          "model_name": "FloatProgressModel",
          "model_module_version": "1.5.0",
          "state": {
            "_dom_classes": [],
            "_model_module": "@jupyter-widgets/controls",
            "_model_module_version": "1.5.0",
            "_model_name": "FloatProgressModel",
            "_view_count": null,
            "_view_module": "@jupyter-widgets/controls",
            "_view_module_version": "1.5.0",
            "_view_name": "ProgressView",
            "bar_style": "success",
            "description": "",
            "description_tooltip": null,
            "layout": "IPY_MODEL_b9c2962695464dcd9df6a8420f68db1f",
            "max": 1,
            "min": 0,
            "orientation": "horizontal",
            "style": "IPY_MODEL_c92dd426d6d745d5be43a898cc52cfa3",
            "value": 1
          }
        },
        "8509eb1d8af5476589853a83c5e3a09e": {
          "model_module": "@jupyter-widgets/controls",
          "model_name": "HTMLModel",
          "model_module_version": "1.5.0",
          "state": {
            "_dom_classes": [],
            "_model_module": "@jupyter-widgets/controls",
            "_model_module_version": "1.5.0",
            "_model_name": "HTMLModel",
            "_view_count": null,
            "_view_module": "@jupyter-widgets/controls",
            "_view_module_version": "1.5.0",
            "_view_name": "HTMLView",
            "description": "",
            "description_tooltip": null,
            "layout": "IPY_MODEL_7a6898ce9c1b42c294392f6d4398a3d2",
            "placeholder": "​",
            "style": "IPY_MODEL_98b743a6cfbd49838787ea8687c0f770",
            "value": " 71027/0 [00:01&lt;00:00, 46831.08 examples/s]"
          }
        },
        "51fcdff96cad4410902ecb7a35cd1980": {
          "model_module": "@jupyter-widgets/base",
          "model_name": "LayoutModel",
          "model_module_version": "1.2.0",
          "state": {
            "_model_module": "@jupyter-widgets/base",
            "_model_module_version": "1.2.0",
            "_model_name": "LayoutModel",
            "_view_count": null,
            "_view_module": "@jupyter-widgets/base",
            "_view_module_version": "1.2.0",
            "_view_name": "LayoutView",
            "align_content": null,
            "align_items": null,
            "align_self": null,
            "border": null,
            "bottom": null,
            "display": null,
            "flex": null,
            "flex_flow": null,
            "grid_area": null,
            "grid_auto_columns": null,
            "grid_auto_flow": null,
            "grid_auto_rows": null,
            "grid_column": null,
            "grid_gap": null,
            "grid_row": null,
            "grid_template_areas": null,
            "grid_template_columns": null,
            "grid_template_rows": null,
            "height": null,
            "justify_content": null,
            "justify_items": null,
            "left": null,
            "margin": null,
            "max_height": null,
            "max_width": null,
            "min_height": null,
            "min_width": null,
            "object_fit": null,
            "object_position": null,
            "order": null,
            "overflow": null,
            "overflow_x": null,
            "overflow_y": null,
            "padding": null,
            "right": null,
            "top": null,
            "visibility": null,
            "width": null
          }
        },
        "3517ae1eac7641aaa8fff4642aa23c48": {
          "model_module": "@jupyter-widgets/base",
          "model_name": "LayoutModel",
          "model_module_version": "1.2.0",
          "state": {
            "_model_module": "@jupyter-widgets/base",
            "_model_module_version": "1.2.0",
            "_model_name": "LayoutModel",
            "_view_count": null,
            "_view_module": "@jupyter-widgets/base",
            "_view_module_version": "1.2.0",
            "_view_name": "LayoutView",
            "align_content": null,
            "align_items": null,
            "align_self": null,
            "border": null,
            "bottom": null,
            "display": null,
            "flex": null,
            "flex_flow": null,
            "grid_area": null,
            "grid_auto_columns": null,
            "grid_auto_flow": null,
            "grid_auto_rows": null,
            "grid_column": null,
            "grid_gap": null,
            "grid_row": null,
            "grid_template_areas": null,
            "grid_template_columns": null,
            "grid_template_rows": null,
            "height": null,
            "justify_content": null,
            "justify_items": null,
            "left": null,
            "margin": null,
            "max_height": null,
            "max_width": null,
            "min_height": null,
            "min_width": null,
            "object_fit": null,
            "object_position": null,
            "order": null,
            "overflow": null,
            "overflow_x": null,
            "overflow_y": null,
            "padding": null,
            "right": null,
            "top": null,
            "visibility": null,
            "width": null
          }
        },
        "eb4fd54375314a5c8c5661cb8b4cfc26": {
          "model_module": "@jupyter-widgets/controls",
          "model_name": "DescriptionStyleModel",
          "model_module_version": "1.5.0",
          "state": {
            "_model_module": "@jupyter-widgets/controls",
            "_model_module_version": "1.5.0",
            "_model_name": "DescriptionStyleModel",
            "_view_count": null,
            "_view_module": "@jupyter-widgets/base",
            "_view_module_version": "1.2.0",
            "_view_name": "StyleView",
            "description_width": ""
          }
        },
        "b9c2962695464dcd9df6a8420f68db1f": {
          "model_module": "@jupyter-widgets/base",
          "model_name": "LayoutModel",
          "model_module_version": "1.2.0",
          "state": {
            "_model_module": "@jupyter-widgets/base",
            "_model_module_version": "1.2.0",
            "_model_name": "LayoutModel",
            "_view_count": null,
            "_view_module": "@jupyter-widgets/base",
            "_view_module_version": "1.2.0",
            "_view_name": "LayoutView",
            "align_content": null,
            "align_items": null,
            "align_self": null,
            "border": null,
            "bottom": null,
            "display": null,
            "flex": null,
            "flex_flow": null,
            "grid_area": null,
            "grid_auto_columns": null,
            "grid_auto_flow": null,
            "grid_auto_rows": null,
            "grid_column": null,
            "grid_gap": null,
            "grid_row": null,
            "grid_template_areas": null,
            "grid_template_columns": null,
            "grid_template_rows": null,
            "height": null,
            "justify_content": null,
            "justify_items": null,
            "left": null,
            "margin": null,
            "max_height": null,
            "max_width": null,
            "min_height": null,
            "min_width": null,
            "object_fit": null,
            "object_position": null,
            "order": null,
            "overflow": null,
            "overflow_x": null,
            "overflow_y": null,
            "padding": null,
            "right": null,
            "top": null,
            "visibility": null,
            "width": "20px"
          }
        },
        "c92dd426d6d745d5be43a898cc52cfa3": {
          "model_module": "@jupyter-widgets/controls",
          "model_name": "ProgressStyleModel",
          "model_module_version": "1.5.0",
          "state": {
            "_model_module": "@jupyter-widgets/controls",
            "_model_module_version": "1.5.0",
            "_model_name": "ProgressStyleModel",
            "_view_count": null,
            "_view_module": "@jupyter-widgets/base",
            "_view_module_version": "1.2.0",
            "_view_name": "StyleView",
            "bar_color": null,
            "description_width": ""
          }
        },
        "7a6898ce9c1b42c294392f6d4398a3d2": {
          "model_module": "@jupyter-widgets/base",
          "model_name": "LayoutModel",
          "model_module_version": "1.2.0",
          "state": {
            "_model_module": "@jupyter-widgets/base",
            "_model_module_version": "1.2.0",
            "_model_name": "LayoutModel",
            "_view_count": null,
            "_view_module": "@jupyter-widgets/base",
            "_view_module_version": "1.2.0",
            "_view_name": "LayoutView",
            "align_content": null,
            "align_items": null,
            "align_self": null,
            "border": null,
            "bottom": null,
            "display": null,
            "flex": null,
            "flex_flow": null,
            "grid_area": null,
            "grid_auto_columns": null,
            "grid_auto_flow": null,
            "grid_auto_rows": null,
            "grid_column": null,
            "grid_gap": null,
            "grid_row": null,
            "grid_template_areas": null,
            "grid_template_columns": null,
            "grid_template_rows": null,
            "height": null,
            "justify_content": null,
            "justify_items": null,
            "left": null,
            "margin": null,
            "max_height": null,
            "max_width": null,
            "min_height": null,
            "min_width": null,
            "object_fit": null,
            "object_position": null,
            "order": null,
            "overflow": null,
            "overflow_x": null,
            "overflow_y": null,
            "padding": null,
            "right": null,
            "top": null,
            "visibility": null,
            "width": null
          }
        },
        "98b743a6cfbd49838787ea8687c0f770": {
          "model_module": "@jupyter-widgets/controls",
          "model_name": "DescriptionStyleModel",
          "model_module_version": "1.5.0",
          "state": {
            "_model_module": "@jupyter-widgets/controls",
            "_model_module_version": "1.5.0",
            "_model_name": "DescriptionStyleModel",
            "_view_count": null,
            "_view_module": "@jupyter-widgets/base",
            "_view_module_version": "1.2.0",
            "_view_name": "StyleView",
            "description_width": ""
          }
        },
        "b563316403004db39f35cfbd7c2e560f": {
          "model_module": "@jupyter-widgets/controls",
          "model_name": "HBoxModel",
          "model_module_version": "1.5.0",
          "state": {
            "_dom_classes": [],
            "_model_module": "@jupyter-widgets/controls",
            "_model_module_version": "1.5.0",
            "_model_name": "HBoxModel",
            "_view_count": null,
            "_view_module": "@jupyter-widgets/controls",
            "_view_module_version": "1.5.0",
            "_view_name": "HBoxView",
            "box_style": "",
            "children": [
              "IPY_MODEL_41c74074c22b45b883c91c935a94d8d6",
              "IPY_MODEL_4fa4460cc23d452b97fd6c80433e22b3",
              "IPY_MODEL_ab38d5fbf42d4ca89326c8d26b291a68"
            ],
            "layout": "IPY_MODEL_d2e350f1d7fe4f9f863170652da3928b"
          }
        },
        "41c74074c22b45b883c91c935a94d8d6": {
          "model_module": "@jupyter-widgets/controls",
          "model_name": "HTMLModel",
          "model_module_version": "1.5.0",
          "state": {
            "_dom_classes": [],
            "_model_module": "@jupyter-widgets/controls",
            "_model_module_version": "1.5.0",
            "_model_name": "HTMLModel",
            "_view_count": null,
            "_view_module": "@jupyter-widgets/controls",
            "_view_module_version": "1.5.0",
            "_view_name": "HTMLView",
            "description": "",
            "description_tooltip": null,
            "layout": "IPY_MODEL_582b9ee56f5a4bb4912fd0ade15f8cc2",
            "placeholder": "​",
            "style": "IPY_MODEL_544a5287785e4f0eba6c9c8947af4ee8",
            "value": "Generating train split: "
          }
        },
        "4fa4460cc23d452b97fd6c80433e22b3": {
          "model_module": "@jupyter-widgets/controls",
          "model_name": "FloatProgressModel",
          "model_module_version": "1.5.0",
          "state": {
            "_dom_classes": [],
            "_model_module": "@jupyter-widgets/controls",
            "_model_module_version": "1.5.0",
            "_model_name": "FloatProgressModel",
            "_view_count": null,
            "_view_module": "@jupyter-widgets/controls",
            "_view_module_version": "1.5.0",
            "_view_name": "ProgressView",
            "bar_style": "success",
            "description": "",
            "description_tooltip": null,
            "layout": "IPY_MODEL_10f99ee6e76b46f0b8072b888b5eb3ed",
            "max": 1,
            "min": 0,
            "orientation": "horizontal",
            "style": "IPY_MODEL_615cf67394464343ad5ea54078adb5ee",
            "value": 1
          }
        },
        "ab38d5fbf42d4ca89326c8d26b291a68": {
          "model_module": "@jupyter-widgets/controls",
          "model_name": "HTMLModel",
          "model_module_version": "1.5.0",
          "state": {
            "_dom_classes": [],
            "_model_module": "@jupyter-widgets/controls",
            "_model_module_version": "1.5.0",
            "_model_name": "HTMLModel",
            "_view_count": null,
            "_view_module": "@jupyter-widgets/controls",
            "_view_module_version": "1.5.0",
            "_view_name": "HTMLView",
            "description": "",
            "description_tooltip": null,
            "layout": "IPY_MODEL_ee185de2fc524b7a96d79b109efe8166",
            "placeholder": "​",
            "style": "IPY_MODEL_7022cae1a59642f3bdd5ce325669313f",
            "value": " 3000/0 [00:00&lt;00:00, 24100.99 examples/s]"
          }
        },
        "d2e350f1d7fe4f9f863170652da3928b": {
          "model_module": "@jupyter-widgets/base",
          "model_name": "LayoutModel",
          "model_module_version": "1.2.0",
          "state": {
            "_model_module": "@jupyter-widgets/base",
            "_model_module_version": "1.2.0",
            "_model_name": "LayoutModel",
            "_view_count": null,
            "_view_module": "@jupyter-widgets/base",
            "_view_module_version": "1.2.0",
            "_view_name": "LayoutView",
            "align_content": null,
            "align_items": null,
            "align_self": null,
            "border": null,
            "bottom": null,
            "display": null,
            "flex": null,
            "flex_flow": null,
            "grid_area": null,
            "grid_auto_columns": null,
            "grid_auto_flow": null,
            "grid_auto_rows": null,
            "grid_column": null,
            "grid_gap": null,
            "grid_row": null,
            "grid_template_areas": null,
            "grid_template_columns": null,
            "grid_template_rows": null,
            "height": null,
            "justify_content": null,
            "justify_items": null,
            "left": null,
            "margin": null,
            "max_height": null,
            "max_width": null,
            "min_height": null,
            "min_width": null,
            "object_fit": null,
            "object_position": null,
            "order": null,
            "overflow": null,
            "overflow_x": null,
            "overflow_y": null,
            "padding": null,
            "right": null,
            "top": null,
            "visibility": null,
            "width": null
          }
        },
        "582b9ee56f5a4bb4912fd0ade15f8cc2": {
          "model_module": "@jupyter-widgets/base",
          "model_name": "LayoutModel",
          "model_module_version": "1.2.0",
          "state": {
            "_model_module": "@jupyter-widgets/base",
            "_model_module_version": "1.2.0",
            "_model_name": "LayoutModel",
            "_view_count": null,
            "_view_module": "@jupyter-widgets/base",
            "_view_module_version": "1.2.0",
            "_view_name": "LayoutView",
            "align_content": null,
            "align_items": null,
            "align_self": null,
            "border": null,
            "bottom": null,
            "display": null,
            "flex": null,
            "flex_flow": null,
            "grid_area": null,
            "grid_auto_columns": null,
            "grid_auto_flow": null,
            "grid_auto_rows": null,
            "grid_column": null,
            "grid_gap": null,
            "grid_row": null,
            "grid_template_areas": null,
            "grid_template_columns": null,
            "grid_template_rows": null,
            "height": null,
            "justify_content": null,
            "justify_items": null,
            "left": null,
            "margin": null,
            "max_height": null,
            "max_width": null,
            "min_height": null,
            "min_width": null,
            "object_fit": null,
            "object_position": null,
            "order": null,
            "overflow": null,
            "overflow_x": null,
            "overflow_y": null,
            "padding": null,
            "right": null,
            "top": null,
            "visibility": null,
            "width": null
          }
        },
        "544a5287785e4f0eba6c9c8947af4ee8": {
          "model_module": "@jupyter-widgets/controls",
          "model_name": "DescriptionStyleModel",
          "model_module_version": "1.5.0",
          "state": {
            "_model_module": "@jupyter-widgets/controls",
            "_model_module_version": "1.5.0",
            "_model_name": "DescriptionStyleModel",
            "_view_count": null,
            "_view_module": "@jupyter-widgets/base",
            "_view_module_version": "1.2.0",
            "_view_name": "StyleView",
            "description_width": ""
          }
        },
        "10f99ee6e76b46f0b8072b888b5eb3ed": {
          "model_module": "@jupyter-widgets/base",
          "model_name": "LayoutModel",
          "model_module_version": "1.2.0",
          "state": {
            "_model_module": "@jupyter-widgets/base",
            "_model_module_version": "1.2.0",
            "_model_name": "LayoutModel",
            "_view_count": null,
            "_view_module": "@jupyter-widgets/base",
            "_view_module_version": "1.2.0",
            "_view_name": "LayoutView",
            "align_content": null,
            "align_items": null,
            "align_self": null,
            "border": null,
            "bottom": null,
            "display": null,
            "flex": null,
            "flex_flow": null,
            "grid_area": null,
            "grid_auto_columns": null,
            "grid_auto_flow": null,
            "grid_auto_rows": null,
            "grid_column": null,
            "grid_gap": null,
            "grid_row": null,
            "grid_template_areas": null,
            "grid_template_columns": null,
            "grid_template_rows": null,
            "height": null,
            "justify_content": null,
            "justify_items": null,
            "left": null,
            "margin": null,
            "max_height": null,
            "max_width": null,
            "min_height": null,
            "min_width": null,
            "object_fit": null,
            "object_position": null,
            "order": null,
            "overflow": null,
            "overflow_x": null,
            "overflow_y": null,
            "padding": null,
            "right": null,
            "top": null,
            "visibility": null,
            "width": "20px"
          }
        },
        "615cf67394464343ad5ea54078adb5ee": {
          "model_module": "@jupyter-widgets/controls",
          "model_name": "ProgressStyleModel",
          "model_module_version": "1.5.0",
          "state": {
            "_model_module": "@jupyter-widgets/controls",
            "_model_module_version": "1.5.0",
            "_model_name": "ProgressStyleModel",
            "_view_count": null,
            "_view_module": "@jupyter-widgets/base",
            "_view_module_version": "1.2.0",
            "_view_name": "StyleView",
            "bar_color": null,
            "description_width": ""
          }
        },
        "ee185de2fc524b7a96d79b109efe8166": {
          "model_module": "@jupyter-widgets/base",
          "model_name": "LayoutModel",
          "model_module_version": "1.2.0",
          "state": {
            "_model_module": "@jupyter-widgets/base",
            "_model_module_version": "1.2.0",
            "_model_name": "LayoutModel",
            "_view_count": null,
            "_view_module": "@jupyter-widgets/base",
            "_view_module_version": "1.2.0",
            "_view_name": "LayoutView",
            "align_content": null,
            "align_items": null,
            "align_self": null,
            "border": null,
            "bottom": null,
            "display": null,
            "flex": null,
            "flex_flow": null,
            "grid_area": null,
            "grid_auto_columns": null,
            "grid_auto_flow": null,
            "grid_auto_rows": null,
            "grid_column": null,
            "grid_gap": null,
            "grid_row": null,
            "grid_template_areas": null,
            "grid_template_columns": null,
            "grid_template_rows": null,
            "height": null,
            "justify_content": null,
            "justify_items": null,
            "left": null,
            "margin": null,
            "max_height": null,
            "max_width": null,
            "min_height": null,
            "min_width": null,
            "object_fit": null,
            "object_position": null,
            "order": null,
            "overflow": null,
            "overflow_x": null,
            "overflow_y": null,
            "padding": null,
            "right": null,
            "top": null,
            "visibility": null,
            "width": null
          }
        },
        "7022cae1a59642f3bdd5ce325669313f": {
          "model_module": "@jupyter-widgets/controls",
          "model_name": "DescriptionStyleModel",
          "model_module_version": "1.5.0",
          "state": {
            "_model_module": "@jupyter-widgets/controls",
            "_model_module_version": "1.5.0",
            "_model_name": "DescriptionStyleModel",
            "_view_count": null,
            "_view_module": "@jupyter-widgets/base",
            "_view_module_version": "1.2.0",
            "_view_name": "StyleView",
            "description_width": ""
          }
        },
        "6a395c5e0285453c9ed6ae90d8d0aeee": {
          "model_module": "@jupyter-widgets/controls",
          "model_name": "HBoxModel",
          "model_module_version": "1.5.0",
          "state": {
            "_dom_classes": [],
            "_model_module": "@jupyter-widgets/controls",
            "_model_module_version": "1.5.0",
            "_model_name": "HBoxModel",
            "_view_count": null,
            "_view_module": "@jupyter-widgets/controls",
            "_view_module_version": "1.5.0",
            "_view_name": "HBoxView",
            "box_style": "",
            "children": [
              "IPY_MODEL_4d9c53a382e448b28663b23b5e41d4a7",
              "IPY_MODEL_bb81c195279a4594b02d0fb75713bd6f",
              "IPY_MODEL_4386f727680d4d7b947cf63f0bc1da53"
            ],
            "layout": "IPY_MODEL_a2a5d746574f410592cb0146b1b1a4b1"
          }
        },
        "4d9c53a382e448b28663b23b5e41d4a7": {
          "model_module": "@jupyter-widgets/controls",
          "model_name": "HTMLModel",
          "model_module_version": "1.5.0",
          "state": {
            "_dom_classes": [],
            "_model_module": "@jupyter-widgets/controls",
            "_model_module_version": "1.5.0",
            "_model_name": "HTMLModel",
            "_view_count": null,
            "_view_module": "@jupyter-widgets/controls",
            "_view_module_version": "1.5.0",
            "_view_name": "HTMLView",
            "description": "",
            "description_tooltip": null,
            "layout": "IPY_MODEL_8cc107adb3be4578b31a698c973a5cb7",
            "placeholder": "​",
            "style": "IPY_MODEL_a82f12403f4b4a9d8d875664bc16ffdb",
            "value": "Map: 100%"
          }
        },
        "bb81c195279a4594b02d0fb75713bd6f": {
          "model_module": "@jupyter-widgets/controls",
          "model_name": "FloatProgressModel",
          "model_module_version": "1.5.0",
          "state": {
            "_dom_classes": [],
            "_model_module": "@jupyter-widgets/controls",
            "_model_module_version": "1.5.0",
            "_model_name": "FloatProgressModel",
            "_view_count": null,
            "_view_module": "@jupyter-widgets/controls",
            "_view_module_version": "1.5.0",
            "_view_name": "ProgressView",
            "bar_style": "success",
            "description": "",
            "description_tooltip": null,
            "layout": "IPY_MODEL_1b6f872cb29d4584aad26d8060dabd6d",
            "max": 71027,
            "min": 0,
            "orientation": "horizontal",
            "style": "IPY_MODEL_c2cba8f6e7f842d9be20be725943a6d2",
            "value": 71027
          }
        },
        "4386f727680d4d7b947cf63f0bc1da53": {
          "model_module": "@jupyter-widgets/controls",
          "model_name": "HTMLModel",
          "model_module_version": "1.5.0",
          "state": {
            "_dom_classes": [],
            "_model_module": "@jupyter-widgets/controls",
            "_model_module_version": "1.5.0",
            "_model_name": "HTMLModel",
            "_view_count": null,
            "_view_module": "@jupyter-widgets/controls",
            "_view_module_version": "1.5.0",
            "_view_name": "HTMLView",
            "description": "",
            "description_tooltip": null,
            "layout": "IPY_MODEL_b2a1e728fecf40488ad90e132bdb7fd3",
            "placeholder": "​",
            "style": "IPY_MODEL_b1bbf32d1b824c92be3565c330e8ab73",
            "value": " 71027/71027 [02:19&lt;00:00, 625.26 examples/s]"
          }
        },
        "a2a5d746574f410592cb0146b1b1a4b1": {
          "model_module": "@jupyter-widgets/base",
          "model_name": "LayoutModel",
          "model_module_version": "1.2.0",
          "state": {
            "_model_module": "@jupyter-widgets/base",
            "_model_module_version": "1.2.0",
            "_model_name": "LayoutModel",
            "_view_count": null,
            "_view_module": "@jupyter-widgets/base",
            "_view_module_version": "1.2.0",
            "_view_name": "LayoutView",
            "align_content": null,
            "align_items": null,
            "align_self": null,
            "border": null,
            "bottom": null,
            "display": null,
            "flex": null,
            "flex_flow": null,
            "grid_area": null,
            "grid_auto_columns": null,
            "grid_auto_flow": null,
            "grid_auto_rows": null,
            "grid_column": null,
            "grid_gap": null,
            "grid_row": null,
            "grid_template_areas": null,
            "grid_template_columns": null,
            "grid_template_rows": null,
            "height": null,
            "justify_content": null,
            "justify_items": null,
            "left": null,
            "margin": null,
            "max_height": null,
            "max_width": null,
            "min_height": null,
            "min_width": null,
            "object_fit": null,
            "object_position": null,
            "order": null,
            "overflow": null,
            "overflow_x": null,
            "overflow_y": null,
            "padding": null,
            "right": null,
            "top": null,
            "visibility": null,
            "width": null
          }
        },
        "8cc107adb3be4578b31a698c973a5cb7": {
          "model_module": "@jupyter-widgets/base",
          "model_name": "LayoutModel",
          "model_module_version": "1.2.0",
          "state": {
            "_model_module": "@jupyter-widgets/base",
            "_model_module_version": "1.2.0",
            "_model_name": "LayoutModel",
            "_view_count": null,
            "_view_module": "@jupyter-widgets/base",
            "_view_module_version": "1.2.0",
            "_view_name": "LayoutView",
            "align_content": null,
            "align_items": null,
            "align_self": null,
            "border": null,
            "bottom": null,
            "display": null,
            "flex": null,
            "flex_flow": null,
            "grid_area": null,
            "grid_auto_columns": null,
            "grid_auto_flow": null,
            "grid_auto_rows": null,
            "grid_column": null,
            "grid_gap": null,
            "grid_row": null,
            "grid_template_areas": null,
            "grid_template_columns": null,
            "grid_template_rows": null,
            "height": null,
            "justify_content": null,
            "justify_items": null,
            "left": null,
            "margin": null,
            "max_height": null,
            "max_width": null,
            "min_height": null,
            "min_width": null,
            "object_fit": null,
            "object_position": null,
            "order": null,
            "overflow": null,
            "overflow_x": null,
            "overflow_y": null,
            "padding": null,
            "right": null,
            "top": null,
            "visibility": null,
            "width": null
          }
        },
        "a82f12403f4b4a9d8d875664bc16ffdb": {
          "model_module": "@jupyter-widgets/controls",
          "model_name": "DescriptionStyleModel",
          "model_module_version": "1.5.0",
          "state": {
            "_model_module": "@jupyter-widgets/controls",
            "_model_module_version": "1.5.0",
            "_model_name": "DescriptionStyleModel",
            "_view_count": null,
            "_view_module": "@jupyter-widgets/base",
            "_view_module_version": "1.2.0",
            "_view_name": "StyleView",
            "description_width": ""
          }
        },
        "1b6f872cb29d4584aad26d8060dabd6d": {
          "model_module": "@jupyter-widgets/base",
          "model_name": "LayoutModel",
          "model_module_version": "1.2.0",
          "state": {
            "_model_module": "@jupyter-widgets/base",
            "_model_module_version": "1.2.0",
            "_model_name": "LayoutModel",
            "_view_count": null,
            "_view_module": "@jupyter-widgets/base",
            "_view_module_version": "1.2.0",
            "_view_name": "LayoutView",
            "align_content": null,
            "align_items": null,
            "align_self": null,
            "border": null,
            "bottom": null,
            "display": null,
            "flex": null,
            "flex_flow": null,
            "grid_area": null,
            "grid_auto_columns": null,
            "grid_auto_flow": null,
            "grid_auto_rows": null,
            "grid_column": null,
            "grid_gap": null,
            "grid_row": null,
            "grid_template_areas": null,
            "grid_template_columns": null,
            "grid_template_rows": null,
            "height": null,
            "justify_content": null,
            "justify_items": null,
            "left": null,
            "margin": null,
            "max_height": null,
            "max_width": null,
            "min_height": null,
            "min_width": null,
            "object_fit": null,
            "object_position": null,
            "order": null,
            "overflow": null,
            "overflow_x": null,
            "overflow_y": null,
            "padding": null,
            "right": null,
            "top": null,
            "visibility": null,
            "width": null
          }
        },
        "c2cba8f6e7f842d9be20be725943a6d2": {
          "model_module": "@jupyter-widgets/controls",
          "model_name": "ProgressStyleModel",
          "model_module_version": "1.5.0",
          "state": {
            "_model_module": "@jupyter-widgets/controls",
            "_model_module_version": "1.5.0",
            "_model_name": "ProgressStyleModel",
            "_view_count": null,
            "_view_module": "@jupyter-widgets/base",
            "_view_module_version": "1.2.0",
            "_view_name": "StyleView",
            "bar_color": null,
            "description_width": ""
          }
        },
        "b2a1e728fecf40488ad90e132bdb7fd3": {
          "model_module": "@jupyter-widgets/base",
          "model_name": "LayoutModel",
          "model_module_version": "1.2.0",
          "state": {
            "_model_module": "@jupyter-widgets/base",
            "_model_module_version": "1.2.0",
            "_model_name": "LayoutModel",
            "_view_count": null,
            "_view_module": "@jupyter-widgets/base",
            "_view_module_version": "1.2.0",
            "_view_name": "LayoutView",
            "align_content": null,
            "align_items": null,
            "align_self": null,
            "border": null,
            "bottom": null,
            "display": null,
            "flex": null,
            "flex_flow": null,
            "grid_area": null,
            "grid_auto_columns": null,
            "grid_auto_flow": null,
            "grid_auto_rows": null,
            "grid_column": null,
            "grid_gap": null,
            "grid_row": null,
            "grid_template_areas": null,
            "grid_template_columns": null,
            "grid_template_rows": null,
            "height": null,
            "justify_content": null,
            "justify_items": null,
            "left": null,
            "margin": null,
            "max_height": null,
            "max_width": null,
            "min_height": null,
            "min_width": null,
            "object_fit": null,
            "object_position": null,
            "order": null,
            "overflow": null,
            "overflow_x": null,
            "overflow_y": null,
            "padding": null,
            "right": null,
            "top": null,
            "visibility": null,
            "width": null
          }
        },
        "b1bbf32d1b824c92be3565c330e8ab73": {
          "model_module": "@jupyter-widgets/controls",
          "model_name": "DescriptionStyleModel",
          "model_module_version": "1.5.0",
          "state": {
            "_model_module": "@jupyter-widgets/controls",
            "_model_module_version": "1.5.0",
            "_model_name": "DescriptionStyleModel",
            "_view_count": null,
            "_view_module": "@jupyter-widgets/base",
            "_view_module_version": "1.2.0",
            "_view_name": "StyleView",
            "description_width": ""
          }
        },
        "2730261e869c4aae9b3a22d6efabdebd": {
          "model_module": "@jupyter-widgets/controls",
          "model_name": "HBoxModel",
          "model_module_version": "1.5.0",
          "state": {
            "_dom_classes": [],
            "_model_module": "@jupyter-widgets/controls",
            "_model_module_version": "1.5.0",
            "_model_name": "HBoxModel",
            "_view_count": null,
            "_view_module": "@jupyter-widgets/controls",
            "_view_module_version": "1.5.0",
            "_view_name": "HBoxView",
            "box_style": "",
            "children": [
              "IPY_MODEL_2a57c1d9c65f479bae6a70636d16c467",
              "IPY_MODEL_4d8f0431b96443f0afd352ee19980ea7",
              "IPY_MODEL_5cea9650443046d1a512b6689d394c88"
            ],
            "layout": "IPY_MODEL_c1a678e60a4345ce93e80c3e4c33a445"
          }
        },
        "2a57c1d9c65f479bae6a70636d16c467": {
          "model_module": "@jupyter-widgets/controls",
          "model_name": "HTMLModel",
          "model_module_version": "1.5.0",
          "state": {
            "_dom_classes": [],
            "_model_module": "@jupyter-widgets/controls",
            "_model_module_version": "1.5.0",
            "_model_name": "HTMLModel",
            "_view_count": null,
            "_view_module": "@jupyter-widgets/controls",
            "_view_module_version": "1.5.0",
            "_view_name": "HTMLView",
            "description": "",
            "description_tooltip": null,
            "layout": "IPY_MODEL_8e99c9a8465f44398ff1a7412f6e5d54",
            "placeholder": "​",
            "style": "IPY_MODEL_f22f9a4b399449d09d698083297819b1",
            "value": "Map: 100%"
          }
        },
        "4d8f0431b96443f0afd352ee19980ea7": {
          "model_module": "@jupyter-widgets/controls",
          "model_name": "FloatProgressModel",
          "model_module_version": "1.5.0",
          "state": {
            "_dom_classes": [],
            "_model_module": "@jupyter-widgets/controls",
            "_model_module_version": "1.5.0",
            "_model_name": "FloatProgressModel",
            "_view_count": null,
            "_view_module": "@jupyter-widgets/controls",
            "_view_module_version": "1.5.0",
            "_view_name": "ProgressView",
            "bar_style": "success",
            "description": "",
            "description_tooltip": null,
            "layout": "IPY_MODEL_69a794bea0464143aef0a44c927c70a7",
            "max": 3000,
            "min": 0,
            "orientation": "horizontal",
            "style": "IPY_MODEL_712be29ac69e47de8180710860179b45",
            "value": 3000
          }
        },
        "5cea9650443046d1a512b6689d394c88": {
          "model_module": "@jupyter-widgets/controls",
          "model_name": "HTMLModel",
          "model_module_version": "1.5.0",
          "state": {
            "_dom_classes": [],
            "_model_module": "@jupyter-widgets/controls",
            "_model_module_version": "1.5.0",
            "_model_name": "HTMLModel",
            "_view_count": null,
            "_view_module": "@jupyter-widgets/controls",
            "_view_module_version": "1.5.0",
            "_view_name": "HTMLView",
            "description": "",
            "description_tooltip": null,
            "layout": "IPY_MODEL_17c5a176fafb49c4a6b40ab164a56712",
            "placeholder": "​",
            "style": "IPY_MODEL_7d17dcb201ad4839a6fca9d635605141",
            "value": " 3000/3000 [00:05&lt;00:00, 441.91 examples/s]"
          }
        },
        "c1a678e60a4345ce93e80c3e4c33a445": {
          "model_module": "@jupyter-widgets/base",
          "model_name": "LayoutModel",
          "model_module_version": "1.2.0",
          "state": {
            "_model_module": "@jupyter-widgets/base",
            "_model_module_version": "1.2.0",
            "_model_name": "LayoutModel",
            "_view_count": null,
            "_view_module": "@jupyter-widgets/base",
            "_view_module_version": "1.2.0",
            "_view_name": "LayoutView",
            "align_content": null,
            "align_items": null,
            "align_self": null,
            "border": null,
            "bottom": null,
            "display": null,
            "flex": null,
            "flex_flow": null,
            "grid_area": null,
            "grid_auto_columns": null,
            "grid_auto_flow": null,
            "grid_auto_rows": null,
            "grid_column": null,
            "grid_gap": null,
            "grid_row": null,
            "grid_template_areas": null,
            "grid_template_columns": null,
            "grid_template_rows": null,
            "height": null,
            "justify_content": null,
            "justify_items": null,
            "left": null,
            "margin": null,
            "max_height": null,
            "max_width": null,
            "min_height": null,
            "min_width": null,
            "object_fit": null,
            "object_position": null,
            "order": null,
            "overflow": null,
            "overflow_x": null,
            "overflow_y": null,
            "padding": null,
            "right": null,
            "top": null,
            "visibility": null,
            "width": null
          }
        },
        "8e99c9a8465f44398ff1a7412f6e5d54": {
          "model_module": "@jupyter-widgets/base",
          "model_name": "LayoutModel",
          "model_module_version": "1.2.0",
          "state": {
            "_model_module": "@jupyter-widgets/base",
            "_model_module_version": "1.2.0",
            "_model_name": "LayoutModel",
            "_view_count": null,
            "_view_module": "@jupyter-widgets/base",
            "_view_module_version": "1.2.0",
            "_view_name": "LayoutView",
            "align_content": null,
            "align_items": null,
            "align_self": null,
            "border": null,
            "bottom": null,
            "display": null,
            "flex": null,
            "flex_flow": null,
            "grid_area": null,
            "grid_auto_columns": null,
            "grid_auto_flow": null,
            "grid_auto_rows": null,
            "grid_column": null,
            "grid_gap": null,
            "grid_row": null,
            "grid_template_areas": null,
            "grid_template_columns": null,
            "grid_template_rows": null,
            "height": null,
            "justify_content": null,
            "justify_items": null,
            "left": null,
            "margin": null,
            "max_height": null,
            "max_width": null,
            "min_height": null,
            "min_width": null,
            "object_fit": null,
            "object_position": null,
            "order": null,
            "overflow": null,
            "overflow_x": null,
            "overflow_y": null,
            "padding": null,
            "right": null,
            "top": null,
            "visibility": null,
            "width": null
          }
        },
        "f22f9a4b399449d09d698083297819b1": {
          "model_module": "@jupyter-widgets/controls",
          "model_name": "DescriptionStyleModel",
          "model_module_version": "1.5.0",
          "state": {
            "_model_module": "@jupyter-widgets/controls",
            "_model_module_version": "1.5.0",
            "_model_name": "DescriptionStyleModel",
            "_view_count": null,
            "_view_module": "@jupyter-widgets/base",
            "_view_module_version": "1.2.0",
            "_view_name": "StyleView",
            "description_width": ""
          }
        },
        "69a794bea0464143aef0a44c927c70a7": {
          "model_module": "@jupyter-widgets/base",
          "model_name": "LayoutModel",
          "model_module_version": "1.2.0",
          "state": {
            "_model_module": "@jupyter-widgets/base",
            "_model_module_version": "1.2.0",
            "_model_name": "LayoutModel",
            "_view_count": null,
            "_view_module": "@jupyter-widgets/base",
            "_view_module_version": "1.2.0",
            "_view_name": "LayoutView",
            "align_content": null,
            "align_items": null,
            "align_self": null,
            "border": null,
            "bottom": null,
            "display": null,
            "flex": null,
            "flex_flow": null,
            "grid_area": null,
            "grid_auto_columns": null,
            "grid_auto_flow": null,
            "grid_auto_rows": null,
            "grid_column": null,
            "grid_gap": null,
            "grid_row": null,
            "grid_template_areas": null,
            "grid_template_columns": null,
            "grid_template_rows": null,
            "height": null,
            "justify_content": null,
            "justify_items": null,
            "left": null,
            "margin": null,
            "max_height": null,
            "max_width": null,
            "min_height": null,
            "min_width": null,
            "object_fit": null,
            "object_position": null,
            "order": null,
            "overflow": null,
            "overflow_x": null,
            "overflow_y": null,
            "padding": null,
            "right": null,
            "top": null,
            "visibility": null,
            "width": null
          }
        },
        "712be29ac69e47de8180710860179b45": {
          "model_module": "@jupyter-widgets/controls",
          "model_name": "ProgressStyleModel",
          "model_module_version": "1.5.0",
          "state": {
            "_model_module": "@jupyter-widgets/controls",
            "_model_module_version": "1.5.0",
            "_model_name": "ProgressStyleModel",
            "_view_count": null,
            "_view_module": "@jupyter-widgets/base",
            "_view_module_version": "1.2.0",
            "_view_name": "StyleView",
            "bar_color": null,
            "description_width": ""
          }
        },
        "17c5a176fafb49c4a6b40ab164a56712": {
          "model_module": "@jupyter-widgets/base",
          "model_name": "LayoutModel",
          "model_module_version": "1.2.0",
          "state": {
            "_model_module": "@jupyter-widgets/base",
            "_model_module_version": "1.2.0",
            "_model_name": "LayoutModel",
            "_view_count": null,
            "_view_module": "@jupyter-widgets/base",
            "_view_module_version": "1.2.0",
            "_view_name": "LayoutView",
            "align_content": null,
            "align_items": null,
            "align_self": null,
            "border": null,
            "bottom": null,
            "display": null,
            "flex": null,
            "flex_flow": null,
            "grid_area": null,
            "grid_auto_columns": null,
            "grid_auto_flow": null,
            "grid_auto_rows": null,
            "grid_column": null,
            "grid_gap": null,
            "grid_row": null,
            "grid_template_areas": null,
            "grid_template_columns": null,
            "grid_template_rows": null,
            "height": null,
            "justify_content": null,
            "justify_items": null,
            "left": null,
            "margin": null,
            "max_height": null,
            "max_width": null,
            "min_height": null,
            "min_width": null,
            "object_fit": null,
            "object_position": null,
            "order": null,
            "overflow": null,
            "overflow_x": null,
            "overflow_y": null,
            "padding": null,
            "right": null,
            "top": null,
            "visibility": null,
            "width": null
          }
        },
        "7d17dcb201ad4839a6fca9d635605141": {
          "model_module": "@jupyter-widgets/controls",
          "model_name": "DescriptionStyleModel",
          "model_module_version": "1.5.0",
          "state": {
            "_model_module": "@jupyter-widgets/controls",
            "_model_module_version": "1.5.0",
            "_model_name": "DescriptionStyleModel",
            "_view_count": null,
            "_view_module": "@jupyter-widgets/base",
            "_view_module_version": "1.2.0",
            "_view_name": "StyleView",
            "description_width": ""
          }
        },
        "86f70283449e4ebe82d47c2b7bc54e2d": {
          "model_module": "@jupyter-widgets/controls",
          "model_name": "HBoxModel",
          "model_module_version": "1.5.0",
          "state": {
            "_dom_classes": [],
            "_model_module": "@jupyter-widgets/controls",
            "_model_module_version": "1.5.0",
            "_model_name": "HBoxModel",
            "_view_count": null,
            "_view_module": "@jupyter-widgets/controls",
            "_view_module_version": "1.5.0",
            "_view_name": "HBoxView",
            "box_style": "",
            "children": [
              "IPY_MODEL_3e151504fb0c49e3936e511f5c49d48f",
              "IPY_MODEL_c5da87ff501e4fce97b2bc6399bb258c",
              "IPY_MODEL_cf096a0581bd4fdcaaa3d6213871d397"
            ],
            "layout": "IPY_MODEL_9b364e102db2468db52ade7bbcc28a79"
          }
        },
        "3e151504fb0c49e3936e511f5c49d48f": {
          "model_module": "@jupyter-widgets/controls",
          "model_name": "HTMLModel",
          "model_module_version": "1.5.0",
          "state": {
            "_dom_classes": [],
            "_model_module": "@jupyter-widgets/controls",
            "_model_module_version": "1.5.0",
            "_model_name": "HTMLModel",
            "_view_count": null,
            "_view_module": "@jupyter-widgets/controls",
            "_view_module_version": "1.5.0",
            "_view_name": "HTMLView",
            "description": "",
            "description_tooltip": null,
            "layout": "IPY_MODEL_5737f55d57a94c8a8bdd5014d80fc0d2",
            "placeholder": "​",
            "style": "IPY_MODEL_1b463074419e4a98aa339ca0fbe07e14",
            "value": "Downloading builder script: 100%"
          }
        },
        "c5da87ff501e4fce97b2bc6399bb258c": {
          "model_module": "@jupyter-widgets/controls",
          "model_name": "FloatProgressModel",
          "model_module_version": "1.5.0",
          "state": {
            "_dom_classes": [],
            "_model_module": "@jupyter-widgets/controls",
            "_model_module_version": "1.5.0",
            "_model_name": "FloatProgressModel",
            "_view_count": null,
            "_view_module": "@jupyter-widgets/controls",
            "_view_module_version": "1.5.0",
            "_view_name": "ProgressView",
            "bar_style": "success",
            "description": "",
            "description_tooltip": null,
            "layout": "IPY_MODEL_a66b024eca484e039aae16b7f41d0927",
            "max": 4203,
            "min": 0,
            "orientation": "horizontal",
            "style": "IPY_MODEL_67b7afad1a8444549ff07da8c51c9993",
            "value": 4203
          }
        },
        "cf096a0581bd4fdcaaa3d6213871d397": {
          "model_module": "@jupyter-widgets/controls",
          "model_name": "HTMLModel",
          "model_module_version": "1.5.0",
          "state": {
            "_dom_classes": [],
            "_model_module": "@jupyter-widgets/controls",
            "_model_module_version": "1.5.0",
            "_model_name": "HTMLModel",
            "_view_count": null,
            "_view_module": "@jupyter-widgets/controls",
            "_view_module_version": "1.5.0",
            "_view_name": "HTMLView",
            "description": "",
            "description_tooltip": null,
            "layout": "IPY_MODEL_0a979318d186435e83205123ef932a47",
            "placeholder": "​",
            "style": "IPY_MODEL_3a6ee613d76248e190f853bf2a514b72",
            "value": " 4.20k/4.20k [00:00&lt;00:00, 285kB/s]"
          }
        },
        "9b364e102db2468db52ade7bbcc28a79": {
          "model_module": "@jupyter-widgets/base",
          "model_name": "LayoutModel",
          "model_module_version": "1.2.0",
          "state": {
            "_model_module": "@jupyter-widgets/base",
            "_model_module_version": "1.2.0",
            "_model_name": "LayoutModel",
            "_view_count": null,
            "_view_module": "@jupyter-widgets/base",
            "_view_module_version": "1.2.0",
            "_view_name": "LayoutView",
            "align_content": null,
            "align_items": null,
            "align_self": null,
            "border": null,
            "bottom": null,
            "display": null,
            "flex": null,
            "flex_flow": null,
            "grid_area": null,
            "grid_auto_columns": null,
            "grid_auto_flow": null,
            "grid_auto_rows": null,
            "grid_column": null,
            "grid_gap": null,
            "grid_row": null,
            "grid_template_areas": null,
            "grid_template_columns": null,
            "grid_template_rows": null,
            "height": null,
            "justify_content": null,
            "justify_items": null,
            "left": null,
            "margin": null,
            "max_height": null,
            "max_width": null,
            "min_height": null,
            "min_width": null,
            "object_fit": null,
            "object_position": null,
            "order": null,
            "overflow": null,
            "overflow_x": null,
            "overflow_y": null,
            "padding": null,
            "right": null,
            "top": null,
            "visibility": null,
            "width": null
          }
        },
        "5737f55d57a94c8a8bdd5014d80fc0d2": {
          "model_module": "@jupyter-widgets/base",
          "model_name": "LayoutModel",
          "model_module_version": "1.2.0",
          "state": {
            "_model_module": "@jupyter-widgets/base",
            "_model_module_version": "1.2.0",
            "_model_name": "LayoutModel",
            "_view_count": null,
            "_view_module": "@jupyter-widgets/base",
            "_view_module_version": "1.2.0",
            "_view_name": "LayoutView",
            "align_content": null,
            "align_items": null,
            "align_self": null,
            "border": null,
            "bottom": null,
            "display": null,
            "flex": null,
            "flex_flow": null,
            "grid_area": null,
            "grid_auto_columns": null,
            "grid_auto_flow": null,
            "grid_auto_rows": null,
            "grid_column": null,
            "grid_gap": null,
            "grid_row": null,
            "grid_template_areas": null,
            "grid_template_columns": null,
            "grid_template_rows": null,
            "height": null,
            "justify_content": null,
            "justify_items": null,
            "left": null,
            "margin": null,
            "max_height": null,
            "max_width": null,
            "min_height": null,
            "min_width": null,
            "object_fit": null,
            "object_position": null,
            "order": null,
            "overflow": null,
            "overflow_x": null,
            "overflow_y": null,
            "padding": null,
            "right": null,
            "top": null,
            "visibility": null,
            "width": null
          }
        },
        "1b463074419e4a98aa339ca0fbe07e14": {
          "model_module": "@jupyter-widgets/controls",
          "model_name": "DescriptionStyleModel",
          "model_module_version": "1.5.0",
          "state": {
            "_model_module": "@jupyter-widgets/controls",
            "_model_module_version": "1.5.0",
            "_model_name": "DescriptionStyleModel",
            "_view_count": null,
            "_view_module": "@jupyter-widgets/base",
            "_view_module_version": "1.2.0",
            "_view_name": "StyleView",
            "description_width": ""
          }
        },
        "a66b024eca484e039aae16b7f41d0927": {
          "model_module": "@jupyter-widgets/base",
          "model_name": "LayoutModel",
          "model_module_version": "1.2.0",
          "state": {
            "_model_module": "@jupyter-widgets/base",
            "_model_module_version": "1.2.0",
            "_model_name": "LayoutModel",
            "_view_count": null,
            "_view_module": "@jupyter-widgets/base",
            "_view_module_version": "1.2.0",
            "_view_name": "LayoutView",
            "align_content": null,
            "align_items": null,
            "align_self": null,
            "border": null,
            "bottom": null,
            "display": null,
            "flex": null,
            "flex_flow": null,
            "grid_area": null,
            "grid_auto_columns": null,
            "grid_auto_flow": null,
            "grid_auto_rows": null,
            "grid_column": null,
            "grid_gap": null,
            "grid_row": null,
            "grid_template_areas": null,
            "grid_template_columns": null,
            "grid_template_rows": null,
            "height": null,
            "justify_content": null,
            "justify_items": null,
            "left": null,
            "margin": null,
            "max_height": null,
            "max_width": null,
            "min_height": null,
            "min_width": null,
            "object_fit": null,
            "object_position": null,
            "order": null,
            "overflow": null,
            "overflow_x": null,
            "overflow_y": null,
            "padding": null,
            "right": null,
            "top": null,
            "visibility": null,
            "width": null
          }
        },
        "67b7afad1a8444549ff07da8c51c9993": {
          "model_module": "@jupyter-widgets/controls",
          "model_name": "ProgressStyleModel",
          "model_module_version": "1.5.0",
          "state": {
            "_model_module": "@jupyter-widgets/controls",
            "_model_module_version": "1.5.0",
            "_model_name": "ProgressStyleModel",
            "_view_count": null,
            "_view_module": "@jupyter-widgets/base",
            "_view_module_version": "1.2.0",
            "_view_name": "StyleView",
            "bar_color": null,
            "description_width": ""
          }
        },
        "0a979318d186435e83205123ef932a47": {
          "model_module": "@jupyter-widgets/base",
          "model_name": "LayoutModel",
          "model_module_version": "1.2.0",
          "state": {
            "_model_module": "@jupyter-widgets/base",
            "_model_module_version": "1.2.0",
            "_model_name": "LayoutModel",
            "_view_count": null,
            "_view_module": "@jupyter-widgets/base",
            "_view_module_version": "1.2.0",
            "_view_name": "LayoutView",
            "align_content": null,
            "align_items": null,
            "align_self": null,
            "border": null,
            "bottom": null,
            "display": null,
            "flex": null,
            "flex_flow": null,
            "grid_area": null,
            "grid_auto_columns": null,
            "grid_auto_flow": null,
            "grid_auto_rows": null,
            "grid_column": null,
            "grid_gap": null,
            "grid_row": null,
            "grid_template_areas": null,
            "grid_template_columns": null,
            "grid_template_rows": null,
            "height": null,
            "justify_content": null,
            "justify_items": null,
            "left": null,
            "margin": null,
            "max_height": null,
            "max_width": null,
            "min_height": null,
            "min_width": null,
            "object_fit": null,
            "object_position": null,
            "order": null,
            "overflow": null,
            "overflow_x": null,
            "overflow_y": null,
            "padding": null,
            "right": null,
            "top": null,
            "visibility": null,
            "width": null
          }
        },
        "3a6ee613d76248e190f853bf2a514b72": {
          "model_module": "@jupyter-widgets/controls",
          "model_name": "DescriptionStyleModel",
          "model_module_version": "1.5.0",
          "state": {
            "_model_module": "@jupyter-widgets/controls",
            "_model_module_version": "1.5.0",
            "_model_name": "DescriptionStyleModel",
            "_view_count": null,
            "_view_module": "@jupyter-widgets/base",
            "_view_module_version": "1.2.0",
            "_view_name": "StyleView",
            "description_width": ""
          }
        }
      }
    }
  },
  "nbformat": 4,
  "nbformat_minor": 0
}